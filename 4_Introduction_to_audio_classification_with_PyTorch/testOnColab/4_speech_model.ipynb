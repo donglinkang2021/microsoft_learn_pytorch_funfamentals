{
  "cells": [
    {
      "cell_type": "markdown",
      "metadata": {
        "id": "RRfy_KdvTpJ7"
      },
      "source": [
        "# Build the speech model\n",
        "\n",
        "Now that we've created spectrogram images, it's time to build the computer vision model. If you're following along with the different modules in this PyTorch learning path, then you should have a good understanding of how to create a computer vision model (in particular, see the \"Introduction to Computer Vision with PyTorch\" Learn module). You'll be using the `torchvision` package to build your vision model. The convolutional neural network (CNN) layer (`conv2d`) will be used to extract the unique features from the spectrogram image for each speech command.\n",
        "\n",
        "Let's import the packages we need to build the model."
      ]
    },
    {
      "cell_type": "code",
      "source": [
        "!pip install torchinfo"
      ],
      "metadata": {
        "colab": {
          "base_uri": "https://localhost:8080/"
        },
        "id": "edlLfaDzadG3",
        "outputId": "6b293e54-2f8e-40c2-9552-525170937c29"
      },
      "execution_count": 1,
      "outputs": [
        {
          "output_type": "stream",
          "name": "stdout",
          "text": [
            "Looking in indexes: https://pypi.org/simple, https://us-python.pkg.dev/colab-wheels/public/simple/\n",
            "Collecting torchinfo\n",
            "  Downloading torchinfo-1.7.2-py3-none-any.whl (22 kB)\n",
            "Installing collected packages: torchinfo\n",
            "Successfully installed torchinfo-1.7.2\n"
          ]
        }
      ]
    },
    {
      "cell_type": "code",
      "execution_count": 2,
      "metadata": {
        "vscode": {
          "languageId": "json"
        },
        "id": "u-Yhp0jUTpJ9"
      },
      "outputs": [],
      "source": [
        "from torch.utils.data import DataLoader\n",
        "from torchvision import datasets, transforms\n",
        "import torch\n",
        "import torchaudio\n",
        "import torch.nn as nn\n",
        "import torch.nn.functional as F\n",
        "import torch.optim as optim\n",
        "import numpy as np\n",
        "import matplotlib.pyplot as plt\n",
        "from torch.utils.data import Dataset, DataLoader\n",
        "from torchvision import datasets, models, transforms\n",
        "from torchinfo import summary\n",
        "import pandas as pd\n",
        "import os"
      ]
    },
    {
      "cell_type": "markdown",
      "metadata": {
        "id": "Xl5w_Tm2TpJ9"
      },
      "source": [
        "## Load spectrogram images into a data loader for training\n",
        "\n",
        "Here, we provide the path to our image data and use PyTorch's `ImageFolder` dataset helper class to load the images into tensors. We'll also normalize the images by resizing to a dimension of 201 x 81."
      ]
    },
    {
      "cell_type": "code",
      "source": [
        "from google.colab import drive\n",
        "drive.mount('/content/drive')"
      ],
      "metadata": {
        "colab": {
          "base_uri": "https://localhost:8080/"
        },
        "id": "Nqe49fk9UaeI",
        "outputId": "85dea666-c75d-405e-d803-a0da945d9007"
      },
      "execution_count": 3,
      "outputs": [
        {
          "output_type": "stream",
          "name": "stdout",
          "text": [
            "Mounted at /content/drive\n"
          ]
        }
      ]
    },
    {
      "cell_type": "code",
      "execution_count": 4,
      "metadata": {
        "vscode": {
          "languageId": "json"
        },
        "colab": {
          "base_uri": "https://localhost:8080/"
        },
        "id": "HQLS8910TpJ9",
        "outputId": "1d741fb3-98e6-4c1e-9ce2-395c6d4d98b2"
      },
      "outputs": [
        {
          "output_type": "stream",
          "name": "stdout",
          "text": [
            "Dataset ImageFolder\n",
            "    Number of datapoints: 7985\n",
            "    Root location: /content/drive/MyDrive/Colab Notebooks/spectrograms\n",
            "    StandardTransform\n",
            "Transform: Compose(\n",
            "               Resize(size=(201, 81), interpolation=bilinear, max_size=None, antialias=None)\n",
            "               ToTensor()\n",
            "           )\n"
          ]
        }
      ],
      "source": [
        "data_path = '/content/drive/MyDrive/Colab Notebooks/spectrograms' #looking in subfolder train\n",
        "\n",
        "yes_no_dataset = datasets.ImageFolder(\n",
        "    root=data_path,\n",
        "    transform=transforms.Compose([transforms.Resize((201,81)),\n",
        "                                  transforms.ToTensor()\n",
        "                                  ])\n",
        ")\n",
        "print(yes_no_dataset)"
      ]
    },
    {
      "cell_type": "markdown",
      "metadata": {
        "id": "Bm72j1yITpJ-"
      },
      "source": [
        "`ImageFolder` automatically creates the image class labels and indices based on the folders for each audio class.  We'll use the `class_to_idx` to view the class mapping for the image dataset.\n",
        "\n",
        "<img alt=\"Folder class index diagram\" src=\"images/4-model-1.png\" align=\"middle\" />"
      ]
    },
    {
      "cell_type": "code",
      "execution_count": 5,
      "metadata": {
        "id": "TsZr-2w3TpJ-",
        "outputId": "9fc04280-5b4f-4cc2-f8b2-86220ec44cc4",
        "colab": {
          "base_uri": "https://localhost:8080/"
        }
      },
      "outputs": [
        {
          "output_type": "stream",
          "name": "stdout",
          "text": [
            "\n",
            "Class category and index of the images: {'no': 0, 'yes': 1}\n",
            "\n"
          ]
        }
      ],
      "source": [
        "class_map=yes_no_dataset.class_to_idx\n",
        "\n",
        "print(\"\\nClass category and index of the images: {}\\n\".format(class_map))"
      ]
    },
    {
      "cell_type": "markdown",
      "metadata": {
        "id": "PbE_vhfkTpJ_"
      },
      "source": [
        "## Split the data for training and testing\n",
        "We'll need to split the data to use 80 percent to train the model, and 20 percent to test."
      ]
    },
    {
      "cell_type": "code",
      "execution_count": 6,
      "metadata": {
        "id": "FeysBc9yTpJ_",
        "outputId": "ef56f30c-7672-4057-97cd-50795628db8d",
        "colab": {
          "base_uri": "https://localhost:8080/"
        }
      },
      "outputs": [
        {
          "output_type": "stream",
          "name": "stdout",
          "text": [
            "Training size: 6388\n",
            "Testing size: 1597\n"
          ]
        }
      ],
      "source": [
        "#split data to test and train\n",
        "#use 80% to train\n",
        "train_size = int(0.8 * len(yes_no_dataset))\n",
        "test_size = len(yes_no_dataset) - train_size\n",
        "yes_no_train_dataset, yes_no_test_dataset = torch.utils.data.random_split(yes_no_dataset, [train_size, test_size])\n",
        "\n",
        "print(\"Training size:\", len(yes_no_train_dataset))\n",
        "print(\"Testing size:\",len(yes_no_test_dataset))"
      ]
    },
    {
      "cell_type": "markdown",
      "metadata": {
        "id": "3j1EUV5sTpJ_"
      },
      "source": [
        "Because the dataset was randomly split, let's count the training data to verify that the data has a fairly even distribution between the images in the `yes` and \n",
        "`no` categories."
      ]
    },
    {
      "cell_type": "code",
      "execution_count": 8,
      "metadata": {
        "id": "ZWCHXnn3TpJ_",
        "outputId": "ac6b2dfa-b5a0-4aa6-edf3-a0bd275e8d8f",
        "colab": {
          "base_uri": "https://localhost:8080/"
        }
      },
      "outputs": [
        {
          "output_type": "execute_result",
          "data": {
            "text/plain": [
              "Counter({0: 3160, 1: 3228})"
            ]
          },
          "metadata": {},
          "execution_count": 8
        }
      ],
      "source": [
        "from collections import Counter\n",
        "\n",
        "# labels in training set\n",
        "train_classes = [label for _, label in yes_no_train_dataset]\n",
        "Counter(train_classes)"
      ]
    },
    {
      "cell_type": "markdown",
      "source": [
        "> 用了15min"
      ],
      "metadata": {
        "id": "zVvJAdffqdtl"
      }
    },
    {
      "cell_type": "markdown",
      "metadata": {
        "id": "lvSeNrDeTpJ_"
      },
      "source": [
        "Load the data into the `DataLoader` and specify the batch size of how the data will be divided and loaded in the training iterations. We'll also set the number of workers to specify the number of subprocesses to load the data."
      ]
    },
    {
      "cell_type": "code",
      "execution_count": 9,
      "metadata": {
        "id": "ybWICKzJTpKA"
      },
      "outputs": [],
      "source": [
        "train_dataloader = torch.utils.data.DataLoader(\n",
        "    yes_no_train_dataset,\n",
        "    batch_size=15,\n",
        "    num_workers=2,\n",
        "    shuffle=True\n",
        ")\n",
        "\n",
        "test_dataloader = torch.utils.data.DataLoader(\n",
        "    yes_no_test_dataset,\n",
        "    batch_size=15,\n",
        "    num_workers=2,\n",
        "    shuffle=True\n",
        ")"
      ]
    },
    {
      "cell_type": "markdown",
      "metadata": {
        "id": "J-8RjsiuTpKA"
      },
      "source": [
        "Let's take a look at what our training tensor looks like:"
      ]
    },
    {
      "cell_type": "code",
      "execution_count": 10,
      "metadata": {
        "id": "UH_DgcUTTpKA",
        "outputId": "406f5671-288f-4cba-d7e1-9368280bef9c",
        "colab": {
          "base_uri": "https://localhost:8080/"
        }
      },
      "outputs": [
        {
          "output_type": "stream",
          "name": "stdout",
          "text": [
            "tensor([0.6980, 0.4941, 0.2706, 0.5137, 0.1451, 0.4745, 0.2431, 0.5255, 0.2784,\n",
            "        0.4941, 0.1804, 0.4941, 0.1176, 0.4863, 0.1294, 0.5451, 0.3020, 0.4941,\n",
            "        0.2196, 0.4941, 0.2196, 0.4745, 0.1216, 0.4941, 0.1412, 0.4667, 0.3020,\n",
            "        0.4745, 0.2431, 0.5059, 0.1725, 0.4941, 0.2784, 0.5059, 0.1216, 0.5333,\n",
            "        0.1216, 0.4667, 0.1412, 0.5137, 0.2196, 0.5059, 0.2235, 0.5451, 0.1882,\n",
            "        0.4667, 0.2588, 0.5059, 0.1804, 0.4863, 0.3020, 0.5059, 0.2667, 0.4471,\n",
            "        0.3333, 0.5255, 0.2196, 0.4549, 0.2431, 0.5137, 0.1490, 0.5059, 0.2941,\n",
            "        0.5255, 0.1216, 0.5137, 0.1176, 0.5059, 0.1373, 0.4275, 0.2941, 0.4941,\n",
            "        0.2196, 0.4667, 0.3255, 0.5137, 0.2392, 0.4863, 0.3333, 0.5137, 0.7098])\n"
          ]
        }
      ],
      "source": [
        "td = train_dataloader.dataset[0][0][0][0]\n",
        "print(td)"
      ]
    },
    {
      "cell_type": "markdown",
      "metadata": {
        "id": "MDOHytxwTpKA"
      },
      "source": [
        "Get GPU for training, or use CPU if GPU isn't available."
      ]
    },
    {
      "cell_type": "code",
      "execution_count": 11,
      "metadata": {
        "id": "uB0Rb4R9TpKA",
        "outputId": "3c2f80b1-1d62-476d-ecd8-024fd0fb4584",
        "colab": {
          "base_uri": "https://localhost:8080/"
        }
      },
      "outputs": [
        {
          "output_type": "stream",
          "name": "stdout",
          "text": [
            "Using cuda device\n"
          ]
        }
      ],
      "source": [
        "device = 'cuda' if torch.cuda.is_available() else 'cpu'\n",
        "print('Using {} device'.format(device))\n"
      ]
    },
    {
      "cell_type": "markdown",
      "metadata": {
        "id": "ZFEUgdbbTpKA"
      },
      "source": [
        "#### Create the convolutional neural network\n",
        "\n",
        "\n",
        "![Diagram showing a convolutional neural network.](./images/4-model-2.png) \n",
        "\n",
        "We'll define our layers and parameters:\n",
        "\n",
        "- `conv2d`: Takes an input of 3 `channels`, which represents RGB colors because our input images are in color. The 32 represents the number of feature map images produced from the convolutional layer. The images are produced after you apply a filter on each image in a channel, with a 5 x 5 kernel size and a stride of 1. `Max pooling` is set with a 2 x 2 kernel size to reduce the dimensions of the filtered images. We apply the `ReLU` activation to replace the negative pixel values to 0.\n",
        "- `conv2d`: Takes the 32 output images from the previous convolutional layer as input. Then, we increase the output number to 64 feature map images, after a filter is applied on the 32 input images, with a 5 x 5 kernel size and a stride of 1. `Max pooling` is set with a 2 x 2 kernel size to reduce the dimensions of the filtered images. We apply the `ReLU` activation to replace the negative pixel values to 0.\n",
        "- `dropout`: Removes some of the features extracted from the `conv2d` layer with the ratio of 0.50, to prevent overfitting.\n",
        "- `flatten`: Converts features from the `conv2d` output image into the linear input layer.\n",
        "- `Linear`: Takes a number of 51136 features as input, and sets the number of outputs from the network to be 50 logits. The next layer will take the 50 inputs and produces 2 logits in the output layer. The `ReLU` activation function will be applied to the neurons across the linear network to replace the negative values to 0. The 2 output values will be used to predict the classification `yes` or `no`.  \n",
        "- `log_Softmax`: An activation function applied to the 2 output values to predict the probability of the audio classification.\n",
        "\n",
        "After defining the CNN, we'll set the device to run it."
      ]
    },
    {
      "cell_type": "code",
      "execution_count": 12,
      "metadata": {
        "scrolled": true,
        "vscode": {
          "languageId": "json"
        },
        "id": "CqBoorCFTpKB"
      },
      "outputs": [],
      "source": [
        "class CNNet(nn.Module):\n",
        "    def __init__(self):\n",
        "        super().__init__()\n",
        "        self.conv1 = nn.Conv2d(3, 32, kernel_size=5)\n",
        "        self.conv2 = nn.Conv2d(32, 64, kernel_size=5)\n",
        "        self.conv2_drop = nn.Dropout2d()\n",
        "        self.flatten = nn.Flatten()\n",
        "        self.fc1 = nn.Linear(51136, 50)\n",
        "        self.fc2 = nn.Linear(50, 2)\n",
        "\n",
        "\n",
        "    def forward(self, x):\n",
        "        x = F.relu(F.max_pool2d(self.conv1(x), 2))\n",
        "        x = F.relu(F.max_pool2d(self.conv2_drop(self.conv2(x)), 2))\n",
        "        #x = x.view(x.size(0), -1)\n",
        "        x = self.flatten(x)\n",
        "        x = F.relu(self.fc1(x))\n",
        "        x = F.dropout(x, training=self.training)\n",
        "        x = F.relu(self.fc2(x))\n",
        "        return F.log_softmax(x,dim=1)  \n",
        "\n",
        "model = CNNet().to(device)"
      ]
    },
    {
      "cell_type": "markdown",
      "metadata": {
        "id": "8UUWD2n4TpKB"
      },
      "source": [
        "## Create train and test functions\n",
        "\n",
        "Now you set the cost function, learning rate, and optimizer. Then you define the train and test functions that you'll use to train and test the model by using the CNN."
      ]
    },
    {
      "cell_type": "code",
      "execution_count": 13,
      "metadata": {
        "vscode": {
          "languageId": "json"
        },
        "id": "Q7mgbMeeTpKB"
      },
      "outputs": [],
      "source": [
        "# cost function used to determine best parameters\n",
        "cost = torch.nn.CrossEntropyLoss()\n",
        "\n",
        "# used to create optimal parameters\n",
        "learning_rate = 0.0001\n",
        "optimizer = torch.optim.Adam(model.parameters(), lr=learning_rate)\n",
        "\n",
        "# Create the training function\n",
        "\n",
        "def train(dataloader, model, loss, optimizer):\n",
        "    model.train()\n",
        "    size = len(dataloader.dataset)\n",
        "    for batch, (X, Y) in enumerate(dataloader):\n",
        "        \n",
        "        X, Y = X.to(device), Y.to(device)\n",
        "        optimizer.zero_grad()\n",
        "        pred = model(X)\n",
        "        loss = cost(pred, Y)\n",
        "        loss.backward()\n",
        "        optimizer.step()\n",
        "\n",
        "        if batch % 100 == 0:\n",
        "            loss, current = loss.item(), batch * len(X)\n",
        "            print(f'loss: {loss:>7f}  [{current:>5d}/{size:>5d}]')\n",
        "\n",
        "\n",
        "# Create the validation/test function\n",
        "\n",
        "def test(dataloader, model):\n",
        "    size = len(dataloader.dataset)\n",
        "    model.eval()\n",
        "    test_loss, correct = 0, 0\n",
        "\n",
        "    with torch.no_grad():\n",
        "        for batch, (X, Y) in enumerate(dataloader):\n",
        "            X, Y = X.to(device), Y.to(device)\n",
        "            pred = model(X)\n",
        "\n",
        "            test_loss += cost(pred, Y).item()\n",
        "            correct += (pred.argmax(1)==Y).type(torch.float).sum().item()\n",
        "\n",
        "    test_loss /= size\n",
        "    correct /= size\n",
        "\n",
        "    print(f'\\nTest Error:\\nacc: {(100*correct):>0.1f}%, avg loss: {test_loss:>8f}\\n')"
      ]
    },
    {
      "cell_type": "markdown",
      "metadata": {
        "id": "iRm1grJyTpKB"
      },
      "source": [
        "## Train the model\n",
        "\n",
        "Now let's set the number of epochs, and call our `train` and `test` functions for each iteration. We'll iterate through the training network by the number of epochs.  As we train the model, we'll calculate the loss as it decreases during the training. In addition, we'll display the accuracy as the optimization increases."
      ]
    },
    {
      "cell_type": "code",
      "execution_count": 14,
      "metadata": {
        "vscode": {
          "languageId": "json"
        },
        "id": "5XpP8CGVTpKB",
        "outputId": "4fe3f1e6-aee3-4107-b09d-5fc3b4ffa239",
        "colab": {
          "base_uri": "https://localhost:8080/"
        }
      },
      "outputs": [
        {
          "output_type": "stream",
          "name": "stdout",
          "text": [
            "Epoch 1\n",
            "-------------------------------\n",
            "loss: 0.692778  [    0/ 6388]\n",
            "loss: 0.693147  [ 1500/ 6388]\n",
            "loss: 0.693147  [ 3000/ 6388]\n",
            "loss: 0.693147  [ 4500/ 6388]\n",
            "loss: 0.693147  [ 6000/ 6388]\n",
            "\n",
            "Test Error:\n",
            "acc: 48.9%, avg loss: 0.046441\n",
            "\n",
            "Epoch 2\n",
            "-------------------------------\n",
            "loss: 0.771585  [    0/ 6388]\n",
            "loss: 0.774825  [ 1500/ 6388]\n",
            "loss: 0.418449  [ 3000/ 6388]\n",
            "loss: 0.173751  [ 4500/ 6388]\n",
            "loss: 0.200829  [ 6000/ 6388]\n",
            "\n",
            "Test Error:\n",
            "acc: 90.7%, avg loss: 0.014535\n",
            "\n",
            "Epoch 3\n",
            "-------------------------------\n",
            "loss: 0.210767  [    0/ 6388]\n",
            "loss: 0.236148  [ 1500/ 6388]\n",
            "loss: 0.188932  [ 3000/ 6388]\n",
            "loss: 0.044462  [ 4500/ 6388]\n",
            "loss: 0.538889  [ 6000/ 6388]\n",
            "\n",
            "Test Error:\n",
            "acc: 93.4%, avg loss: 0.010902\n",
            "\n",
            "Epoch 4\n",
            "-------------------------------\n",
            "loss: 0.051503  [    0/ 6388]\n",
            "loss: 0.178592  [ 1500/ 6388]\n",
            "loss: 0.472568  [ 3000/ 6388]\n",
            "loss: 0.118248  [ 4500/ 6388]\n",
            "loss: 0.077177  [ 6000/ 6388]\n",
            "\n",
            "Test Error:\n",
            "acc: 94.0%, avg loss: 0.009590\n",
            "\n",
            "Epoch 5\n",
            "-------------------------------\n",
            "loss: 0.237723  [    0/ 6388]\n",
            "loss: 0.515697  [ 1500/ 6388]\n",
            "loss: 0.056855  [ 3000/ 6388]\n",
            "loss: 0.126203  [ 4500/ 6388]\n",
            "loss: 0.238279  [ 6000/ 6388]\n",
            "\n",
            "Test Error:\n",
            "acc: 94.0%, avg loss: 0.008768\n",
            "\n",
            "Epoch 6\n",
            "-------------------------------\n",
            "loss: 0.562148  [    0/ 6388]\n",
            "loss: 0.091521  [ 1500/ 6388]\n",
            "loss: 0.186992  [ 3000/ 6388]\n",
            "loss: 0.227276  [ 4500/ 6388]\n",
            "loss: 0.190232  [ 6000/ 6388]\n",
            "\n",
            "Test Error:\n",
            "acc: 94.7%, avg loss: 0.008103\n",
            "\n",
            "Epoch 7\n",
            "-------------------------------\n",
            "loss: 0.119612  [    0/ 6388]\n",
            "loss: 0.329588  [ 1500/ 6388]\n",
            "loss: 0.155749  [ 3000/ 6388]\n",
            "loss: 0.058271  [ 4500/ 6388]\n",
            "loss: 0.033260  [ 6000/ 6388]\n",
            "\n",
            "Test Error:\n",
            "acc: 94.7%, avg loss: 0.007766\n",
            "\n",
            "Epoch 8\n",
            "-------------------------------\n",
            "loss: 0.065884  [    0/ 6388]\n",
            "loss: 0.362912  [ 1500/ 6388]\n",
            "loss: 0.060611  [ 3000/ 6388]\n",
            "loss: 0.075955  [ 4500/ 6388]\n",
            "loss: 0.171804  [ 6000/ 6388]\n",
            "\n",
            "Test Error:\n",
            "acc: 94.7%, avg loss: 0.007438\n",
            "\n",
            "Epoch 9\n",
            "-------------------------------\n",
            "loss: 0.112569  [    0/ 6388]\n",
            "loss: 0.164966  [ 1500/ 6388]\n",
            "loss: 0.059049  [ 3000/ 6388]\n",
            "loss: 0.141475  [ 4500/ 6388]\n",
            "loss: 0.022781  [ 6000/ 6388]\n",
            "\n",
            "Test Error:\n",
            "acc: 95.1%, avg loss: 0.007615\n",
            "\n",
            "Epoch 10\n",
            "-------------------------------\n",
            "loss: 0.425378  [    0/ 6388]\n",
            "loss: 0.061604  [ 1500/ 6388]\n",
            "loss: 0.063320  [ 3000/ 6388]\n",
            "loss: 0.227480  [ 4500/ 6388]\n",
            "loss: 0.051053  [ 6000/ 6388]\n",
            "\n",
            "Test Error:\n",
            "acc: 94.9%, avg loss: 0.007182\n",
            "\n",
            "Epoch 11\n",
            "-------------------------------\n",
            "loss: 0.089674  [    0/ 6388]\n",
            "loss: 0.154508  [ 1500/ 6388]\n",
            "loss: 0.164184  [ 3000/ 6388]\n",
            "loss: 0.119429  [ 4500/ 6388]\n",
            "loss: 0.250356  [ 6000/ 6388]\n",
            "\n",
            "Test Error:\n",
            "acc: 95.1%, avg loss: 0.006984\n",
            "\n",
            "Epoch 12\n",
            "-------------------------------\n",
            "loss: 0.202071  [    0/ 6388]\n",
            "loss: 0.071022  [ 1500/ 6388]\n",
            "loss: 0.064805  [ 3000/ 6388]\n",
            "loss: 0.041546  [ 4500/ 6388]\n",
            "loss: 0.143360  [ 6000/ 6388]\n",
            "\n",
            "Test Error:\n",
            "acc: 95.3%, avg loss: 0.006915\n",
            "\n",
            "Epoch 13\n",
            "-------------------------------\n",
            "loss: 0.047766  [    0/ 6388]\n",
            "loss: 0.052643  [ 1500/ 6388]\n",
            "loss: 0.152925  [ 3000/ 6388]\n",
            "loss: 0.056028  [ 4500/ 6388]\n",
            "loss: 0.017462  [ 6000/ 6388]\n",
            "\n",
            "Test Error:\n",
            "acc: 94.9%, avg loss: 0.007293\n",
            "\n",
            "Epoch 14\n",
            "-------------------------------\n",
            "loss: 0.079094  [    0/ 6388]\n",
            "loss: 0.016643  [ 1500/ 6388]\n",
            "loss: 0.148948  [ 3000/ 6388]\n",
            "loss: 0.103067  [ 4500/ 6388]\n",
            "loss: 0.020012  [ 6000/ 6388]\n",
            "\n",
            "Test Error:\n",
            "acc: 95.5%, avg loss: 0.006665\n",
            "\n",
            "Epoch 15\n",
            "-------------------------------\n",
            "loss: 0.282936  [    0/ 6388]\n",
            "loss: 0.698533  [ 1500/ 6388]\n",
            "loss: 0.146949  [ 3000/ 6388]\n",
            "loss: 0.056283  [ 4500/ 6388]\n",
            "loss: 0.083310  [ 6000/ 6388]\n",
            "\n",
            "Test Error:\n",
            "acc: 95.2%, avg loss: 0.006272\n",
            "\n",
            "Done!\n"
          ]
        }
      ],
      "source": [
        "epochs = 15\n",
        "\n",
        "for t in range(epochs):\n",
        "    print(f'Epoch {t+1}\\n-------------------------------')\n",
        "    train(train_dataloader, model, cost, optimizer)\n",
        "    test(test_dataloader, model)\n",
        "print('Done!')"
      ]
    },
    {
      "cell_type": "markdown",
      "metadata": {
        "id": "9k3RgxyVTpKB"
      },
      "source": [
        "Let's look at the summary breakdown of the model architecture. It shows the number of filters used for the feature extraction and image reduction from pooling for each convolutional layer. Next, it shows 51136 input features and the 2 outputs used for classification in the linear layers."
      ]
    },
    {
      "cell_type": "code",
      "execution_count": 15,
      "metadata": {
        "vscode": {
          "languageId": "json"
        },
        "id": "tSh8XnT9TpKB",
        "outputId": "85e7de7f-b644-4a5b-c9e8-6dec49f7308c",
        "colab": {
          "base_uri": "https://localhost:8080/"
        }
      },
      "outputs": [
        {
          "output_type": "execute_result",
          "data": {
            "text/plain": [
              "==========================================================================================\n",
              "Layer (type:depth-idx)                   Output Shape              Param #\n",
              "==========================================================================================\n",
              "CNNet                                    [15, 2]                   --\n",
              "├─Conv2d: 1-1                            [15, 32, 197, 77]         2,432\n",
              "├─Conv2d: 1-2                            [15, 64, 94, 34]          51,264\n",
              "├─Dropout2d: 1-3                         [15, 64, 94, 34]          --\n",
              "├─Flatten: 1-4                           [15, 51136]               --\n",
              "├─Linear: 1-5                            [15, 50]                  2,556,850\n",
              "├─Linear: 1-6                            [15, 2]                   102\n",
              "==========================================================================================\n",
              "Total params: 2,610,648\n",
              "Trainable params: 2,610,648\n",
              "Non-trainable params: 0\n",
              "Total mult-adds (G): 3.05\n",
              "==========================================================================================\n",
              "Input size (MB): 2.93\n",
              "Forward/backward pass size (MB): 82.80\n",
              "Params size (MB): 10.44\n",
              "Estimated Total Size (MB): 96.17\n",
              "=========================================================================================="
            ]
          },
          "metadata": {},
          "execution_count": 15
        }
      ],
      "source": [
        "summary(model, input_size=(15, 3, 201, 81))"
      ]
    },
    {
      "cell_type": "markdown",
      "metadata": {
        "id": "Pglh5PzzTpKC"
      },
      "source": [
        " ## Test the model\n",
        " \n",
        "You should have got somewhere between a 93-95 percent accuracy by the 15th epoch. Here we grab a batch from our test data, and see how the model performs on the predicted result and the actual result. "
      ]
    },
    {
      "cell_type": "code",
      "execution_count": 16,
      "metadata": {
        "scrolled": true,
        "vscode": {
          "languageId": "json"
        },
        "id": "FHTTx6zOTpKC",
        "outputId": "2809684c-5b7a-464b-a0b8-68cebbf2d9eb",
        "colab": {
          "base_uri": "https://localhost:8080/"
        }
      },
      "outputs": [
        {
          "output_type": "stream",
          "name": "stdout",
          "text": [
            "Predicted:\n",
            "value=1, class_name= yes\n",
            "\n",
            "Actual:\n",
            "value=1, class_name= yes\n",
            "\n"
          ]
        }
      ],
      "source": [
        "model.eval()\n",
        "test_loss, correct = 0, 0\n",
        "class_map = ['no', 'yes']\n",
        "\n",
        "with torch.no_grad():\n",
        "    for batch, (X, Y) in enumerate(test_dataloader):\n",
        "        X, Y = X.to(device), Y.to(device)\n",
        "        pred = model(X)\n",
        "        print(\"Predicted:\\nvalue={}, class_name= {}\\n\".format(pred[0].argmax(0),class_map[pred[0].argmax(0)]))\n",
        "        print(\"Actual:\\nvalue={}, class_name= {}\\n\".format(Y[0],class_map[Y[0]]))\n",
        "        break"
      ]
    }
  ],
  "metadata": {
    "kernelspec": {
      "display_name": "Python 3",
      "name": "python3"
    },
    "language_info": {
      "name": "python"
    },
    "nteract": {
      "version": "nteract-front-end@1.0.0"
    },
    "colab": {
      "provenance": []
    },
    "accelerator": "GPU",
    "gpuClass": "standard"
  },
  "nbformat": 4,
  "nbformat_minor": 0
}