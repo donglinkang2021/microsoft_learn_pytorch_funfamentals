{
  "cells": [
    {
      "cell_type": "markdown",
      "metadata": {},
      "source": [
        "# Optimizing the model parameters\n",
        "\n",
        "Now that we have a model and data it's time to train, validate and test our model by optimizing its parameters on our data. Training a model is an iterative process; in each iteration (called an *epoch*). The model makes a guess about the output, calculates the error in its guess (*loss*), collects the derivatives of the error with respect to its parameters (as we saw in the previous module), and **optimizes** these parameters using gradient descent. \n",
        "\n",
        "## Prerequisite code \n",
        "\n",
        "We will load the code from the previous modules on **Datasets & DataLoaders** and **Build Model**"
      ]
    },
    {
      "cell_type": "code",
      "execution_count": 2,
      "metadata": {},
      "outputs": [
        {
          "name": "stdout",
          "output_type": "stream",
          "text": [
            "Downloading http://fashion-mnist.s3-website.eu-central-1.amazonaws.com/train-images-idx3-ubyte.gz\n",
            "Downloading http://fashion-mnist.s3-website.eu-central-1.amazonaws.com/train-images-idx3-ubyte.gz to data\\FashionMNIST\\raw\\train-images-idx3-ubyte.gz\n"
          ]
        },
        {
          "name": "stderr",
          "output_type": "stream",
          "text": [
            "26422272it [00:15, 1699602.00it/s]                              \n"
          ]
        },
        {
          "name": "stdout",
          "output_type": "stream",
          "text": [
            "Extracting data\\FashionMNIST\\raw\\train-images-idx3-ubyte.gz to data\\FashionMNIST\\raw\n",
            "\n",
            "Downloading http://fashion-mnist.s3-website.eu-central-1.amazonaws.com/train-labels-idx1-ubyte.gz\n",
            "Downloading http://fashion-mnist.s3-website.eu-central-1.amazonaws.com/train-labels-idx1-ubyte.gz to data\\FashionMNIST\\raw\\train-labels-idx1-ubyte.gz\n"
          ]
        },
        {
          "name": "stderr",
          "output_type": "stream",
          "text": [
            "29696it [00:00, 114883.61it/s]                          \n"
          ]
        },
        {
          "name": "stdout",
          "output_type": "stream",
          "text": [
            "Extracting data\\FashionMNIST\\raw\\train-labels-idx1-ubyte.gz to data\\FashionMNIST\\raw\n",
            "\n",
            "Downloading http://fashion-mnist.s3-website.eu-central-1.amazonaws.com/t10k-images-idx3-ubyte.gz\n",
            "Downloading http://fashion-mnist.s3-website.eu-central-1.amazonaws.com/t10k-images-idx3-ubyte.gz to data\\FashionMNIST\\raw\\t10k-images-idx3-ubyte.gz\n"
          ]
        },
        {
          "name": "stderr",
          "output_type": "stream",
          "text": [
            "4422656it [00:11, 376958.70it/s]                              \n"
          ]
        },
        {
          "name": "stdout",
          "output_type": "stream",
          "text": [
            "Extracting data\\FashionMNIST\\raw\\t10k-images-idx3-ubyte.gz to data\\FashionMNIST\\raw\n",
            "\n",
            "Downloading http://fashion-mnist.s3-website.eu-central-1.amazonaws.com/t10k-labels-idx1-ubyte.gz\n",
            "Downloading http://fashion-mnist.s3-website.eu-central-1.amazonaws.com/t10k-labels-idx1-ubyte.gz to data\\FashionMNIST\\raw\\t10k-labels-idx1-ubyte.gz\n"
          ]
        },
        {
          "name": "stderr",
          "output_type": "stream",
          "text": [
            "6144it [00:00, ?it/s]                   "
          ]
        },
        {
          "name": "stdout",
          "output_type": "stream",
          "text": [
            "Extracting data\\FashionMNIST\\raw\\t10k-labels-idx1-ubyte.gz to data\\FashionMNIST\\raw\n",
            "\n"
          ]
        },
        {
          "name": "stderr",
          "output_type": "stream",
          "text": [
            "\n"
          ]
        }
      ],
      "source": [
        "%matplotlib inline\n",
        "import torch\n",
        "from torch import nn\n",
        "from torch.utils.data import DataLoader\n",
        "from torchvision import datasets\n",
        "from torchvision.transforms import ToTensor, Lambda\n",
        "\n",
        "training_data = datasets.FashionMNIST(\n",
        "    root=\"data\",\n",
        "    train=True,\n",
        "    download=True,\n",
        "    transform=ToTensor()\n",
        ")\n",
        "\n",
        "test_data = datasets.FashionMNIST(\n",
        "    root=\"data\",\n",
        "    train=False,\n",
        "    download=True,\n",
        "    transform=ToTensor()\n",
        ")\n",
        "\n",
        "train_dataloader = DataLoader(training_data, batch_size=64)\n",
        "test_dataloader = DataLoader(test_data, batch_size=64)\n",
        "\n",
        "class NeuralNetwork(nn.Module):\n",
        "    def __init__(self):\n",
        "        super(NeuralNetwork, self).__init__()\n",
        "        self.flatten = nn.Flatten()\n",
        "        self.linear_relu_stack = nn.Sequential(\n",
        "            nn.Linear(28*28, 512),\n",
        "            nn.ReLU(),\n",
        "            nn.Linear(512, 512),\n",
        "            nn.ReLU(),\n",
        "            nn.Linear(512, 10),\n",
        "            nn.ReLU()\n",
        "        )\n",
        "\n",
        "    def forward(self, x):\n",
        "        x = self.flatten(x)\n",
        "        logits = self.linear_relu_stack(x)\n",
        "        return logits\n",
        "\n",
        "model = NeuralNetwork()"
      ]
    },
    {
      "cell_type": "markdown",
      "metadata": {},
      "source": [
        "## Setting hyperparameters \n",
        "\n",
        "Hyperparameters are adjustable parameters that let you control the model optimization process. \n",
        "Different hyperparameter values can impact model training and the level of accuracy.\n",
        "\n",
        "We define the following hyperparameters for training:\n",
        " - **Number of Epochs** - the number times the entire training dataset is pass through the network. \n",
        " - **Batch Size** - the number of data samples seen by the model in each epoch. Iterates are the number of batches needs to compete an epoch.\n",
        " - **Learning Rate** - the size of steps the model match as it searchs for best weights that will produce a higher model accuracy. Smaller values means the model will take a longer time to find the best weights, while larger values may result in the model step over and misses the best weights which yields unpredictable behavior during training."
      ]
    },
    {
      "cell_type": "code",
      "execution_count": 3,
      "metadata": {},
      "outputs": [],
      "source": [
        "learning_rate = 1e-3\n",
        "batch_size = 64\n",
        "epochs = 5"
      ]
    },
    {
      "cell_type": "markdown",
      "metadata": {},
      "source": [
        "## Add an optimization loop\n",
        "\n",
        "Once we set our hyperparameters, we can then train and optimize our model with an optimization loop. Each \n",
        "iteration of the optimization loop is called an **epoch**. \n",
        "\n",
        "Each epoch consists of two main parts:\n",
        " - **The Train Loop** - iterate over the training dataset and try to converge to optimal parameters.\n",
        " - **The Validation/Test Loop** - iterate over the test dataset to check if model performance is improving.\n",
        "\n",
        "Let's briefly familiarize ourselves with some of the concepts used in the training loop. Jump ahead to \n",
        "see the `full-impl-label` of the optimization loop.\n",
        "\n",
        "### Add a loss function\n",
        "\n",
        "When presented with some training data, our untrained network is likely not to give the correct \n",
        "answer. **Loss function** measures the degree of dissimilarity of obtained result to the target value, \n",
        "and it is the loss function that we want to minimize during training. To calculate the loss we make a \n",
        "prediction using the inputs of our given data sample and compare it against the true data label value.\n",
        "\n",
        "Common loss functions include:\n",
        "- `nn.MSELoss` (Mean Square Error) used for regression tasks\n",
        "- `nn.NLLLoss` (Negative Log Likelihood) used for classification\n",
        "- `nn.CrossEntropyLoss` combines `nn.LogSoftmax` and `nn.NLLLoss`\n",
        "\n",
        "We pass our model's output logits to `nn.CrossEntropyLoss`, which will normalize the logits and compute the prediction error."
      ]
    },
    {
      "cell_type": "code",
      "execution_count": 4,
      "metadata": {},
      "outputs": [],
      "source": [
        "# Initialize the loss function\n",
        "loss_fn = nn.CrossEntropyLoss()"
      ]
    },
    {
      "cell_type": "code",
      "execution_count": 5,
      "metadata": {},
      "outputs": [
        {
          "data": {
            "text/plain": [
              "CrossEntropyLoss()"
            ]
          },
          "execution_count": 5,
          "metadata": {},
          "output_type": "execute_result"
        }
      ],
      "source": [
        "loss_fn"
      ]
    },
    {
      "cell_type": "markdown",
      "metadata": {},
      "source": [
        "### Optimization pass\n",
        "\n",
        "Optimization is the process of adjusting model parameters to reduce model error in each training step. **Optimization algorithms** define how this process is performed (in this example we use Stochastic Gradient Descent).\n",
        "All optimization logic is encapsulated in  the ``optimizer`` object. Here, we use the SGD optimizer; additionally, there are many different optimizers\n",
        "available in PyTorch such as `ADAM' and 'RMSProp`, that work better for different kinds of models and data.\n",
        "\n",
        "We initialize the optimizer by registering the model's parameters that need to be trained, and passing in the learning rate hyperparameter.\n",
        "\n"
      ]
    },
    {
      "cell_type": "code",
      "execution_count": 6,
      "metadata": {},
      "outputs": [],
      "source": [
        "optimizer = torch.optim.SGD(model.parameters(), lr=learning_rate)"
      ]
    },
    {
      "cell_type": "markdown",
      "metadata": {},
      "source": [
        "Inside the training loop, optimization happens in three steps:\n",
        " * Call `optimizer.zero_grad()` to reset the gradients of model parameters. Gradients by default add up; to prevent double-counting, we explicitly zero them at each iteration.\n",
        " * Back-propagate the prediction loss with a call to `loss.backwards()`. PyTorch deposits the gradients of the loss w.r.t. each parameter. \n",
        " * Once we have our gradients, we call ``optimizer.step()`` to adjust the parameters by the gradients collected in the backward pass."
      ]
    },
    {
      "cell_type": "markdown",
      "metadata": {},
      "source": [
        "## Full implementation\n",
        "\n",
        "We define `train_loop` that loops over our optimization code, and `test_loop` that \n",
        "evaluates the model's performance against our test data."
      ]
    },
    {
      "cell_type": "code",
      "execution_count": 7,
      "metadata": {},
      "outputs": [],
      "source": [
        "def train_loop(dataloader, model, loss_fn, optimizer):\n",
        "    size = len(dataloader.dataset)\n",
        "    for batch, (X, y) in enumerate(dataloader):        \n",
        "        # Compute prediction and loss\n",
        "        pred = model(X)\n",
        "        loss = loss_fn(pred, y)\n",
        "        \n",
        "        # Backpropagation\n",
        "        optimizer.zero_grad()\n",
        "        loss.backward()\n",
        "        optimizer.step()\n",
        "\n",
        "        if batch % 100 == 0:\n",
        "            loss, current = loss.item(), batch * len(X)\n",
        "            print(f\"loss: {loss:>7f}  [{current:>5d}/{size:>5d}]\")\n",
        "\n",
        "\n",
        "def test_loop(dataloader, model, loss_fn):\n",
        "    size = len(dataloader.dataset)\n",
        "    test_loss, correct = 0, 0\n",
        "\n",
        "    with torch.no_grad():\n",
        "        for X, y in dataloader:\n",
        "            pred = model(X)\n",
        "            test_loss += loss_fn(pred, y).item()\n",
        "            correct += (pred.argmax(1) == y).type(torch.float).sum().item()\n",
        "            \n",
        "    test_loss /= size\n",
        "    correct /= size\n",
        "    print(f\"Test Error: \\n Accuracy: {(100*correct):>0.1f}%, Avg loss: {test_loss:>8f} \\n\")"
      ]
    },
    {
      "cell_type": "markdown",
      "metadata": {},
      "source": [
        "We initialize the loss function and optimizer, and pass it to `train_loop` and `test_loop`.\n",
        "Feel free to increase the number of epochs to track the model's improving performance."
      ]
    },
    {
      "cell_type": "code",
      "execution_count": 8,
      "metadata": {},
      "outputs": [
        {
          "name": "stdout",
          "output_type": "stream",
          "text": [
            "Epoch 1\n",
            "-------------------------------\n",
            "loss: 2.305844  [    0/60000]\n",
            "loss: 2.296304  [ 6400/60000]\n",
            "loss: 2.282719  [12800/60000]\n",
            "loss: 2.279785  [19200/60000]\n",
            "loss: 2.266377  [25600/60000]\n",
            "loss: 2.267238  [32000/60000]\n",
            "loss: 2.255111  [38400/60000]\n",
            "loss: 2.241633  [44800/60000]\n",
            "loss: 2.263377  [51200/60000]\n",
            "loss: 2.234978  [57600/60000]\n",
            "Test Error: \n",
            " Accuracy: 34.8%, Avg loss: 0.034960 \n",
            "\n",
            "Epoch 2\n",
            "-------------------------------\n",
            "loss: 2.247871  [    0/60000]\n",
            "loss: 2.238930  [ 6400/60000]\n",
            "loss: 2.201191  [12800/60000]\n",
            "loss: 2.202864  [19200/60000]\n",
            "loss: 2.160488  [25600/60000]\n",
            "loss: 2.185865  [32000/60000]\n",
            "loss: 2.151640  [38400/60000]\n",
            "loss: 2.132936  [44800/60000]\n",
            "loss: 2.191577  [51200/60000]\n",
            "loss: 2.111949  [57600/60000]\n",
            "Test Error: \n",
            " Accuracy: 35.6%, Avg loss: 0.033109 \n",
            "\n",
            "Epoch 3\n",
            "-------------------------------\n",
            "loss: 2.163700  [    0/60000]\n",
            "loss: 2.139740  [ 6400/60000]\n",
            "loss: 2.070110  [12800/60000]\n",
            "loss: 2.062066  [19200/60000]\n",
            "loss: 1.982315  [25600/60000]\n",
            "loss: 2.054207  [32000/60000]\n",
            "loss: 1.975484  [38400/60000]\n",
            "loss: 1.962717  [44800/60000]\n",
            "loss: 2.081389  [51200/60000]\n",
            "loss: 1.924387  [57600/60000]\n",
            "Test Error: \n",
            " Accuracy: 37.9%, Avg loss: 0.030463 \n",
            "\n",
            "Epoch 4\n",
            "-------------------------------\n",
            "loss: 2.046003  [    0/60000]\n",
            "loss: 2.004334  [ 6400/60000]\n",
            "loss: 1.907022  [12800/60000]\n",
            "loss: 1.881786  [19200/60000]\n",
            "loss: 1.778174  [25600/60000]\n",
            "loss: 1.917578  [32000/60000]\n",
            "loss: 1.774656  [38400/60000]\n",
            "loss: 1.791002  [44800/60000]\n",
            "loss: 1.953073  [51200/60000]\n",
            "loss: 1.731008  [57600/60000]\n",
            "Test Error: \n",
            " Accuracy: 46.7%, Avg loss: 0.027902 \n",
            "\n",
            "Epoch 5\n",
            "-------------------------------\n",
            "loss: 1.926926  [    0/60000]\n",
            "loss: 1.875303  [ 6400/60000]\n",
            "loss: 1.766740  [12800/60000]\n",
            "loss: 1.711593  [19200/60000]\n",
            "loss: 1.605341  [25600/60000]\n",
            "loss: 1.812387  [32000/60000]\n",
            "loss: 1.594872  [38400/60000]\n",
            "loss: 1.658006  [44800/60000]\n",
            "loss: 1.825561  [51200/60000]\n",
            "loss: 1.571273  [57600/60000]\n",
            "Test Error: \n",
            " Accuracy: 48.8%, Avg loss: 0.025777 \n",
            "\n",
            "Epoch 6\n",
            "-------------------------------\n",
            "loss: 1.813476  [    0/60000]\n",
            "loss: 1.762281  [ 6400/60000]\n",
            "loss: 1.647496  [12800/60000]\n",
            "loss: 1.573186  [19200/60000]\n",
            "loss: 1.463638  [25600/60000]\n",
            "loss: 1.724781  [32000/60000]\n",
            "loss: 1.458748  [38400/60000]\n",
            "loss: 1.554784  [44800/60000]\n",
            "loss: 1.721319  [51200/60000]\n",
            "loss: 1.459060  [57600/60000]\n",
            "Test Error: \n",
            " Accuracy: 49.6%, Avg loss: 0.024153 \n",
            "\n",
            "Epoch 7\n",
            "-------------------------------\n",
            "loss: 1.718027  [    0/60000]\n",
            "loss: 1.673380  [ 6400/60000]\n",
            "loss: 1.550744  [12800/60000]\n",
            "loss: 1.471824  [19200/60000]\n",
            "loss: 1.360796  [25600/60000]\n",
            "loss: 1.654268  [32000/60000]\n",
            "loss: 1.363593  [38400/60000]\n",
            "loss: 1.480204  [44800/60000]\n",
            "loss: 1.645132  [51200/60000]\n",
            "loss: 1.383376  [57600/60000]\n",
            "Test Error: \n",
            " Accuracy: 50.4%, Avg loss: 0.023000 \n",
            "\n",
            "Epoch 8\n",
            "-------------------------------\n",
            "loss: 1.644802  [    0/60000]\n",
            "loss: 1.609222  [ 6400/60000]\n",
            "loss: 1.477279  [12800/60000]\n",
            "loss: 1.401662  [19200/60000]\n",
            "loss: 1.289607  [25600/60000]\n",
            "loss: 1.601686  [32000/60000]\n",
            "loss: 1.297771  [38400/60000]\n",
            "loss: 1.428252  [44800/60000]\n",
            "loss: 1.590991  [51200/60000]\n",
            "loss: 1.331222  [57600/60000]\n",
            "Test Error: \n",
            " Accuracy: 51.4%, Avg loss: 0.022194 \n",
            "\n",
            "Epoch 9\n",
            "-------------------------------\n",
            "loss: 1.589215  [    0/60000]\n",
            "loss: 1.564323  [ 6400/60000]\n",
            "loss: 1.422981  [12800/60000]\n",
            "loss: 1.354574  [19200/60000]\n",
            "loss: 1.241244  [25600/60000]\n",
            "loss: 1.563374  [32000/60000]\n",
            "loss: 1.250571  [38400/60000]\n",
            "loss: 1.390876  [44800/60000]\n",
            "loss: 1.551456  [51200/60000]\n",
            "loss: 1.293677  [57600/60000]\n",
            "Test Error: \n",
            " Accuracy: 52.7%, Avg loss: 0.021609 \n",
            "\n",
            "Epoch 10\n",
            "-------------------------------\n",
            "loss: 1.545135  [    0/60000]\n",
            "loss: 1.530406  [ 6400/60000]\n",
            "loss: 1.381695  [12800/60000]\n",
            "loss: 1.321812  [19200/60000]\n",
            "loss: 1.206835  [25600/60000]\n",
            "loss: 1.534666  [32000/60000]\n",
            "loss: 1.214910  [38400/60000]\n",
            "loss: 1.362971  [44800/60000]\n",
            "loss: 1.520007  [51200/60000]\n",
            "loss: 1.264425  [57600/60000]\n",
            "Test Error: \n",
            " Accuracy: 53.8%, Avg loss: 0.021161 \n",
            "\n",
            "Done!\n"
          ]
        }
      ],
      "source": [
        "loss_fn = nn.CrossEntropyLoss()\n",
        "optimizer = torch.optim.SGD(model.parameters(), lr=learning_rate)\n",
        "\n",
        "epochs = 10\n",
        "for t in range(epochs):\n",
        "    print(f\"Epoch {t+1}\\n-------------------------------\")\n",
        "    train_loop(train_dataloader, model, loss_fn, optimizer)\n",
        "    test_loop(test_dataloader, model, loss_fn)\n",
        "print(\"Done!\")"
      ]
    },
    {
      "cell_type": "markdown",
      "metadata": {},
      "source": [
        "You may have noticed that the model is initially not very good (that's OK!). Try running the loop for more `epochs` or adjusting the `learning_rate` to a bigger number. It might also be the case that the model configuration we chose might not be the optimal one for this kind of problem (it isn't). Later courses will delve more into the model shapes that work for vision problems.\n"
      ]
    },
    {
      "cell_type": "markdown",
      "metadata": {},
      "source": [
        "Saving Models\n",
        "-------------\n",
        "\n",
        "When you are satisfied with the model's performance, you can use `torch.save` to save it. PyTorch models store the learned parameters in an internal state dictionary, called `state_dict`. These can be persisted wit the `torch.save` method:"
      ]
    },
    {
      "cell_type": "code",
      "execution_count": 9,
      "metadata": {},
      "outputs": [
        {
          "name": "stdout",
          "output_type": "stream",
          "text": [
            "Saved PyTorch Model State to model.pth\n"
          ]
        }
      ],
      "source": [
        "torch.save(model.state_dict(), \"data/model.pth\")\n",
        "\n",
        "print(\"Saved PyTorch Model State to model.pth\")"
      ]
    }
  ],
  "metadata": {
    "kernelspec": {
      "display_name": "base",
      "language": "python",
      "name": "python3"
    },
    "language_info": {
      "codemirror_mode": {
        "name": "ipython",
        "version": 3
      },
      "file_extension": ".py",
      "mimetype": "text/x-python",
      "name": "python",
      "nbconvert_exporter": "python",
      "pygments_lexer": "ipython3",
      "version": "3.9.7"
    },
    "nteract": {
      "version": "nteract-front-end@1.0.0"
    },
    "vscode": {
      "interpreter": {
        "hash": "5179d32cf6ec497baf3f8a3ef987cc77c5d2dc691fdde20a56316522f61a7323"
      }
    }
  },
  "nbformat": 4,
  "nbformat_minor": 1
}
