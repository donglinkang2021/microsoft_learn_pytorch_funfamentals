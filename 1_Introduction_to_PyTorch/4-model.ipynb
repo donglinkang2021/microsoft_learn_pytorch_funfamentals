{
  "cells": [
    {
      "cell_type": "markdown",
      "metadata": {},
      "source": [
        "# What is a neural network\n",
        "\n",
        "Neural network is a collection of neurons that are connected by layers. Each neuron is a small\n",
        "computing unit that performs simple calculations to collectively solve a problem. They are \n",
        "organized in layers. There are 3 types of layers: input layer, hidden layer and \n",
        "outter layer.  Each layer contains a number of neurons, except for the input layer. Neural networks mimic the way a human brain processes information.\n",
        "\n",
        "<img alt=\"Diagram showing different types of layers in a neural network\" src=\"images/4-model-1.png\" />"
      ]
    },
    {
      "cell_type": "markdown",
      "metadata": {},
      "source": [
        "## Components of a neural network\n",
        "\n",
        "- **Activation function** determines whether a neuron should be activated or not. The computations that happen in a neural network include applying an activation function. If a neuron activates, then it means the input is important.  The are different kinds of activation functions. The choice of which activation function to use depends on what you want the output to be. Another important role of an activation function is to add non-linearity to the model.\n",
        "    - _Binary_ used to set an output node to 1 if function result is positive and 0 if the function result is negative. $f(x)= {\\small \\begin{cases} 0, & \\text{if } x < 0\\\\ 1, & \\text{if } x\\geq 0\\\\ \\end{cases}}$\n",
        "    - _Sigmod_ is used to predict the probability of an output node being between 0 and 1.  $f(x) = {\\large \\frac{1}{1+e^{-x}}} $\n",
        "    - _Tanh_ is used to predict if an output node is between 1 and -1.  Used in classification use cases.  $f(x) = {\\large \\frac{e^{x} - e^{-x}}{e^{x} + e^{-x}}} $\n",
        "    - _ReLU_ used to set the output node to 0 if fuction result is negative and keeps the result value if the result is a positive value.  $f(x)= {\\small \\begin{cases} 0, & \\text{if } x < 0\\\\ x, & \\text{if } x\\geq 0\\\\ \\end{cases}}$\n",
        "- **Weights** influence how well the output of our network will come close to the expected output value. As an input enters the neuron, it gets multiplied by a weight value and the resulting output is either observed, or passed to the next layer in the neural network. Weights for all neurons in a layer are organized into one tensor\n",
        "- **Bias** makes up the difference between the activation function's output and its intended output. A low bias suggest that the network is making more assumptions about the form of the output, whereas a high bias value makes less assumptions about the form of the output. \n",
        "\n",
        "<img alt=\"Diagram showing neural computation\" src=\"images/4-model-2.png\" />\n",
        "\n",
        "We can say that an output $y$ of a neural network layer with weights $W$ and bias $b$ is computed as summation of the inputs multiply by the weights plus the bias $x = \\sum{(weights * inputs) + bias} $, where $f(x)$ is the activation function."
      ]
    },
    {
      "cell_type": "markdown",
      "metadata": {},
      "source": [
        "# Build a neural network\n",
        "\n",
        "Neural networks are comprised of layers/modules that perform operations on data. \n",
        "The `torch.nn` namespace provides all the building blocks you need to \n",
        "build your own neural network. Every module in PyTorch subclasses the `nn.Module`. \n",
        "A neural network is a module itself that consists of other modules (layers). This nested structure allows for\n",
        "building and managing complex architectures easily.\n",
        "\n",
        "In the following sections, we'll build a neural network to classify images in the FashionMNIST dataset."
      ]
    },
    {
      "cell_type": "code",
      "execution_count": 1,
      "metadata": {},
      "outputs": [],
      "source": [
        "%matplotlib inline\n",
        "import os\n",
        "import torch\n",
        "from torch import nn\n",
        "from torch.utils.data import DataLoader\n",
        "from torchvision import datasets, transforms"
      ]
    },
    {
      "cell_type": "markdown",
      "metadata": {},
      "source": [
        "## Get a hardware device for training\n",
        "\n",
        "We want to be able to train our model on a hardware accelerator like the GPU, if it is available. Let's check to see if \n",
        "`torch.cuda` is available, else we continue to use the CPU."
      ]
    },
    {
      "cell_type": "code",
      "execution_count": 2,
      "metadata": {},
      "outputs": [
        {
          "name": "stdout",
          "output_type": "stream",
          "text": [
            "Using cpu device\n"
          ]
        }
      ],
      "source": [
        "device = 'cuda' if torch.cuda.is_available() else 'cpu'\n",
        "print('Using {} device'.format(device))"
      ]
    },
    {
      "cell_type": "markdown",
      "metadata": {},
      "source": [
        "## Define the class\n",
        "\n",
        "We define our neural network by subclassing `nn.Module`, and \n",
        "initialize the neural network layers in `__init__`. Every `nn.Module` subclass implements\n",
        "the operations on input data in the `forward` method.\n",
        "\n",
        "Our neural network are composed of the following:\n",
        "- The input layer with 28x28 or 784 features/pixels.\n",
        "- The first linear module takes the input 784 features and transforms it to a hidden layer with 512 features\n",
        "- The ReLU activation function will be applied in the transformation\n",
        "- The second linear module take 512 features as input from the first hidden layer and transforms it to the next hidden layer with 512 features\n",
        "- The ReLU activation function will be applied in the transformation\n",
        "- The third linear module take 512 features as input from the second hidden layer and transforms it to the output layer with 10, which is the number of classes\n",
        "- The ReLU activation function will be applied in the transformation"
      ]
    },
    {
      "cell_type": "code",
      "execution_count": 3,
      "metadata": {},
      "outputs": [],
      "source": [
        "class NeuralNetwork(nn.Module):\n",
        "    def __init__(self):\n",
        "        super(NeuralNetwork, self).__init__()\n",
        "        self.flatten = nn.Flatten()\n",
        "        self.linear_relu_stack = nn.Sequential(\n",
        "            nn.Linear(28*28, 512),\n",
        "            nn.ReLU(),\n",
        "            nn.Linear(512, 512),\n",
        "            nn.ReLU(),\n",
        "            nn.Linear(512, 10),\n",
        "            nn.ReLU()\n",
        "        )\n",
        "\n",
        "    def forward(self, x):\n",
        "        x = self.flatten(x) # Flatten the input tensor \n",
        "        logits = self.linear_relu_stack(x)\n",
        "        return logits"
      ]
    },
    {
      "attachments": {},
      "cell_type": "markdown",
      "metadata": {},
      "source": [
        "#### ravel is faster than flatten(in numpy)"
      ]
    },
    {
      "cell_type": "code",
      "execution_count": 5,
      "metadata": {},
      "outputs": [],
      "source": [
        "import time\n",
        "import numpy as np\n",
        "import matplotlib.pyplot as plt\n"
      ]
    },
    {
      "cell_type": "code",
      "execution_count": 15,
      "metadata": {},
      "outputs": [
        {
          "name": "stdout",
          "output_type": "stream",
          "text": [
            "0.0010006427764892578\n"
          ]
        }
      ],
      "source": [
        "t1 = time.time()\n",
        "tmpx = np.random.rand(100, 28, 28)\n",
        "tmpx = tmpx.flatten()\n",
        "t2 = time.time()\n",
        "print(t2-t1) # 0.0019919872283935547"
      ]
    },
    {
      "cell_type": "code",
      "execution_count": 9,
      "metadata": {},
      "outputs": [
        {
          "data": {
            "text/plain": [
              "(78400,)"
            ]
          },
          "execution_count": 9,
          "metadata": {},
          "output_type": "execute_result"
        }
      ],
      "source": [
        "tmpx.shape # (78400,)"
      ]
    },
    {
      "cell_type": "code",
      "execution_count": 14,
      "metadata": {},
      "outputs": [
        {
          "name": "stdout",
          "output_type": "stream",
          "text": [
            "0.0010006427764892578\n"
          ]
        }
      ],
      "source": [
        "t3 = time.time()\n",
        "tmpx = np.random.rand(100, 28, 28)\n",
        "tmpx = tmpx.ravel()\n",
        "t4 = time.time()\n",
        "print(t4-t3) # 0.0009984970092773438"
      ]
    },
    {
      "cell_type": "markdown",
      "metadata": {},
      "source": [
        "We create an instance of `NeuralNetwork`, and move it to the `device`, and print \n",
        "it's structure.\n",
        "\n"
      ]
    },
    {
      "cell_type": "code",
      "execution_count": 16,
      "metadata": {},
      "outputs": [
        {
          "name": "stdout",
          "output_type": "stream",
          "text": [
            "NeuralNetwork(\n",
            "  (flatten): Flatten(start_dim=1, end_dim=-1)\n",
            "  (linear_relu_stack): Sequential(\n",
            "    (0): Linear(in_features=784, out_features=512, bias=True)\n",
            "    (1): ReLU()\n",
            "    (2): Linear(in_features=512, out_features=512, bias=True)\n",
            "    (3): ReLU()\n",
            "    (4): Linear(in_features=512, out_features=10, bias=True)\n",
            "    (5): ReLU()\n",
            "  )\n",
            ")\n"
          ]
        }
      ],
      "source": [
        "model = NeuralNetwork().to(device)\n",
        "print(model)"
      ]
    },
    {
      "cell_type": "markdown",
      "metadata": {},
      "source": [
        "To use the model, we pass it the input data. This executes the model's `forward`, along with some background operations. However, do not call `model.forward()` directly! Calling the model on the input returns a 10-dimensional tensor with raw predicted values for each class.\n",
        "\n",
        "We get the prediction densities by passing it through an instance of the `nn.Softmax`."
      ]
    },
    {
      "cell_type": "code",
      "execution_count": 18,
      "metadata": {},
      "outputs": [
        {
          "name": "stdout",
          "output_type": "stream",
          "text": [
            "Predicted class: tensor([6])\n"
          ]
        }
      ],
      "source": [
        "X = torch.rand(1, 28, 28, device=device)\n",
        "logits = model(X) \n",
        "pred_probab = nn.Softmax(dim=1)(logits)\n",
        "y_pred = pred_probab.argmax(1)\n",
        "print(f\"Predicted class: {y_pred}\")"
      ]
    },
    {
      "cell_type": "markdown",
      "metadata": {},
      "source": [
        "## Weight and Bias\n",
        "\n",
        "\n",
        "The `nn.Linear` module randomly initializes the ${weights}$  and ${ bias}$ for each layer and internally stores the values in Tensors."
      ]
    },
    {
      "cell_type": "code",
      "execution_count": 19,
      "metadata": {},
      "outputs": [
        {
          "name": "stdout",
          "output_type": "stream",
          "text": [
            "First Linear weights: Parameter containing:\n",
            "tensor([[ 0.0096, -0.0102,  0.0099,  ...,  0.0024, -0.0043,  0.0204],\n",
            "        [-0.0353, -0.0278, -0.0143,  ...,  0.0339, -0.0234, -0.0098],\n",
            "        [-0.0252,  0.0325,  0.0079,  ...,  0.0259, -0.0111, -0.0140],\n",
            "        ...,\n",
            "        [-0.0282, -0.0200, -0.0025,  ...,  0.0085,  0.0038, -0.0240],\n",
            "        [ 0.0223,  0.0301,  0.0148,  ...,  0.0007,  0.0250, -0.0130],\n",
            "        [ 0.0233, -0.0033,  0.0223,  ...,  0.0166, -0.0252,  0.0297]],\n",
            "       requires_grad=True) \n",
            "\n",
            "First Linear weights: Parameter containing:\n",
            "tensor([ 0.0078,  0.0231,  0.0189, -0.0354,  0.0065,  0.0342, -0.0221, -0.0148,\n",
            "         0.0256, -0.0273, -0.0304,  0.0078, -0.0140,  0.0046, -0.0263,  0.0242,\n",
            "        -0.0164,  0.0084,  0.0301,  0.0006, -0.0282, -0.0231, -0.0162, -0.0147,\n",
            "        -0.0338, -0.0116,  0.0345, -0.0044, -0.0138,  0.0297,  0.0235, -0.0162,\n",
            "        -0.0252,  0.0033,  0.0349,  0.0269, -0.0054, -0.0223, -0.0321,  0.0082,\n",
            "         0.0167,  0.0227, -0.0207,  0.0190, -0.0292,  0.0125,  0.0074,  0.0227,\n",
            "         0.0151,  0.0304, -0.0356,  0.0084, -0.0034, -0.0282, -0.0184, -0.0196,\n",
            "        -0.0122, -0.0330, -0.0151,  0.0343,  0.0068, -0.0229,  0.0051, -0.0219,\n",
            "         0.0122,  0.0306, -0.0077, -0.0195,  0.0256,  0.0253, -0.0235,  0.0329,\n",
            "         0.0284,  0.0185,  0.0111,  0.0127,  0.0067, -0.0225,  0.0126,  0.0040,\n",
            "        -0.0285,  0.0004, -0.0344, -0.0350,  0.0307, -0.0206, -0.0121, -0.0028,\n",
            "        -0.0233,  0.0132, -0.0137,  0.0119,  0.0187, -0.0095, -0.0245, -0.0158,\n",
            "        -0.0340,  0.0030, -0.0201, -0.0155,  0.0142,  0.0350,  0.0324, -0.0024,\n",
            "        -0.0295,  0.0249, -0.0247,  0.0125,  0.0123, -0.0345, -0.0147, -0.0092,\n",
            "         0.0238, -0.0190,  0.0308, -0.0034,  0.0095,  0.0152,  0.0135,  0.0217,\n",
            "         0.0058, -0.0139, -0.0073, -0.0254,  0.0132,  0.0302, -0.0233, -0.0222,\n",
            "         0.0338,  0.0338,  0.0219, -0.0059,  0.0123, -0.0225,  0.0062, -0.0129,\n",
            "        -0.0186, -0.0009,  0.0064, -0.0341, -0.0287, -0.0200,  0.0348,  0.0070,\n",
            "        -0.0240,  0.0152, -0.0043,  0.0244, -0.0290,  0.0205, -0.0284,  0.0111,\n",
            "         0.0345, -0.0126, -0.0119, -0.0269, -0.0078,  0.0085, -0.0336, -0.0323,\n",
            "        -0.0171,  0.0232,  0.0304,  0.0068, -0.0182, -0.0095,  0.0160, -0.0239,\n",
            "         0.0089,  0.0076, -0.0306,  0.0032, -0.0293, -0.0275, -0.0278,  0.0329,\n",
            "        -0.0320,  0.0022,  0.0219, -0.0260,  0.0111,  0.0022,  0.0207, -0.0327,\n",
            "        -0.0122,  0.0352,  0.0352,  0.0214, -0.0102, -0.0083,  0.0205, -0.0092,\n",
            "        -0.0010, -0.0100,  0.0111,  0.0171, -0.0260,  0.0037, -0.0167, -0.0040,\n",
            "        -0.0007,  0.0263,  0.0330,  0.0281, -0.0272, -0.0127,  0.0268, -0.0057,\n",
            "         0.0038, -0.0310, -0.0062, -0.0283, -0.0314, -0.0028,  0.0210,  0.0165,\n",
            "        -0.0308, -0.0294, -0.0025, -0.0158, -0.0273, -0.0097,  0.0052,  0.0268,\n",
            "        -0.0263, -0.0130,  0.0156,  0.0208,  0.0061, -0.0235, -0.0199,  0.0018,\n",
            "        -0.0128, -0.0051,  0.0203,  0.0086,  0.0261, -0.0123, -0.0138, -0.0095,\n",
            "        -0.0063, -0.0307, -0.0225,  0.0237, -0.0316,  0.0310,  0.0025,  0.0167,\n",
            "         0.0202, -0.0243, -0.0255, -0.0201,  0.0188, -0.0019,  0.0058, -0.0346,\n",
            "        -0.0058,  0.0328, -0.0279,  0.0310,  0.0188,  0.0282, -0.0081, -0.0091,\n",
            "        -0.0179, -0.0234, -0.0318,  0.0081, -0.0194, -0.0191, -0.0236,  0.0339,\n",
            "        -0.0230,  0.0090,  0.0239,  0.0209,  0.0266,  0.0186, -0.0204, -0.0351,\n",
            "        -0.0140, -0.0216, -0.0217,  0.0266,  0.0047,  0.0306, -0.0044,  0.0228,\n",
            "         0.0262,  0.0354,  0.0239,  0.0294,  0.0085,  0.0334,  0.0087, -0.0286,\n",
            "        -0.0353,  0.0161, -0.0311,  0.0249,  0.0008,  0.0329,  0.0026,  0.0215,\n",
            "         0.0155, -0.0211, -0.0024,  0.0190,  0.0118,  0.0013,  0.0185,  0.0139,\n",
            "        -0.0270,  0.0198, -0.0050, -0.0179, -0.0030, -0.0332,  0.0157, -0.0109,\n",
            "         0.0265,  0.0121, -0.0151,  0.0036,  0.0109,  0.0349, -0.0059,  0.0189,\n",
            "        -0.0027, -0.0337,  0.0207, -0.0310, -0.0326, -0.0248,  0.0181, -0.0258,\n",
            "        -0.0154,  0.0345, -0.0075,  0.0021, -0.0164, -0.0222,  0.0266, -0.0004,\n",
            "        -0.0180,  0.0099, -0.0200,  0.0322, -0.0221, -0.0197, -0.0080, -0.0067,\n",
            "        -0.0304, -0.0308, -0.0073, -0.0333, -0.0336, -0.0070, -0.0100, -0.0351,\n",
            "        -0.0108,  0.0136,  0.0297, -0.0339,  0.0126, -0.0276, -0.0215, -0.0238,\n",
            "        -0.0117,  0.0348,  0.0147, -0.0210,  0.0115, -0.0114, -0.0213, -0.0023,\n",
            "         0.0094,  0.0271, -0.0136,  0.0061, -0.0286,  0.0050, -0.0085, -0.0266,\n",
            "         0.0059,  0.0153,  0.0116, -0.0072, -0.0246,  0.0293,  0.0201,  0.0016,\n",
            "        -0.0051, -0.0092, -0.0304, -0.0107, -0.0108, -0.0253,  0.0089,  0.0060,\n",
            "        -0.0186, -0.0280, -0.0089, -0.0037,  0.0240, -0.0082, -0.0348,  0.0068,\n",
            "         0.0039, -0.0262,  0.0321, -0.0043, -0.0174,  0.0047, -0.0024, -0.0147,\n",
            "        -0.0101, -0.0144,  0.0163,  0.0240,  0.0013, -0.0051, -0.0331, -0.0033,\n",
            "        -0.0165,  0.0244, -0.0031, -0.0074,  0.0100, -0.0253,  0.0116, -0.0172,\n",
            "        -0.0059,  0.0355, -0.0229, -0.0170, -0.0339,  0.0154,  0.0106,  0.0125,\n",
            "         0.0270, -0.0066, -0.0195, -0.0055,  0.0082,  0.0299, -0.0308, -0.0333,\n",
            "        -0.0169,  0.0261, -0.0337,  0.0279,  0.0093, -0.0008,  0.0256, -0.0352,\n",
            "        -0.0282,  0.0356, -0.0181,  0.0001, -0.0195, -0.0224,  0.0290,  0.0183,\n",
            "        -0.0123, -0.0168, -0.0308, -0.0242,  0.0262, -0.0246, -0.0098, -0.0276,\n",
            "         0.0090, -0.0084, -0.0061, -0.0315,  0.0015, -0.0120, -0.0070,  0.0350,\n",
            "         0.0213,  0.0129,  0.0053, -0.0243, -0.0174, -0.0138, -0.0254, -0.0020,\n",
            "        -0.0193,  0.0253, -0.0110,  0.0124,  0.0104, -0.0117, -0.0052,  0.0109,\n",
            "         0.0312,  0.0206,  0.0097,  0.0302, -0.0211, -0.0323, -0.0067,  0.0035,\n",
            "         0.0182, -0.0177,  0.0188, -0.0164,  0.0355,  0.0248,  0.0288,  0.0120],\n",
            "       requires_grad=True) \n",
            "\n"
          ]
        }
      ],
      "source": [
        "print(f\"First Linear weights: {model.linear_relu_stack[0].weight} \\n\")\n",
        "\n",
        "print(f\"First Linear weights: {model.linear_relu_stack[0].bias} \\n\")"
      ]
    },
    {
      "cell_type": "markdown",
      "metadata": {},
      "source": [
        "## Model layers\n",
        "\n",
        "Let's break down the layers in the FashionMNIST model. To illustrate it, we \n",
        "will take a sample minibatch of 3 images of size **28x28** and see what happens to it as \n",
        "we pass it through the network. "
      ]
    },
    {
      "cell_type": "code",
      "execution_count": 20,
      "metadata": {},
      "outputs": [
        {
          "name": "stdout",
          "output_type": "stream",
          "text": [
            "torch.Size([3, 28, 28])\n"
          ]
        }
      ],
      "source": [
        "input_image = torch.rand(3,28,28)\n",
        "print(input_image.size())"
      ]
    },
    {
      "cell_type": "markdown",
      "metadata": {},
      "source": [
        "### nn.Flatten\n",
        "\n",
        "We initialize the `nn.Flatten` layer to convert each 2D 28x28 image into a contiguous array of 784 pixel values (the minibatch dimension (at dim=0) is maintained). Each of the pixels are pass to the input layer of the neural network.  \n",
        "\n",
        "<img alt=\"Diagram showing how pixels in image are flatten\" src=\"images/4-model-3.png\" />"
      ]
    },
    {
      "cell_type": "code",
      "execution_count": 21,
      "metadata": {},
      "outputs": [
        {
          "name": "stdout",
          "output_type": "stream",
          "text": [
            "torch.Size([3, 784])\n"
          ]
        }
      ],
      "source": [
        "flatten = nn.Flatten()\n",
        "flat_image = flatten(input_image)\n",
        "print(flat_image.size())"
      ]
    },
    {
      "cell_type": "markdown",
      "metadata": {},
      "source": [
        "### nn.Linear \n",
        "\n",
        "The linear layer is a module that applies a linear transformation on the input using it's stored weights and biases.  The gayscale value of each pixel in the input layer will be connected to neurons in the hidden layer for calculation.    The calculation used for the transformation is ${{weight * input + bias}} $.\n"
      ]
    },
    {
      "cell_type": "code",
      "execution_count": 22,
      "metadata": {},
      "outputs": [
        {
          "name": "stdout",
          "output_type": "stream",
          "text": [
            "torch.Size([3, 20])\n"
          ]
        }
      ],
      "source": [
        "layer1 = nn.Linear(in_features=28*28, out_features=20)\n",
        "hidden1 = layer1(flat_image)\n",
        "print(hidden1.size())"
      ]
    },
    {
      "cell_type": "markdown",
      "metadata": {},
      "source": [
        "### nn.ReLU\n",
        "\n",
        "Non-linear activations are what create the complex mappings between the model's inputs and outputs.\n",
        "They are applied after linear transformations to introduce *nonlinearity*, helping neural networks\n",
        "learn a wide variety of phenomena. In this model, we use `nn.ReLU` between our linear layers, but there's other activations to introduce non-linearity in your model.\n",
        "\n",
        "The ReLU activation function takes the output from the linear layer calculation and replaces the negative values with zeros.\n",
        "\n",
        "Linear output: ${ x = {weight * input + bias}} $.  \n",
        "ReLU:  $f(x)= \n",
        "\\begin{cases}\n",
        "    0, & \\text{if } x < 0\\\\\n",
        "    x, & \\text{if } x\\geq 0\\\\\n",
        "\\end{cases}\n",
        "$"
      ]
    },
    {
      "cell_type": "code",
      "execution_count": 23,
      "metadata": {
        "scrolled": true
      },
      "outputs": [
        {
          "name": "stdout",
          "output_type": "stream",
          "text": [
            "Before ReLU: tensor([[ 0.2475,  0.1324, -0.2333,  0.2124, -0.1718, -0.3042,  0.0369, -0.0405,\n",
            "         -0.1893, -0.1181, -0.5519, -0.5084,  0.0234, -0.2365, -0.5087, -0.1989,\n",
            "          0.8105,  0.1982,  0.7474,  0.1900],\n",
            "        [ 0.0238,  0.2330, -0.2761,  0.5029, -0.1057, -0.2556,  0.1678, -0.0408,\n",
            "         -0.8124,  0.1149, -0.1198, -0.1466,  0.2672, -0.4059, -0.4988,  0.0644,\n",
            "          0.9719,  0.4548,  0.5187, -0.0859],\n",
            "        [ 0.3287, -0.0057, -0.3548,  0.0370, -0.0012, -0.1089,  0.0615, -0.5090,\n",
            "         -0.3535,  0.0042, -0.2554, -0.4873,  0.1898, -0.1893, -0.0413, -0.0229,\n",
            "          0.5757,  0.2615,  0.7095,  0.4245]], grad_fn=<AddmmBackward0>)\n",
            "\n",
            "\n",
            "After ReLU: tensor([[0.2475, 0.1324, 0.0000, 0.2124, 0.0000, 0.0000, 0.0369, 0.0000, 0.0000,\n",
            "         0.0000, 0.0000, 0.0000, 0.0234, 0.0000, 0.0000, 0.0000, 0.8105, 0.1982,\n",
            "         0.7474, 0.1900],\n",
            "        [0.0238, 0.2330, 0.0000, 0.5029, 0.0000, 0.0000, 0.1678, 0.0000, 0.0000,\n",
            "         0.1149, 0.0000, 0.0000, 0.2672, 0.0000, 0.0000, 0.0644, 0.9719, 0.4548,\n",
            "         0.5187, 0.0000],\n",
            "        [0.3287, 0.0000, 0.0000, 0.0370, 0.0000, 0.0000, 0.0615, 0.0000, 0.0000,\n",
            "         0.0042, 0.0000, 0.0000, 0.1898, 0.0000, 0.0000, 0.0000, 0.5757, 0.2615,\n",
            "         0.7095, 0.4245]], grad_fn=<ReluBackward0>)\n"
          ]
        }
      ],
      "source": [
        "print(f\"Before ReLU: {hidden1}\\n\\n\")\n",
        "hidden1 = nn.ReLU()(hidden1)\n",
        "print(f\"After ReLU: {hidden1}\")"
      ]
    },
    {
      "cell_type": "markdown",
      "metadata": {},
      "source": [
        "### nn.Sequential\n",
        "\n",
        "`nn.Sequential` is an ordered \n",
        "container of modules. The data is passed through all the modules in the same order as defined. You can use\n",
        "sequential containers to put together a quick network like `seq_modules`."
      ]
    },
    {
      "cell_type": "code",
      "execution_count": 24,
      "metadata": {},
      "outputs": [],
      "source": [
        "seq_modules = nn.Sequential(\n",
        "    flatten,\n",
        "    layer1,\n",
        "    nn.ReLU(),\n",
        "    nn.Linear(20, 10)\n",
        ")\n",
        "input_image = torch.rand(3,28,28)\n",
        "logits = seq_modules(input_image)"
      ]
    },
    {
      "cell_type": "markdown",
      "metadata": {},
      "source": [
        "### nn.Softmax\n",
        "\n",
        "The last linear layer of the neural network returns `logits` - raw values in \\[`-infty`, `infty`], which are passed to the\n",
        "`nn.Softmax` module. The Softmax activation function is used to calculate the probability of the output from the neural network.  It is only used on the output layer of a neural network.  The results are scaled to values \\[0, 1\\] representing the model's predicted densities for each class. `dim` parameter indicates the dimension along which the result values must sum to 1.  The node with the highest probability predicts the desired output.\n",
        "\n",
        "<img alt=\"Diagram shows softmax formula\" src=\"images/4-model-4.png\" />"
      ]
    },
    {
      "cell_type": "code",
      "execution_count": 25,
      "metadata": {},
      "outputs": [],
      "source": [
        "softmax = nn.Softmax(dim=1)\n",
        "pred_probab = softmax(logits)"
      ]
    },
    {
      "cell_type": "code",
      "execution_count": 26,
      "metadata": {},
      "outputs": [
        {
          "data": {
            "text/plain": [
              "tensor([[0.1120, 0.1095, 0.0907, 0.1107, 0.0936, 0.0748, 0.1199, 0.0968, 0.0819,\n",
              "         0.1102],\n",
              "        [0.1224, 0.1242, 0.0853, 0.1042, 0.0967, 0.0681, 0.1087, 0.1019, 0.0792,\n",
              "         0.1094],\n",
              "        [0.1001, 0.1167, 0.0986, 0.1229, 0.0919, 0.0644, 0.1355, 0.0929, 0.0776,\n",
              "         0.0994]], grad_fn=<SoftmaxBackward0>)"
            ]
          },
          "execution_count": 26,
          "metadata": {},
          "output_type": "execute_result"
        }
      ],
      "source": [
        "pred_probab"
      ]
    },
    {
      "cell_type": "markdown",
      "metadata": {},
      "source": [
        "## Model parameters\n",
        "\n",
        "Many layers inside a neural network are *parameterized*, i.e. have associated weights \n",
        "and biases that are optimized during training. Subclassing `nn.Module` automatically \n",
        "tracks all fields defined inside your model object, and makes all parameters \n",
        "accessible using your model's `parameters()` or `named_parameters()` methods.\n",
        "\n",
        "In this example, we iterate over each parameter, and print its size and a preview of its values.\n"
      ]
    },
    {
      "cell_type": "code",
      "execution_count": 27,
      "metadata": {
        "scrolled": true
      },
      "outputs": [
        {
          "name": "stdout",
          "output_type": "stream",
          "text": [
            "Model structure:  NeuralNetwork(\n",
            "  (flatten): Flatten(start_dim=1, end_dim=-1)\n",
            "  (linear_relu_stack): Sequential(\n",
            "    (0): Linear(in_features=784, out_features=512, bias=True)\n",
            "    (1): ReLU()\n",
            "    (2): Linear(in_features=512, out_features=512, bias=True)\n",
            "    (3): ReLU()\n",
            "    (4): Linear(in_features=512, out_features=10, bias=True)\n",
            "    (5): ReLU()\n",
            "  )\n",
            ") \n",
            "\n",
            "\n",
            "Layer: linear_relu_stack.0.weight | Size: torch.Size([512, 784]) | Values : tensor([[ 0.0096, -0.0102,  0.0099,  ...,  0.0024, -0.0043,  0.0204],\n",
            "        [-0.0353, -0.0278, -0.0143,  ...,  0.0339, -0.0234, -0.0098]],\n",
            "       grad_fn=<SliceBackward0>) \n",
            "\n",
            "Layer: linear_relu_stack.0.bias | Size: torch.Size([512]) | Values : tensor([0.0078, 0.0231], grad_fn=<SliceBackward0>) \n",
            "\n",
            "Layer: linear_relu_stack.2.weight | Size: torch.Size([512, 512]) | Values : tensor([[ 0.0215,  0.0081,  0.0100,  ..., -0.0032, -0.0345,  0.0072],\n",
            "        [-0.0225, -0.0157,  0.0368,  ...,  0.0036,  0.0117,  0.0247]],\n",
            "       grad_fn=<SliceBackward0>) \n",
            "\n",
            "Layer: linear_relu_stack.2.bias | Size: torch.Size([512]) | Values : tensor([0.0418, 0.0201], grad_fn=<SliceBackward0>) \n",
            "\n",
            "Layer: linear_relu_stack.4.weight | Size: torch.Size([10, 512]) | Values : tensor([[ 2.9183e-02, -5.9820e-03,  2.8271e-02,  ..., -1.6906e-03,\n",
            "          1.2458e-02, -1.9283e-02],\n",
            "        [-3.3550e-05, -3.1221e-02,  1.3834e-02,  ...,  1.5267e-02,\n",
            "         -1.8125e-02,  1.1973e-02]], grad_fn=<SliceBackward0>) \n",
            "\n",
            "Layer: linear_relu_stack.4.bias | Size: torch.Size([10]) | Values : tensor([-0.0322, -0.0361], grad_fn=<SliceBackward0>) \n",
            "\n"
          ]
        }
      ],
      "source": [
        "print(\"Model structure: \", model, \"\\n\\n\")\n",
        "\n",
        "for name, param in model.named_parameters():\n",
        "    print(f\"Layer: {name} | Size: {param.size()} | Values : {param[:2]} \\n\")"
      ]
    },
    {
      "cell_type": "markdown",
      "metadata": {},
      "source": [
        "--------------\n",
        "\n",
        "\n"
      ]
    }
  ],
  "metadata": {
    "kernelspec": {
      "display_name": "base",
      "language": "python",
      "name": "python3"
    },
    "language_info": {
      "codemirror_mode": {
        "name": "ipython",
        "version": 3
      },
      "file_extension": ".py",
      "mimetype": "text/x-python",
      "name": "python",
      "nbconvert_exporter": "python",
      "pygments_lexer": "ipython3",
      "version": "3.9.7"
    },
    "nteract": {
      "version": "nteract-front-end@1.0.0"
    },
    "vscode": {
      "interpreter": {
        "hash": "5179d32cf6ec497baf3f8a3ef987cc77c5d2dc691fdde20a56316522f61a7323"
      }
    }
  },
  "nbformat": 4,
  "nbformat_minor": 1
}
