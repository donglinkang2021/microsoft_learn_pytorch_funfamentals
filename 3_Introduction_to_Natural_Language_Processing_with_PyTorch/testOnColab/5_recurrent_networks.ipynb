{
  "cells": [
    {
      "cell_type": "markdown",
      "source": [
        "# Recurrent neural networks\n",
        "\n",
        "In the previous module, we have been using rich **_semantic representations of text_**, and a simple linear classifier on top of the embeddings. What this architecture does is to capture aggregated meaning of words in a sentence, but it does not take into account the **order** of words, because aggregation operation on top of embeddings removed this information from the original text. Because these models are unable to model word ordering, they cannot solve more complex or ambiguous tasks such as text generation or question answering.\n",
        "\n",
        "To capture the meaning of text sequence, we need to use another neural network architecture, which is called a **recurrent neural network**, or RNN. In RNN, we pass our sentence through the network one word vector from a news article sequence at a time, and the network produces some **state**, which we then pass to the network again with the next one word vector from the sequence.  RNN storing a \"memory\" of the previous in the state, helps the network understand the **_context of the sentence_** to be able to predict the network word in the sequence.\n",
        "\n",
        "<img alt=\"Image showing an example recurrent neural network generation.\" src=\"images/5-recurrent-networks-1.png\" align=\"middle\" />\n",
        "\n",
        "- Given the input sequence of word vectors $X_0,\\dots,X_n$, RNN creates a sequence of neural network blocks, and trains this sequence end-to-end using back propagation. \n",
        "- Each network block takes a pair $(X_i,h_i)$ as an input, and produces $h_{i+1}$ as a result. \n",
        "- Final state $h_n$ or output $y$ goes into a linear classifier to produce the result. \n",
        "- All network blocks share the same weights, and are trained end-to-end using one backpropagation pass.\n",
        "\n",
        "The hidden cell containing the current and prior state is calculated with the following formula:\n",
        "\n",
        "- $h(t) = {\\tanh(W_{h}h_{t-1} + W_{x}x_{t} + B_{h}) }$ \n",
        "- $y(t) = {  W_{y}h_{t} + B_{y} }$ \n",
        "- Tanh is hyperbolic tangent function, which is defined as ${\\tanh(x)} = {\\large \\frac{e^{x} - e^{-x}}{e^{x} + e^{-x}}} $\n",
        "\n",
        "At each network block, weights $W_{x}$ are applied to the numeric word vector input value; applying the previous hidden state $W_{h}$; and the  final state $W_{y}$. The ${tanh}$ activation function is applied to the hidden layer to produce values between $[-1,1]$.\n",
        "\n",
        "Because state vectors $h_0,\\dots,h_n$ are passed through the network, it is able to learn the sequential dependencies between words. For example, when the word **_not_** appears somewhere in the sequence, it can learn to negate certain elements within the state vector, resulting in negation.  \n",
        "\n",
        "Let's see how recurrent neural networks can help us classify our news dataset."
      ],
      "metadata": {
        "id": "UI5NNls0fDkO"
      }
    },
    {
      "cell_type": "code",
      "source": [
        "!pip install -r https://raw.githubusercontent.com/MicrosoftDocs/pytorchfundamentals/main/nlp-pytorch/requirements.txt\n",
        "!pip install torchinfo\n",
        "!wget -q https://raw.githubusercontent.com/MicrosoftDocs/pytorchfundamentals/main/nlp-pytorch/torchnlp.py"
      ],
      "metadata": {
        "colab": {
          "base_uri": "https://localhost:8080/"
        },
        "id": "hO1HASfOhgee",
        "outputId": "2b5e2283-5d35-4f72-c9fa-4cd79b9b5341"
      },
      "execution_count": 1,
      "outputs": [
        {
          "output_type": "stream",
          "name": "stdout",
          "text": [
            "Looking in indexes: https://pypi.org/simple, https://us-python.pkg.dev/colab-wheels/public/simple/\n",
            "Collecting gensim==3.8.3\n",
            "  Downloading gensim-3.8.3-cp38-cp38-manylinux1_x86_64.whl (24.2 MB)\n",
            "\u001b[2K     \u001b[90m━━━━━━━━━━━━━━━━━━━━━━━━━━━━━━━━━━━━━━━━\u001b[0m \u001b[32m24.2/24.2 MB\u001b[0m \u001b[31m59.0 MB/s\u001b[0m eta \u001b[36m0:00:00\u001b[0m\n",
            "\u001b[?25hCollecting huggingface==0.0.1\n",
            "  Downloading huggingface-0.0.1-py3-none-any.whl (2.5 kB)\n",
            "Requirement already satisfied: matplotlib in /usr/local/lib/python3.8/dist-packages (from -r https://raw.githubusercontent.com/MicrosoftDocs/pytorchfundamentals/main/nlp-pytorch/requirements.txt (line 3)) (3.2.2)\n",
            "Collecting nltk==3.5\n",
            "  Downloading nltk-3.5.zip (1.4 MB)\n",
            "\u001b[2K     \u001b[90m━━━━━━━━━━━━━━━━━━━━━━━━━━━━━━━━━━━━━━━━\u001b[0m \u001b[32m1.4/1.4 MB\u001b[0m \u001b[31m75.9 MB/s\u001b[0m eta \u001b[36m0:00:00\u001b[0m\n",
            "\u001b[?25h  Preparing metadata (setup.py) ... \u001b[?25l\u001b[?25hdone\n",
            "Collecting numpy==1.18.5\n",
            "  Downloading numpy-1.18.5-cp38-cp38-manylinux1_x86_64.whl (20.6 MB)\n",
            "\u001b[2K     \u001b[90m━━━━━━━━━━━━━━━━━━━━━━━━━━━━━━━━━━━━━━━━\u001b[0m \u001b[32m20.6/20.6 MB\u001b[0m \u001b[31m57.9 MB/s\u001b[0m eta \u001b[36m0:00:00\u001b[0m\n",
            "\u001b[?25hCollecting opencv-python==4.5.1.48\n",
            "  Downloading opencv_python-4.5.1.48-cp38-cp38-manylinux2014_x86_64.whl (50.4 MB)\n",
            "\u001b[2K     \u001b[90m━━━━━━━━━━━━━━━━━━━━━━━━━━━━━━━━━━━━━━━━\u001b[0m \u001b[32m50.4/50.4 MB\u001b[0m \u001b[31m13.7 MB/s\u001b[0m eta \u001b[36m0:00:00\u001b[0m\n",
            "\u001b[?25hRequirement already satisfied: Pillow==7.1.2 in /usr/local/lib/python3.8/dist-packages (from -r https://raw.githubusercontent.com/MicrosoftDocs/pytorchfundamentals/main/nlp-pytorch/requirements.txt (line 7)) (7.1.2)\n",
            "Requirement already satisfied: scikit-learn in /usr/local/lib/python3.8/dist-packages (from -r https://raw.githubusercontent.com/MicrosoftDocs/pytorchfundamentals/main/nlp-pytorch/requirements.txt (line 8)) (1.0.2)\n",
            "Requirement already satisfied: scipy in /usr/local/lib/python3.8/dist-packages (from -r https://raw.githubusercontent.com/MicrosoftDocs/pytorchfundamentals/main/nlp-pytorch/requirements.txt (line 9)) (1.7.3)\n",
            "Collecting torch==1.8.1\n",
            "  Downloading torch-1.8.1-cp38-cp38-manylinux1_x86_64.whl (804.1 MB)\n",
            "\u001b[2K     \u001b[90m━━━━━━━━━━━━━━━━━━━━━━━━━━━━━━━━━━━━━━━\u001b[0m \u001b[32m804.1/804.1 MB\u001b[0m \u001b[31m2.1 MB/s\u001b[0m eta \u001b[36m0:00:00\u001b[0m\n",
            "\u001b[?25hCollecting torchaudio==0.8.1\n",
            "  Downloading torchaudio-0.8.1-cp38-cp38-manylinux1_x86_64.whl (1.9 MB)\n",
            "\u001b[2K     \u001b[90m━━━━━━━━━━━━━━━━━━━━━━━━━━━━━━━━━━━━━━━━\u001b[0m \u001b[32m1.9/1.9 MB\u001b[0m \u001b[31m88.2 MB/s\u001b[0m eta \u001b[36m0:00:00\u001b[0m\n",
            "\u001b[?25hCollecting torchinfo==0.0.8\n",
            "  Downloading torchinfo-0.0.8-py3-none-any.whl (16 kB)\n",
            "Collecting torchtext==0.9.1\n",
            "  Downloading torchtext-0.9.1-cp38-cp38-manylinux1_x86_64.whl (7.0 MB)\n",
            "\u001b[2K     \u001b[90m━━━━━━━━━━━━━━━━━━━━━━━━━━━━━━━━━━━━━━━━\u001b[0m \u001b[32m7.0/7.0 MB\u001b[0m \u001b[31m87.7 MB/s\u001b[0m eta \u001b[36m0:00:00\u001b[0m\n",
            "\u001b[?25hCollecting torchvision==0.9.1\n",
            "  Downloading torchvision-0.9.1-cp38-cp38-manylinux1_x86_64.whl (17.4 MB)\n",
            "\u001b[2K     \u001b[90m━━━━━━━━━━━━━━━━━━━━━━━━━━━━━━━━━━━━━━━━\u001b[0m \u001b[32m17.4/17.4 MB\u001b[0m \u001b[31m71.4 MB/s\u001b[0m eta \u001b[36m0:00:00\u001b[0m\n",
            "\u001b[?25hCollecting transformers==4.3.3\n",
            "  Downloading transformers-4.3.3-py3-none-any.whl (1.9 MB)\n",
            "\u001b[2K     \u001b[90m━━━━━━━━━━━━━━━━━━━━━━━━━━━━━━━━━━━━━━━━\u001b[0m \u001b[32m1.9/1.9 MB\u001b[0m \u001b[31m52.0 MB/s\u001b[0m eta \u001b[36m0:00:00\u001b[0m\n",
            "\u001b[?25hRequirement already satisfied: smart-open>=1.8.1 in /usr/local/lib/python3.8/dist-packages (from gensim==3.8.3->-r https://raw.githubusercontent.com/MicrosoftDocs/pytorchfundamentals/main/nlp-pytorch/requirements.txt (line 1)) (6.3.0)\n",
            "Requirement already satisfied: six>=1.5.0 in /usr/local/lib/python3.8/dist-packages (from gensim==3.8.3->-r https://raw.githubusercontent.com/MicrosoftDocs/pytorchfundamentals/main/nlp-pytorch/requirements.txt (line 1)) (1.15.0)\n",
            "Requirement already satisfied: click in /usr/local/lib/python3.8/dist-packages (from nltk==3.5->-r https://raw.githubusercontent.com/MicrosoftDocs/pytorchfundamentals/main/nlp-pytorch/requirements.txt (line 4)) (7.1.2)\n",
            "Requirement already satisfied: joblib in /usr/local/lib/python3.8/dist-packages (from nltk==3.5->-r https://raw.githubusercontent.com/MicrosoftDocs/pytorchfundamentals/main/nlp-pytorch/requirements.txt (line 4)) (1.2.0)\n",
            "Requirement already satisfied: regex in /usr/local/lib/python3.8/dist-packages (from nltk==3.5->-r https://raw.githubusercontent.com/MicrosoftDocs/pytorchfundamentals/main/nlp-pytorch/requirements.txt (line 4)) (2022.6.2)\n",
            "Requirement already satisfied: tqdm in /usr/local/lib/python3.8/dist-packages (from nltk==3.5->-r https://raw.githubusercontent.com/MicrosoftDocs/pytorchfundamentals/main/nlp-pytorch/requirements.txt (line 4)) (4.64.1)\n",
            "Requirement already satisfied: typing-extensions in /usr/local/lib/python3.8/dist-packages (from torch==1.8.1->-r https://raw.githubusercontent.com/MicrosoftDocs/pytorchfundamentals/main/nlp-pytorch/requirements.txt (line 10)) (4.4.0)\n",
            "Requirement already satisfied: requests in /usr/local/lib/python3.8/dist-packages (from torchtext==0.9.1->-r https://raw.githubusercontent.com/MicrosoftDocs/pytorchfundamentals/main/nlp-pytorch/requirements.txt (line 13)) (2.25.1)\n",
            "Requirement already satisfied: filelock in /usr/local/lib/python3.8/dist-packages (from transformers==4.3.3->-r https://raw.githubusercontent.com/MicrosoftDocs/pytorchfundamentals/main/nlp-pytorch/requirements.txt (line 15)) (3.9.0)\n",
            "Collecting tokenizers<0.11,>=0.10.1\n",
            "  Downloading tokenizers-0.10.3-cp38-cp38-manylinux_2_5_x86_64.manylinux1_x86_64.manylinux_2_12_x86_64.manylinux2010_x86_64.whl (3.3 MB)\n",
            "\u001b[2K     \u001b[90m━━━━━━━━━━━━━━━━━━━━━━━━━━━━━━━━━━━━━━━━\u001b[0m \u001b[32m3.3/3.3 MB\u001b[0m \u001b[31m110.6 MB/s\u001b[0m eta \u001b[36m0:00:00\u001b[0m\n",
            "\u001b[?25hCollecting sacremoses\n",
            "  Downloading sacremoses-0.0.53.tar.gz (880 kB)\n",
            "\u001b[2K     \u001b[90m━━━━━━━━━━━━━━━━━━━━━━━━━━━━━━━━━━━━━━\u001b[0m \u001b[32m880.6/880.6 KB\u001b[0m \u001b[31m67.2 MB/s\u001b[0m eta \u001b[36m0:00:00\u001b[0m\n",
            "\u001b[?25h  Preparing metadata (setup.py) ... \u001b[?25l\u001b[?25hdone\n",
            "Requirement already satisfied: packaging in /usr/local/lib/python3.8/dist-packages (from transformers==4.3.3->-r https://raw.githubusercontent.com/MicrosoftDocs/pytorchfundamentals/main/nlp-pytorch/requirements.txt (line 15)) (23.0)\n",
            "Requirement already satisfied: cycler>=0.10 in /usr/local/lib/python3.8/dist-packages (from matplotlib->-r https://raw.githubusercontent.com/MicrosoftDocs/pytorchfundamentals/main/nlp-pytorch/requirements.txt (line 3)) (0.11.0)\n",
            "Requirement already satisfied: kiwisolver>=1.0.1 in /usr/local/lib/python3.8/dist-packages (from matplotlib->-r https://raw.githubusercontent.com/MicrosoftDocs/pytorchfundamentals/main/nlp-pytorch/requirements.txt (line 3)) (1.4.4)\n",
            "Requirement already satisfied: python-dateutil>=2.1 in /usr/local/lib/python3.8/dist-packages (from matplotlib->-r https://raw.githubusercontent.com/MicrosoftDocs/pytorchfundamentals/main/nlp-pytorch/requirements.txt (line 3)) (2.8.2)\n",
            "Requirement already satisfied: pyparsing!=2.0.4,!=2.1.2,!=2.1.6,>=2.0.1 in /usr/local/lib/python3.8/dist-packages (from matplotlib->-r https://raw.githubusercontent.com/MicrosoftDocs/pytorchfundamentals/main/nlp-pytorch/requirements.txt (line 3)) (3.0.9)\n",
            "Requirement already satisfied: threadpoolctl>=2.0.0 in /usr/local/lib/python3.8/dist-packages (from scikit-learn->-r https://raw.githubusercontent.com/MicrosoftDocs/pytorchfundamentals/main/nlp-pytorch/requirements.txt (line 8)) (3.1.0)\n",
            "Requirement already satisfied: chardet<5,>=3.0.2 in /usr/local/lib/python3.8/dist-packages (from requests->torchtext==0.9.1->-r https://raw.githubusercontent.com/MicrosoftDocs/pytorchfundamentals/main/nlp-pytorch/requirements.txt (line 13)) (4.0.0)\n",
            "Requirement already satisfied: urllib3<1.27,>=1.21.1 in /usr/local/lib/python3.8/dist-packages (from requests->torchtext==0.9.1->-r https://raw.githubusercontent.com/MicrosoftDocs/pytorchfundamentals/main/nlp-pytorch/requirements.txt (line 13)) (1.24.3)\n",
            "Requirement already satisfied: certifi>=2017.4.17 in /usr/local/lib/python3.8/dist-packages (from requests->torchtext==0.9.1->-r https://raw.githubusercontent.com/MicrosoftDocs/pytorchfundamentals/main/nlp-pytorch/requirements.txt (line 13)) (2022.12.7)\n",
            "Requirement already satisfied: idna<3,>=2.5 in /usr/local/lib/python3.8/dist-packages (from requests->torchtext==0.9.1->-r https://raw.githubusercontent.com/MicrosoftDocs/pytorchfundamentals/main/nlp-pytorch/requirements.txt (line 13)) (2.10)\n",
            "Building wheels for collected packages: nltk, sacremoses\n",
            "  Building wheel for nltk (setup.py) ... \u001b[?25l\u001b[?25hdone\n",
            "  Created wheel for nltk: filename=nltk-3.5-py3-none-any.whl size=1434692 sha256=203419b4333649eb1d822ab48700fdecc293c20ae306e0dc760b68fb061e2472\n",
            "  Stored in directory: /root/.cache/pip/wheels/ff/d5/7b/f1fb4e1e1603b2f01c2424dd60fbcc50c12ef918bafc44b155\n",
            "  Building wheel for sacremoses (setup.py) ... \u001b[?25l\u001b[?25hdone\n",
            "  Created wheel for sacremoses: filename=sacremoses-0.0.53-py3-none-any.whl size=895260 sha256=25af7f2142f77ee1407a061f149eede0370c97a5ed5d2d2504247213fb5b608e\n",
            "  Stored in directory: /root/.cache/pip/wheels/82/ab/9b/c15899bf659ba74f623ac776e861cf2eb8608c1825ddec66a4\n",
            "Successfully built nltk sacremoses\n",
            "Installing collected packages: tokenizers, huggingface, torchinfo, sacremoses, numpy, nltk, transformers, torch, opencv-python, torchvision, torchtext, torchaudio, gensim\n",
            "  Attempting uninstall: numpy\n",
            "    Found existing installation: numpy 1.21.6\n",
            "    Uninstalling numpy-1.21.6:\n",
            "      Successfully uninstalled numpy-1.21.6\n",
            "  Attempting uninstall: nltk\n",
            "    Found existing installation: nltk 3.7\n",
            "    Uninstalling nltk-3.7:\n",
            "      Successfully uninstalled nltk-3.7\n",
            "  Attempting uninstall: torch\n",
            "    Found existing installation: torch 1.13.1+cu116\n",
            "    Uninstalling torch-1.13.1+cu116:\n",
            "      Successfully uninstalled torch-1.13.1+cu116\n",
            "  Attempting uninstall: opencv-python\n",
            "    Found existing installation: opencv-python 4.6.0.66\n",
            "    Uninstalling opencv-python-4.6.0.66:\n",
            "      Successfully uninstalled opencv-python-4.6.0.66\n",
            "  Attempting uninstall: torchvision\n",
            "    Found existing installation: torchvision 0.14.1+cu116\n",
            "    Uninstalling torchvision-0.14.1+cu116:\n",
            "      Successfully uninstalled torchvision-0.14.1+cu116\n",
            "  Attempting uninstall: torchtext\n",
            "    Found existing installation: torchtext 0.14.1\n",
            "    Uninstalling torchtext-0.14.1:\n",
            "      Successfully uninstalled torchtext-0.14.1\n",
            "  Attempting uninstall: torchaudio\n",
            "    Found existing installation: torchaudio 0.13.1+cu116\n",
            "    Uninstalling torchaudio-0.13.1+cu116:\n",
            "      Successfully uninstalled torchaudio-0.13.1+cu116\n",
            "  Attempting uninstall: gensim\n",
            "    Found existing installation: gensim 3.6.0\n",
            "    Uninstalling gensim-3.6.0:\n",
            "      Successfully uninstalled gensim-3.6.0\n",
            "\u001b[31mERROR: pip's dependency resolver does not currently take into account all the packages that are installed. This behaviour is the source of the following dependency conflicts.\n",
            "xarray 2022.12.0 requires numpy>=1.20, but you have numpy 1.18.5 which is incompatible.\n",
            "xarray-einstats 0.5.1 requires numpy>=1.20, but you have numpy 1.18.5 which is incompatible.\n",
            "tensorflow 2.9.2 requires numpy>=1.20, but you have numpy 1.18.5 which is incompatible.\n",
            "tables 3.7.0 requires numpy>=1.19.0, but you have numpy 1.18.5 which is incompatible.\n",
            "plotnine 0.8.0 requires numpy>=1.19.0, but you have numpy 1.18.5 which is incompatible.\n",
            "jaxlib 0.3.25+cuda11.cudnn805 requires numpy>=1.20, but you have numpy 1.18.5 which is incompatible.\n",
            "jax 0.3.25 requires numpy>=1.20, but you have numpy 1.18.5 which is incompatible.\n",
            "cupy-cuda11x 11.0.0 requires numpy<1.26,>=1.20, but you have numpy 1.18.5 which is incompatible.\n",
            "cmdstanpy 1.1.0 requires numpy>=1.21, but you have numpy 1.18.5 which is incompatible.\u001b[0m\u001b[31m\n",
            "\u001b[0mSuccessfully installed gensim-3.8.3 huggingface-0.0.1 nltk-3.5 numpy-1.18.5 opencv-python-4.5.1.48 sacremoses-0.0.53 tokenizers-0.10.3 torch-1.8.1 torchaudio-0.8.1 torchinfo-0.0.8 torchtext-0.9.1 torchvision-0.9.1 transformers-4.3.3\n",
            "Looking in indexes: https://pypi.org/simple, https://us-python.pkg.dev/colab-wheels/public/simple/\n",
            "Requirement already satisfied: torchinfo in /usr/local/lib/python3.8/dist-packages (0.0.8)\n"
          ]
        }
      ]
    },
    {
      "cell_type": "code",
      "source": [
        "import torch\n",
        "import torchtext\n",
        "from torchinfo import summary\n",
        "from torchnlp import *\n",
        "train_dataset, test_dataset, classes, vocab = load_dataset()\n",
        "vocab_size = len(vocab)"
      ],
      "outputs": [
        {
          "output_type": "stream",
          "name": "stdout",
          "text": [
            "Loading dataset...\n"
          ]
        },
        {
          "output_type": "stream",
          "name": "stderr",
          "text": [
            "train.csv: 29.5MB [00:00, 120MB/s]\n",
            "test.csv: 1.86MB [00:00, 96.4MB/s]                  \n"
          ]
        },
        {
          "output_type": "stream",
          "name": "stdout",
          "text": [
            "Building vocab...\n"
          ]
        }
      ],
      "execution_count": 2,
      "metadata": {
        "vscode": {
          "languageId": "json"
        },
        "colab": {
          "base_uri": "https://localhost:8080/"
        },
        "id": "fxB-p-9rfDkP",
        "outputId": "74fc7ec9-8456-43ad-f8fc-b6309ce550c3"
      }
    },
    {
      "cell_type": "markdown",
      "source": [
        "## Simple RNN classifier\n",
        "\n",
        "In the case of simple RNN, each recurrent unit is a simple linear network, which takes concatenated input vector and state vector, and produce a new state vector. PyTorch represents this unit with `RNNCell` class, and a networks of each cells - as `RNN` layer.\n",
        "\n",
        "To define an RNN classifier, we will first apply an embedding layer to lower the dimensionality of input vocabulary, and then have a RNN layer on top of it: "
      ],
      "metadata": {
        "id": "eP2cOaywfDkQ"
      }
    },
    {
      "cell_type": "code",
      "source": [
        "class RNNClassifier(torch.nn.Module):\n",
        "    def __init__(self, vocab_size, embed_dim, hidden_dim, num_class):\n",
        "        super().__init__()\n",
        "        self.hidden_dim = hidden_dim\n",
        "        self.embedding = torch.nn.Embedding(vocab_size, embed_dim)\n",
        "        self.rnn = torch.nn.RNN(embed_dim,hidden_dim,batch_first=True)\n",
        "        self.fc = torch.nn.Linear(hidden_dim, num_class)\n",
        "\n",
        "    def forward(self, x):\n",
        "        batch_size = x.size(0)\n",
        "        x = self.embedding(x)\n",
        "        x,h = self.rnn(x)\n",
        "        return self.fc(x.mean(dim=1))"
      ],
      "outputs": [],
      "execution_count": 3,
      "metadata": {
        "vscode": {
          "languageId": "json"
        },
        "id": "92QPKwyPfDkR"
      }
    },
    {
      "cell_type": "markdown",
      "source": [
        "> **Note:** We use untrained embedding layer here for simplicity, but for even better results we can use pre-trained embedding layer with Word2Vec or GloVe embeddings, as described in the previous unit. For better understanding, you might want to adapt this code to work with pre-trained embeddings.\n",
        "\n",
        "In our case, we will use padded data loader, so each batch will have a number of padded sequences of the same length. RNN layer will take the sequence of embedding tensors, and produce two outputs:\n",
        "\n",
        "* The `input` to the embedding layer is the word sequence or news article\n",
        "* The `embedding layer` output contains the vector index value in vocab for each word in the sequence\n",
        "* $x$ is a sequence of RNN cell outputs at each step.  \n",
        "* $h$ is a final `hidden state` for the last element of the sequence.  Each RNN hidden layer stores the prior word in the sequence and the current as each word in the sequence is passed through the layers.\n",
        "\n",
        "We then apply a fully-connected linear classifier to get the probability for number of classes.\n",
        "\n",
        "> **Note:** RNNs are quite difficult to train, because once the RNN cells are unrolled along the sequence length, the resulting number of layers involved in back propagation is quite large. Thus we need to select small learning rate, and train the network on larger dataset to produce good results. It can take quite a long time, so using GPU is preferred."
      ],
      "metadata": {
        "id": "Fq0FLmEpfDkR"
      }
    },
    {
      "cell_type": "code",
      "source": [
        "train_loader = torch.utils.data.DataLoader(train_dataset, batch_size=16, collate_fn=padify, shuffle=True)\n",
        "net = RNNClassifier(vocab_size,64,32,len(classes)).to(device)\n",
        "train_epoch(net,train_loader, lr=0.001)"
      ],
      "outputs": [
        {
          "output_type": "stream",
          "name": "stdout",
          "text": [
            "3200: acc=0.311875\n",
            "6400: acc=0.3775\n",
            "9600: acc=0.433125\n",
            "12800: acc=0.47953125\n",
            "16000: acc=0.5185\n",
            "19200: acc=0.5518229166666667\n",
            "22400: acc=0.58\n",
            "25600: acc=0.6065625\n",
            "28800: acc=0.6254166666666666\n",
            "32000: acc=0.6430625\n",
            "35200: acc=0.6582954545454546\n",
            "38400: acc=0.6727604166666666\n",
            "41600: acc=0.6848076923076923\n",
            "44800: acc=0.6960491071428572\n",
            "48000: acc=0.7058333333333333\n",
            "51200: acc=0.7148828125\n",
            "54400: acc=0.7232536764705882\n",
            "57600: acc=0.7298263888888888\n",
            "60800: acc=0.7368092105263158\n",
            "64000: acc=0.743109375\n",
            "67200: acc=0.7488690476190476\n",
            "70400: acc=0.7538920454545455\n",
            "73600: acc=0.759266304347826\n",
            "76800: acc=0.7635546875\n",
            "80000: acc=0.7676\n",
            "83200: acc=0.7715745192307693\n",
            "86400: acc=0.7755208333333333\n",
            "89600: acc=0.7794977678571429\n",
            "92800: acc=0.7827155172413793\n",
            "96000: acc=0.7858541666666666\n",
            "99200: acc=0.7892842741935484\n",
            "102400: acc=0.792138671875\n",
            "105600: acc=0.7949242424242424\n",
            "108800: acc=0.7975643382352942\n",
            "112000: acc=0.80025\n",
            "115200: acc=0.80265625\n",
            "118400: acc=0.8050168918918919\n"
          ]
        },
        {
          "output_type": "execute_result",
          "data": {
            "text/plain": [
              "(0.03318536987304688, 0.8061916666666666)"
            ]
          },
          "metadata": {},
          "execution_count": 4
        }
      ],
      "execution_count": 4,
      "metadata": {
        "scrolled": true,
        "vscode": {
          "languageId": "json"
        },
        "colab": {
          "base_uri": "https://localhost:8080/"
        },
        "id": "05lN8hNOfDkR",
        "outputId": "a0d42ad5-f2a3-410c-aa8d-076831442c1e"
      }
    },
    {
      "cell_type": "markdown",
      "source": [
        "> 上面的训练耗时49s"
      ],
      "metadata": {
        "id": "2Z7CQxT-mGms"
      }
    },
    {
      "cell_type": "code",
      "source": [
        "train_epoch(net,train_loader, lr=0.001)"
      ],
      "metadata": {
        "colab": {
          "base_uri": "https://localhost:8080/"
        },
        "id": "jMhS8IpgmNPl",
        "outputId": "f5409b8f-1d75-4630-a7ce-3c0f3afdf72a"
      },
      "execution_count": 5,
      "outputs": [
        {
          "output_type": "stream",
          "name": "stdout",
          "text": [
            "3200: acc=0.9021875\n",
            "6400: acc=0.905625\n",
            "9600: acc=0.9040625\n",
            "12800: acc=0.90703125\n",
            "16000: acc=0.9061875\n",
            "19200: acc=0.9067708333333333\n",
            "22400: acc=0.906875\n",
            "25600: acc=0.90671875\n",
            "28800: acc=0.9071875\n",
            "32000: acc=0.9075625\n",
            "35200: acc=0.907528409090909\n",
            "38400: acc=0.9072135416666667\n",
            "41600: acc=0.9076442307692307\n",
            "44800: acc=0.90765625\n",
            "48000: acc=0.9078333333333334\n",
            "51200: acc=0.9084375\n",
            "54400: acc=0.9087316176470588\n",
            "57600: acc=0.9089930555555555\n",
            "60800: acc=0.9093092105263157\n",
            "64000: acc=0.9099375\n",
            "67200: acc=0.9099702380952381\n",
            "70400: acc=0.9099573863636363\n",
            "73600: acc=0.9097554347826087\n",
            "76800: acc=0.9099088541666667\n",
            "80000: acc=0.9102375\n",
            "83200: acc=0.9103245192307692\n",
            "86400: acc=0.9104513888888889\n",
            "89600: acc=0.9104129464285714\n",
            "92800: acc=0.9107974137931034\n",
            "96000: acc=0.91115625\n",
            "99200: acc=0.9112600806451613\n",
            "102400: acc=0.911328125\n",
            "105600: acc=0.9114962121212121\n",
            "108800: acc=0.9117279411764706\n",
            "112000: acc=0.9119285714285714\n",
            "115200: acc=0.9122569444444445\n",
            "118400: acc=0.9124155405405405\n"
          ]
        },
        {
          "output_type": "execute_result",
          "data": {
            "text/plain": [
              "(0.016861434936523437, 0.9125666666666666)"
            ]
          },
          "metadata": {},
          "execution_count": 5
        }
      ]
    },
    {
      "cell_type": "markdown",
      "source": [
        "Now, let's load the test dataset to evaluate the trained RNN model.  We'll be using the 4 different classes of the news categories to map the predicted output with the targeted label."
      ],
      "metadata": {
        "id": "KbiBCNMHfDkR"
      }
    },
    {
      "cell_type": "code",
      "source": [
        "print(f'class map: {classes}')\n",
        "\n",
        "test_loader = torch.utils.data.DataLoader(test_dataset, batch_size=16, collate_fn=padify, shuffle=True)"
      ],
      "outputs": [
        {
          "output_type": "stream",
          "name": "stdout",
          "text": [
            "class map: ['World', 'Sports', 'Business', 'Sci/Tech']\n"
          ]
        }
      ],
      "execution_count": 6,
      "metadata": {
        "vscode": {
          "languageId": "json"
        },
        "colab": {
          "base_uri": "https://localhost:8080/"
        },
        "id": "6taKe3H4fDkS",
        "outputId": "349e5f43-9f61-441f-b25f-db13cc379e30"
      }
    },
    {
      "cell_type": "markdown",
      "source": [
        "Before we evaluate the model, we'll extract the padded vector dataset from the dataloader.  We will use the vocab.itos function to convert the numeric index to the word it matches in the vocabulary.  When conversion from numeric to string happens for padded vectors, the '0' values are set to a special character `<unk>` as an unknown identifier. So, the character needs to be removed, depending on the unknown values from the padded zeros.\n",
        "\n",
        "Finally, we’ll run the model with our test dataset to verify if the expected output matched the predicted."
      ],
      "metadata": {
        "id": "nL18K0ZMfDkS"
      }
    },
    {
      "cell_type": "code",
      "source": [
        "net.eval()"
      ],
      "metadata": {
        "colab": {
          "base_uri": "https://localhost:8080/"
        },
        "id": "UjAIFASynQV7",
        "outputId": "d6ce9ddb-300e-4f74-a743-cb640aff66ee"
      },
      "execution_count": 7,
      "outputs": [
        {
          "output_type": "execute_result",
          "data": {
            "text/plain": [
              "RNNClassifier(\n",
              "  (embedding): Embedding(95812, 64)\n",
              "  (rnn): RNN(64, 32, batch_first=True)\n",
              "  (fc): Linear(in_features=32, out_features=4, bias=True)\n",
              ")"
            ]
          },
          "metadata": {},
          "execution_count": 7
        }
      ]
    },
    {
      "cell_type": "code",
      "source": [
        "with torch.no_grad():\n",
        "    for batch_idx, (target, data) in enumerate(test_loader):\n",
        "        \n",
        "        word_lookup = [vocab.itos[w] for w in data[batch_idx]]\n",
        "        unknow_vals = {'<unk>'}\n",
        "        word_lookup = [ele for ele in word_lookup if ele not in unknow_vals]\n",
        "        print('Input text:\\n {}\\n'.format(word_lookup))\n",
        "        \n",
        "        data, target = data.to(device), target.to(device)\n",
        "        pred = net(data)\n",
        "        print(torch.argmax(pred[batch_idx]))\n",
        "        print(\"Actual:\\nvalue={}, class_name= {}\\n\".format(target[batch_idx], classes[target[batch_idx]]))\n",
        "        print(\"Predicted:\\nvalue={}, class_name= {}\\n\".format(pred[0].argmax(0),classes[pred[0].argmax(0)]))\n",
        "        break"
      ],
      "outputs": [
        {
          "output_type": "stream",
          "name": "stdout",
          "text": [
            "Input text:\n",
            " ['junior', 'swears', 'by', 'win', 'at', 'talladega', 'dale', 'earnhardt', 'jr', '.', 'went', 'from', '11th', 'on', 'a', 'restart', 'on', 'lap', '184', 'to', 'first', 'less', 'than', 'two', 'laps', 'later', 'to', 'win', 'the', 'ea', 'sports', '500', '.', 'he', 'led', 'nine', 'times', 'for', '78', 'laps', '.']\n",
            "\n",
            "tensor(1, device='cuda:0')\n",
            "Actual:\n",
            "value=1, class_name= Sports\n",
            "\n",
            "Predicted:\n",
            "value=1, class_name= Sports\n",
            "\n"
          ]
        }
      ],
      "execution_count": 8,
      "metadata": {
        "vscode": {
          "languageId": "json"
        },
        "colab": {
          "base_uri": "https://localhost:8080/"
        },
        "id": "23qCZIe5fDkX",
        "outputId": "ee0da663-497d-48e7-8b5e-ae925599ced9"
      }
    },
    {
      "cell_type": "markdown",
      "source": [
        "## Long Short Term Memory (LSTM)\n",
        "\n",
        "One of the main problems of classical RNNs is the so-called **vanishing gradients** problem. Because RNNs are trained end-to-end in one back-propagation pass, it is having hard times propagating error to the first layers of the network, and thus the network cannot learn relationships between distant tokens. The gradient helps in adjusting the weights during back-progagation to achieve better accuracy and reduce the error margin.  If the weights are too small the network does not learn.  Since the gradient decreases during back-propagation in RNNs, the network does not learn the initial inputs in the network.  In other ways, the network \"forgets\" the earlier word inputs.\n",
        "\n",
        "One of the ways to avoid this problem is to introduce **explicit state management** by using so called **gates**. There are two most known architectures of this kind: **Long Short Term Memory** (LSTM) and **Gated Relay Unit** (GRU).\n",
        "\n",
        "<img alt=\"Image showing an example long short term memory cell\" src=\"images/5-recurrent-networks-2.png\" align=\"middle\" />\n",
        "\n",
        "\n",
        "LSTM Network is organized in a manner similar to RNN, but there are two states that are being passed from layer to layer: `actual state` $c$, and `hidden vector` $h$. \n",
        "- At each unit, hidden vector $h_i$ is concatenated with input $x_i$, and they `control what happens to the state $c$ via **gates**. \n",
        "- Each gate is a neural network with `sigmoid` (${\\sigma}$) activation (output in the range $[0,1]$), which can be thought of as bitwise mask when multiplied by the state vector. \n",
        "\n",
        "There are the following gates (from left to right on the picture above):\n",
        "* **forget gate** takes hidden vector and determines, which components of the vector $c$ we need to forget, and which to pass through. The gate determines which words are not important and sigmod values close to zero need to be thrown out.  The formula is $f_t = \\sigma(W_f  * [x_t + h_{t-1}] + b_f)$.\n",
        "* **input gate** takes some information from the input and hidden vector, and inserts it into state. The formula for the input gate is a product of the new information $i_t = \\sigma(W_i  * [x_t + h_{t-1}] + b_i)$ and the hidden  $\\tilde{C_t} = \\tanh(W_c  * [x_t + h_{t-1}] + b_c)$\n",
        "* **output gate** transforms state via some linear layer with `tanh` activation, then selects some of its components using hidden vector $h_i$ to produce new state $c_{i+1}$.  The formula for the input gate is $o_t = \\sigma(W_o  * [x_t + h_{t-1}] + b_f)$ and the hidden is ${h_t} = {o_t} * \\tanh(C_t) $\n",
        "* **cell state**  takes a product of the hidden state and the forget gate.  Then sums value with the product of the input gate and output gate. $C_t = f_t \\circ C_{t-1} + i_t \\circ \\tilde{C_t}$ \n",
        "\n",
        "Components of the state $c$ can be thought of as some flags that can be switched on and off. For example, when we encounter a name *'Alice'* in the sequence, we may want to assume that it refers to female character, and raise the flag in the state that we have female noun in the sentence. When we further encounter phrases *and Tom*, we will raise the flag that we have plural noun. Thus by manipulating state we can supposedly keep track of grammatical properties of sentence parts.\n",
        "\n",
        "> **Note**: A great resource for understanding internals of LSTM is this great article \"Understanding LSTM Networks\" by Christopher Olah.\n",
        "\n",
        "While internal structure of LSTM cell may look complex, PyTorch hides this implementation inside the `LSTMCell` class, and provides a `LSTM` object to represent the whole LSTM layer. Thus, implementation of LSTM classifier will be pretty similar to the simple RNN which we have seen above:"
      ],
      "metadata": {
        "id": "az2vdCzdfDkX"
      }
    },
    {
      "cell_type": "code",
      "source": [
        "class LSTMClassifier(torch.nn.Module):\n",
        "    def __init__(self, vocab_size, embed_dim, hidden_dim, num_class):\n",
        "        super().__init__()\n",
        "        self.hidden_dim = hidden_dim\n",
        "        self.embedding = torch.nn.Embedding(vocab_size, embed_dim)\n",
        "        self.embedding.weight.data = torch.randn_like(self.embedding.weight.data)-0.5\n",
        "        self.rnn = torch.nn.LSTM(embed_dim,hidden_dim,batch_first=True)\n",
        "        self.fc = torch.nn.Linear(hidden_dim, num_class)\n",
        "\n",
        "    def forward(self, x):\n",
        "        batch_size = x.size(0)\n",
        "        x = self.embedding(x)\n",
        "        x,(h,c) = self.rnn(x)\n",
        "        return self.fc(h[-1])"
      ],
      "outputs": [],
      "execution_count": 9,
      "metadata": {
        "vscode": {
          "languageId": "json"
        },
        "id": "Mk5Qj_Q-fDkX"
      }
    },
    {
      "cell_type": "markdown",
      "source": [
        "Now let's train our network. Note that training LSTM is also quite slow, and you may not seem much raise in accuracy in the beginning of training. Also, you may need to play with `lr` learning rate parameter to find the learning rate that results in reasonable training speed."
      ],
      "metadata": {
        "id": "-fRo7N9bfDkX"
      }
    },
    {
      "cell_type": "code",
      "source": [
        "net = LSTMClassifier(vocab_size,64,32,len(classes)).to(device)\n",
        "train_epoch(net,train_loader, lr=0.001)"
      ],
      "outputs": [
        {
          "output_type": "stream",
          "name": "stdout",
          "text": [
            "3200: acc=0.2509375\n",
            "6400: acc=0.2490625\n",
            "9600: acc=0.24979166666666666\n",
            "12800: acc=0.250859375\n",
            "16000: acc=0.2668125\n",
            "19200: acc=0.29104166666666664\n",
            "22400: acc=0.3114732142857143\n",
            "25600: acc=0.3290625\n",
            "28800: acc=0.34479166666666666\n",
            "32000: acc=0.35771875\n",
            "35200: acc=0.3721306818181818\n",
            "38400: acc=0.3857552083333333\n",
            "41600: acc=0.4029326923076923\n",
            "44800: acc=0.4202901785714286\n",
            "48000: acc=0.43747916666666664\n",
            "51200: acc=0.4533203125\n",
            "54400: acc=0.4702205882352941\n",
            "57600: acc=0.48602430555555554\n",
            "60800: acc=0.5014309210526315\n",
            "64000: acc=0.516046875\n",
            "67200: acc=0.5305803571428571\n",
            "70400: acc=0.5439772727272727\n",
            "73600: acc=0.55625\n",
            "76800: acc=0.5673567708333334\n",
            "80000: acc=0.5786125\n",
            "83200: acc=0.58921875\n",
            "86400: acc=0.5989814814814814\n",
            "89600: acc=0.6084263392857143\n",
            "92800: acc=0.6168211206896552\n",
            "96000: acc=0.62484375\n",
            "99200: acc=0.6327822580645162\n",
            "102400: acc=0.64017578125\n",
            "105600: acc=0.6475094696969697\n",
            "108800: acc=0.65421875\n",
            "112000: acc=0.6604464285714285\n",
            "115200: acc=0.6663020833333333\n",
            "118400: acc=0.672035472972973\n"
          ]
        },
        {
          "output_type": "execute_result",
          "data": {
            "text/plain": [
              "(0.0438391357421875, 0.6748916666666667)"
            ]
          },
          "metadata": {},
          "execution_count": 10
        }
      ],
      "execution_count": 10,
      "metadata": {
        "vscode": {
          "languageId": "json"
        },
        "colab": {
          "base_uri": "https://localhost:8080/"
        },
        "id": "LNgXvgG_fDkX",
        "outputId": "ca69956c-8799-482f-8bff-6b0cb63ee134"
      }
    },
    {
      "cell_type": "code",
      "source": [
        "train_epoch(net,train_loader, lr=0.0005)"
      ],
      "metadata": {
        "colab": {
          "base_uri": "https://localhost:8080/"
        },
        "id": "bO7iFFgdv6QM",
        "outputId": "59c2a1dc-8f8c-4a4f-a773-3bcaea2da01e"
      },
      "execution_count": 11,
      "outputs": [
        {
          "output_type": "stream",
          "name": "stdout",
          "text": [
            "3200: acc=0.9009375\n",
            "6400: acc=0.90046875\n",
            "9600: acc=0.903125\n",
            "12800: acc=0.902890625\n",
            "16000: acc=0.9010625\n",
            "19200: acc=0.90125\n",
            "22400: acc=0.9033482142857143\n",
            "25600: acc=0.9021484375\n",
            "28800: acc=0.9012152777777778\n",
            "32000: acc=0.901375\n",
            "35200: acc=0.9014772727272727\n",
            "38400: acc=0.9016927083333334\n",
            "41600: acc=0.901826923076923\n",
            "44800: acc=0.903125\n",
            "48000: acc=0.9026041666666667\n",
            "51200: acc=0.9030078125\n",
            "54400: acc=0.9030698529411765\n",
            "57600: acc=0.9027083333333333\n",
            "60800: acc=0.9035032894736842\n",
            "64000: acc=0.90371875\n",
            "67200: acc=0.9041071428571429\n",
            "70400: acc=0.9045880681818181\n",
            "73600: acc=0.9048369565217391\n",
            "76800: acc=0.9053255208333333\n",
            "80000: acc=0.9055625\n",
            "83200: acc=0.9056129807692308\n",
            "86400: acc=0.9058912037037037\n",
            "89600: acc=0.9056584821428572\n",
            "92800: acc=0.9058405172413793\n",
            "96000: acc=0.90584375\n",
            "99200: acc=0.9063104838709677\n",
            "102400: acc=0.906357421875\n",
            "105600: acc=0.9065625\n",
            "108800: acc=0.9067095588235294\n",
            "112000: acc=0.9069553571428571\n",
            "115200: acc=0.9071440972222222\n",
            "118400: acc=0.9073902027027027\n"
          ]
        },
        {
          "output_type": "execute_result",
          "data": {
            "text/plain": [
              "(0.01693394571940104, 0.9073916666666667)"
            ]
          },
          "metadata": {},
          "execution_count": 11
        }
      ]
    },
    {
      "cell_type": "markdown",
      "source": [
        "## Packed sequences\n",
        "\n",
        "In our example, we had to pad all sequences in the minibatch with zero vectors. While it results in some memory waste, with RNNs it is more critical that additional RNN cells are created for the padded input items, which take part in training, yet do not carry any important input information. It would be much better to train RNN only to the actual sequence size.\n",
        "\n",
        "To do that, a special format of padded sequence storage is introduced in PyTorch. Suppose we have input padded minibatch which looks like this:\n",
        "```\n",
        "[[1,2,3,4,5],\n",
        " [6,7,8,0,0],\n",
        " [9,0,0,0,0]]\n",
        "```\n",
        "Here 0 represents padded values, and the actual length vector of input sequences is `[5,3,1]`.\n",
        "\n",
        "In order to effectively train RNN with padded sequence, we want to begin training first group of RNN cells with large minibatch (`[1,6,9]`), but then end processing of third sequence, and continue training with shorted minibatches (`[2,7]`, `[3,8]`), and so on. Thus, packed sequence is represented as one vector - in our case `[1,6,9,2,7,3,8,4,5]`, and length vector (`[5,3,1]`), from which we can easily reconstruct the original padded minibatch.\n",
        "\n",
        "To produce packed sequence, we can use `torch.nn.utils.rnn.pack_padded_sequence` function. All recurrent layers, including RNN, LSTM and GRU, support packed sequences as input, and produce packed output, which can be decoded using `torch.nn.utils.rnn.pad_packed_sequence`.\n",
        "\n",
        "To be able to produce packed sequence, we need to pass length vector to the network, and thus we need a different function to prepare minibatches:"
      ],
      "metadata": {
        "id": "6bPqb84CfDkY"
      }
    },
    {
      "cell_type": "code",
      "source": [
        "def pad_length(b):\n",
        "    # build vectorized sequence\n",
        "    v = [encode(x[1]) for x in b]\n",
        "    # compute max length of a sequence in this minibatch and length sequence itself\n",
        "    len_seq = list(map(len,v))\n",
        "    l = max(len_seq)\n",
        "    return ( # tuple of three tensors - labels, padded features, length sequence\n",
        "        torch.LongTensor([t[0]-1 for t in b]),\n",
        "        torch.stack([torch.nn.functional.pad(torch.tensor(t),(0,l-len(t)),mode='constant',value=0) for t in v]),\n",
        "        torch.tensor(len_seq)\n",
        "    )\n",
        "\n",
        "train_loader_len = torch.utils.data.DataLoader(train_dataset, batch_size=16, collate_fn=pad_length, shuffle=True)\n",
        "test_loader_len = torch.utils.data.DataLoader(test_dataset, batch_size=16, collate_fn=pad_length, shuffle=True)"
      ],
      "outputs": [],
      "execution_count": 12,
      "metadata": {
        "vscode": {
          "languageId": "json"
        },
        "id": "VQXlLZCwfDkY"
      }
    },
    {
      "cell_type": "markdown",
      "source": [
        "The actual network would be very similar to `LSTMClassifier` above, but `forward` pass will receive both padded minibatch and the vector of sequence lengths. After computing the embedding, we compute packed sequence, pass it to LSTM layer, and then unpack the result back.\n",
        "\n",
        "> **Note**: We actually do not use unpacked result `x`, because we use output from the hidden layers in the following computations. Thus, we can remove the unpacking altogether from this code. The reason we place it here is for you to be able to modify this code easily, in case you should need to use network output in further computations."
      ],
      "metadata": {
        "id": "rjeJKz1kfDkY"
      }
    },
    {
      "cell_type": "code",
      "source": [
        "class LSTMPackClassifier(torch.nn.Module):\n",
        "    def __init__(self, vocab_size, embed_dim, hidden_dim, num_class):\n",
        "        super().__init__()\n",
        "        self.hidden_dim = hidden_dim\n",
        "        self.embedding = torch.nn.Embedding(vocab_size, embed_dim)\n",
        "        self.embedding.weight.data = torch.randn_like(self.embedding.weight.data)-0.5\n",
        "        self.rnn = torch.nn.LSTM(embed_dim,hidden_dim,batch_first=True)\n",
        "        self.fc = torch.nn.Linear(hidden_dim, num_class)\n",
        "\n",
        "    def forward(self, x, lengths):\n",
        "        batch_size = x.size(0)\n",
        "        x = self.embedding(x)\n",
        "        pad_x = torch.nn.utils.rnn.pack_padded_sequence(x,lengths,batch_first=True,enforce_sorted=False)\n",
        "        _,(h,c) = self.rnn(pad_x)\n",
        "        return self.fc(h[-1])"
      ],
      "outputs": [],
      "execution_count": 13,
      "metadata": {
        "vscode": {
          "languageId": "json"
        },
        "id": "3LSSEmH4fDkY"
      }
    },
    {
      "cell_type": "markdown",
      "source": [
        "Now let's train our network with the padded sequence:"
      ],
      "metadata": {
        "id": "vrRksh1rfDkY"
      }
    },
    {
      "cell_type": "code",
      "source": [
        "net = LSTMPackClassifier(vocab_size,64,32,len(classes)).to(device)\n",
        "train_epoch_emb(net,train_loader_len, lr=0.001,use_pack_sequence=True)\n"
      ],
      "outputs": [
        {
          "output_type": "stream",
          "name": "stdout",
          "text": [
            "3200: acc=0.289375\n",
            "6400: acc=0.345625\n",
            "9600: acc=0.40125\n",
            "12800: acc=0.45515625\n",
            "16000: acc=0.5005\n",
            "19200: acc=0.539375\n",
            "22400: acc=0.5726339285714286\n",
            "25600: acc=0.5994921875\n",
            "28800: acc=0.6219097222222222\n",
            "32000: acc=0.64159375\n",
            "35200: acc=0.6592045454545454\n",
            "38400: acc=0.6746875\n",
            "41600: acc=0.6877403846153847\n",
            "44800: acc=0.6992410714285714\n",
            "48000: acc=0.7097083333333334\n",
            "51200: acc=0.71953125\n",
            "54400: acc=0.7288235294117648\n",
            "57600: acc=0.7359201388888889\n",
            "60800: acc=0.7428289473684211\n",
            "64000: acc=0.74953125\n",
            "67200: acc=0.7555803571428571\n",
            "70400: acc=0.7615340909090909\n",
            "73600: acc=0.7664809782608696\n",
            "76800: acc=0.7710026041666667\n",
            "80000: acc=0.7755\n",
            "83200: acc=0.7797355769230769\n",
            "86400: acc=0.7839699074074075\n",
            "89600: acc=0.7873549107142858\n",
            "92800: acc=0.790614224137931\n",
            "96000: acc=0.79371875\n",
            "99200: acc=0.7969254032258064\n",
            "102400: acc=0.80029296875\n",
            "105600: acc=0.8033617424242424\n",
            "108800: acc=0.8062224264705883\n",
            "112000: acc=0.8089285714285714\n",
            "115200: acc=0.8114930555555555\n",
            "118400: acc=0.8135304054054054\n"
          ]
        },
        {
          "output_type": "execute_result",
          "data": {
            "text/plain": [
              "(0.0300931640625, 0.8146666666666667)"
            ]
          },
          "metadata": {},
          "execution_count": 14
        }
      ],
      "execution_count": 14,
      "metadata": {
        "scrolled": true,
        "vscode": {
          "languageId": "json"
        },
        "colab": {
          "base_uri": "https://localhost:8080/"
        },
        "id": "ThYboXklfDkY",
        "outputId": "b11bef18-410f-4a6a-a5be-be0e18aad7a4"
      }
    },
    {
      "cell_type": "code",
      "source": [
        "train_epoch_emb(net,train_loader_len, lr=0.0005,use_pack_sequence=True)"
      ],
      "metadata": {
        "colab": {
          "base_uri": "https://localhost:8080/"
        },
        "id": "ivoY5sSGyS8e",
        "outputId": "863e2135-bef7-453e-80dc-13a0c4ab50b7"
      },
      "execution_count": 15,
      "outputs": [
        {
          "output_type": "stream",
          "name": "stdout",
          "text": [
            "3200: acc=0.9215625\n",
            "6400: acc=0.9196875\n",
            "9600: acc=0.9190625\n",
            "12800: acc=0.919921875\n",
            "16000: acc=0.9205\n",
            "19200: acc=0.9219270833333333\n",
            "22400: acc=0.9227678571428571\n",
            "25600: acc=0.9225\n",
            "28800: acc=0.9232638888888889\n",
            "32000: acc=0.9236875\n",
            "35200: acc=0.9234659090909091\n",
            "38400: acc=0.923828125\n",
            "41600: acc=0.924735576923077\n",
            "44800: acc=0.9254464285714286\n",
            "48000: acc=0.9250416666666667\n",
            "51200: acc=0.92478515625\n",
            "54400: acc=0.9247794117647059\n",
            "57600: acc=0.9247222222222222\n",
            "60800: acc=0.9247203947368421\n",
            "64000: acc=0.924875\n",
            "67200: acc=0.9250744047619047\n",
            "70400: acc=0.9251136363636364\n",
            "73600: acc=0.9248505434782609\n",
            "76800: acc=0.9249348958333333\n",
            "80000: acc=0.925225\n",
            "83200: acc=0.9250841346153846\n",
            "86400: acc=0.9250694444444445\n",
            "89600: acc=0.925234375\n",
            "92800: acc=0.9251400862068966\n",
            "96000: acc=0.92525\n",
            "99200: acc=0.9253225806451613\n",
            "102400: acc=0.9254296875\n",
            "105600: acc=0.9257102272727272\n",
            "108800: acc=0.9259191176470588\n",
            "112000: acc=0.9258928571428572\n",
            "115200: acc=0.9260416666666667\n",
            "118400: acc=0.9261402027027027\n"
          ]
        },
        {
          "output_type": "execute_result",
          "data": {
            "text/plain": [
              "(0.013871371459960938, 0.9260416666666667)"
            ]
          },
          "metadata": {},
          "execution_count": 15
        }
      ]
    },
    {
      "cell_type": "code",
      "source": [
        "train_epoch_emb(net,train_loader_len, lr=0.0001,use_pack_sequence=True)"
      ],
      "metadata": {
        "colab": {
          "base_uri": "https://localhost:8080/"
        },
        "id": "1rQftJvmylsB",
        "outputId": "f6628d4e-b827-445a-a5be-4fa640b7d351"
      },
      "execution_count": 16,
      "outputs": [
        {
          "output_type": "stream",
          "name": "stdout",
          "text": [
            "3200: acc=0.9409375\n",
            "6400: acc=0.9403125\n",
            "9600: acc=0.9429166666666666\n",
            "12800: acc=0.943046875\n",
            "16000: acc=0.942\n",
            "19200: acc=0.9425520833333333\n",
            "22400: acc=0.9429017857142857\n",
            "25600: acc=0.9438671875\n",
            "28800: acc=0.9439583333333333\n",
            "32000: acc=0.94421875\n",
            "35200: acc=0.9439772727272727\n",
            "38400: acc=0.943671875\n",
            "41600: acc=0.9438942307692307\n",
            "44800: acc=0.9440401785714285\n",
            "48000: acc=0.9437708333333333\n",
            "51200: acc=0.9435546875\n",
            "54400: acc=0.9438419117647059\n",
            "57600: acc=0.9440104166666666\n",
            "60800: acc=0.94375\n",
            "64000: acc=0.94378125\n",
            "67200: acc=0.9438095238095238\n",
            "70400: acc=0.9438920454545454\n",
            "73600: acc=0.943695652173913\n",
            "76800: acc=0.9436848958333334\n",
            "80000: acc=0.9440125\n",
            "83200: acc=0.9437860576923077\n",
            "86400: acc=0.9435300925925926\n",
            "89600: acc=0.9436941964285714\n",
            "92800: acc=0.9436099137931034\n",
            "96000: acc=0.9433020833333333\n",
            "99200: acc=0.9433165322580646\n",
            "102400: acc=0.94341796875\n",
            "105600: acc=0.9434659090909091\n",
            "108800: acc=0.9433639705882353\n",
            "112000: acc=0.9431428571428572\n",
            "115200: acc=0.943203125\n",
            "118400: acc=0.9429898648648649\n"
          ]
        },
        {
          "output_type": "execute_result",
          "data": {
            "text/plain": [
              "(0.010807306925455729, 0.9429833333333333)"
            ]
          },
          "metadata": {},
          "execution_count": 16
        }
      ]
    },
    {
      "cell_type": "markdown",
      "source": [
        "> **Note:** You may have noticed the parameter `use_pack_sequence` that we pass to the training function. Currently, `pack_padded_sequence` function requires length sequence tensor to be on CPU device, and thus training function needs to avoid moving the length sequence data to GPU when training. You can look into implementation of `train_epoch_emb` helper function in the `torchnlp.py` file located in the local directory."
      ],
      "metadata": {
        "id": "IkkfnlqJfDkZ"
      }
    },
    {
      "cell_type": "markdown",
      "source": [
        "here 👇👇👇\n",
        "\n",
        "```python\n",
        "def train_epoch_emb(net,dataloader,lr=0.01,optimizer=None,loss_fn = torch.nn.CrossEntropyLoss(),epoch_size=None, report_freq=200,use_pack_sequence=False):\n",
        "    optimizer = optimizer or torch.optim.Adam(net.parameters(),lr=lr)\n",
        "    loss_fn = loss_fn.to(device)\n",
        "    net.train()\n",
        "    total_loss,acc,count,i = 0,0,0,0\n",
        "    for labels,text,off in dataloader:\n",
        "        optimizer.zero_grad()\n",
        "        labels,text = labels.to(device), text.to(device)\n",
        "        if use_pack_sequence:\n",
        "            off = off.to('cpu')\n",
        "        else:\n",
        "            off = off.to(device)\n",
        "        out = net(text, off)\n",
        "        loss = loss_fn(out,labels) #cross_entropy(out,labels)\n",
        "        loss.backward()\n",
        "        optimizer.step()\n",
        "        total_loss+=loss\n",
        "        _,predicted = torch.max(out,1)\n",
        "        acc+=(predicted==labels).sum()\n",
        "        count+=len(labels)\n",
        "        i+=1\n",
        "        if i%report_freq==0:\n",
        "            print(f\"{count}: acc={acc.item()/count}\")\n",
        "        if epoch_size and count>epoch_size:\n",
        "            break\n",
        "    return total_loss.item()/count, acc.item()/count\n",
        "```\n"
      ],
      "metadata": {
        "id": "yjz4rLWPzFo-"
      }
    },
    {
      "cell_type": "code",
      "source": [
        "net.eval()"
      ],
      "metadata": {
        "colab": {
          "base_uri": "https://localhost:8080/"
        },
        "id": "Ui4sg69szi9k",
        "outputId": "a67a2838-aeba-4910-add0-c5b31ac16962"
      },
      "execution_count": 17,
      "outputs": [
        {
          "output_type": "execute_result",
          "data": {
            "text/plain": [
              "LSTMPackClassifier(\n",
              "  (embedding): Embedding(95812, 64)\n",
              "  (rnn): LSTM(64, 32, batch_first=True)\n",
              "  (fc): Linear(in_features=32, out_features=4, bias=True)\n",
              ")"
            ]
          },
          "metadata": {},
          "execution_count": 17
        }
      ]
    },
    {
      "cell_type": "markdown",
      "source": [
        "> 可以run下面的cell多几次看看结果"
      ],
      "metadata": {
        "id": "BkbPbjHL0-7b"
      }
    },
    {
      "cell_type": "code",
      "source": [
        "\n",
        "with torch.no_grad():\n",
        "    for label,text,off in test_loader_len:\n",
        "        # show the input text\n",
        "        word_lookup = [vocab.itos[w] for w in text[0]]\n",
        "        unknow_vals = {'<unk>'}\n",
        "        word_lookup = [ele for ele in word_lookup if ele not in unknow_vals]\n",
        "        print('Input text:\\n {}\\n'.format(word_lookup))\n",
        "\n",
        "        text, label = text.to(device), label.to(device)\n",
        "        off = off.to('cpu')\n",
        "        print(f'off value: {off}')\n",
        "        pred = net(text, off )\n",
        "        print(f'target {label}')\n",
        "        y=torch.argmax(pred, dim=1)\n",
        "        print(f'pred: {y}')\n",
        "        print(\"Predicted:\\nvalue={}, class_name= {}\\n\".format(y[0],classes[y[0]]))\n",
        "        print(\"Target:\\nvalue={}, class_name= {}\\n\".format(label[0],classes[label[0]]))\n",
        "        break\n",
        "     "
      ],
      "outputs": [
        {
          "output_type": "stream",
          "name": "stdout",
          "text": [
            "Input text:\n",
            " ['sony', ',', 'ibm', ',', 'and', 'toshiba', 'reveal', 'additional', 'details', 'on', 'cell', 'chip', 'initial', 'versions', 'of', 'playstation', '3', 'chip', 'will', 'not', 'be', 'produced', 'with', 'a', 'cutting-edge', 'chip-making', 'technology', '.', 'the', 'four', 'companies', 'developing', 'the', 'cell', 'consumer', 'electronics', 'microprocessor', 'released', 'a', 'few', 'more', 'details']\n",
            "\n",
            "off value: tensor([42, 52, 31, 35, 47, 30, 27, 30, 47, 35, 46, 24, 48, 41, 46, 46])\n",
            "target tensor([3, 2, 3, 1, 0, 1, 2, 2, 1, 2, 0, 0, 1, 0, 2, 2], device='cuda:0')\n",
            "pred: tensor([3, 2, 3, 1, 0, 1, 3, 2, 1, 3, 0, 0, 1, 0, 2, 2], device='cuda:0')\n",
            "Predicted:\n",
            "value=3, class_name= Sci/Tech\n",
            "\n",
            "Target:\n",
            "value=3, class_name= Sci/Tech\n",
            "\n"
          ]
        }
      ],
      "execution_count": 20,
      "metadata": {
        "vscode": {
          "languageId": "json"
        },
        "colab": {
          "base_uri": "https://localhost:8080/"
        },
        "id": "mMU1aYeqfDkZ",
        "outputId": "f67c5a0f-666a-4966-ba29-e2a19c98233a"
      }
    },
    {
      "cell_type": "markdown",
      "source": [
        "## Bidirectional and multilayer RNNs\n",
        "\n",
        "In our examples, all recurrent networks operated in one direction, from beginning of a sequence to the end. It looks natural, because it resembles the way we read and listen to speech. However, since in many practical cases we have random access to the input sequence, it might make sense to run recurrent computation in both directions. Such networks are call **bidirectional** RNNs, and they can be created by passing `bidirectional=True` parameter to RNN/LSTM/GRU constructor.\n",
        "\n",
        "> **Example**:   _self.rnn = torch.nn.LSTM(embed_dim,hidden_dim,batch_first=True, bidrectional=True)_\n",
        "\n",
        "When dealing with bidirectional network, we would need two hidden state vectors, one for each direction. PyTorch encodes those vectors as one vector of twice larger size, which is quite convenient, because you would normally pass the resulting hidden state to fully-connected linear layer, and you would just need to take this increase in size into account when creating the layer.\n",
        "\n",
        "Recurrent network, one-directional or bidirectional, captures certain patterns within a sequence, and can store them into state vector or pass into output. As with convolutional networks, we can build another recurrent layer on top of the first one to capture higher level patterns, build from low-level patterns extracted by the first layer. This leads us to the notion of **multi-layer RNN**, which consists of two or more recurrent networks, where output of the previous layer is passed to the next layer as input.\n",
        "\n",
        "<img alt=\"Image showing a Multilayer long-short-term-memory- RNN\" src=\"images/5-recurrent-networks-3.jpg\" align=\"middle\" />\n",
        "\n",
        "*Picture from \"From a LSTM cell to a Multilayer LSTM Network with PyTorch\" article by Fernando López*\n",
        "\n",
        "PyTorch makes constructing such networks an easy task, because you just need to pass `num_layers` parameter to RNN/LSTM/GRU constructor to build several layers of recurrence automatically. This would also mean that the size of hidden/state vector would increase proportionally, and you would need to take this into account when handling the output of recurrent layers."
      ],
      "metadata": {
        "id": "YA0q-oqafDkZ"
      }
    },
    {
      "cell_type": "markdown",
      "source": [
        "## RNNs for other tasks\n",
        "\n",
        "In this unit, we have seen that RNNs can be used for sequence classification, but in fact, they can handle many more tasks, such as text generation, machine translation, and more. We will consider those tasks in the next unit."
      ],
      "metadata": {
        "id": "Ha4w9ukxfDkZ"
      }
    }
  ],
  "metadata": {
    "kernelspec": {
      "display_name": "Python 3",
      "name": "python3"
    },
    "language_info": {
      "name": "python"
    },
    "nteract": {
      "version": "nteract-front-end@1.0.0"
    },
    "colab": {
      "provenance": []
    },
    "accelerator": "GPU",
    "gpuClass": "standard"
  },
  "nbformat": 4,
  "nbformat_minor": 0
}