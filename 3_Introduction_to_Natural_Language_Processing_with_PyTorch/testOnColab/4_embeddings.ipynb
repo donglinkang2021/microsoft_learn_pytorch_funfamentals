{
  "cells": [
    {
      "cell_type": "markdown",
      "metadata": {
        "id": "w9ZRgzLm3DCz"
      },
      "source": [
        "## Embeddings\n",
        "\n",
        "In our previous example, we operated on high-dimensional bag-of-words vectors with the length of `vocab_size`, and we were explicitly converting from low-dimensional positional representation vectors into sparse one-hot representations. \n",
        "\n",
        "<img alt=\"diagram show how high-dimensional vectors are converted to embedding vectors\" src=\"images/4-embedding-1.png\" align=\"middle\" />\n",
        "\n",
        "The goal of using word embeddings and reducing the dimensionality are:\n",
        "-  Finding the meaning of words based on their word approximation to other words.  This is done by taken two word vectors and analyzing how often the words in the vectors are used together.  The higher the frequency, the more you can find a correlation and relationship between the words.  \n",
        "- This process of training the word embedding to find word approximations between words in a given dimension is how we reduce the word representation to low-dimensions.\n",
        "-  Embedding vectors serve as numeric representations of words and are used as input to other machine learning network layers.\n",
        "-  The embedding vector becomes the stored lookup table for words in the vocabulary\n",
        "\n",
        "In this unit, we will continue exploring the **News AG** dataset. To begin, let's load the data and get some definitions from the previous unit.  In addition, we will allocation our training and testing datasets; word vocabulary size; and the category of our word classes: _World_, _Sports_, _Business_ and _Sci/Tech_"
      ]
    },
    {
      "cell_type": "code",
      "execution_count": null,
      "metadata": {
        "id": "qsGX6Qbb3DC1",
        "colab": {
          "base_uri": "https://localhost:8080/"
        },
        "outputId": "3fb7ddcd-b736-4b24-d338-3ab8be53fd60"
      },
      "outputs": [
        {
          "output_type": "stream",
          "name": "stdout",
          "text": [
            "Looking in indexes: https://pypi.org/simple, https://us-python.pkg.dev/colab-wheels/public/simple/\n",
            "Collecting gensim==3.8.3\n",
            "  Downloading gensim-3.8.3-cp38-cp38-manylinux1_x86_64.whl (24.2 MB)\n",
            "\u001b[2K     \u001b[90m━━━━━━━━━━━━━━━━━━━━━━━━━━━━━━━━━━━━━━━━\u001b[0m \u001b[32m24.2/24.2 MB\u001b[0m \u001b[31m47.9 MB/s\u001b[0m eta \u001b[36m0:00:00\u001b[0m\n",
            "\u001b[?25hCollecting huggingface==0.0.1\n",
            "  Downloading huggingface-0.0.1-py3-none-any.whl (2.5 kB)\n",
            "Requirement already satisfied: matplotlib in /usr/local/lib/python3.8/dist-packages (from -r https://raw.githubusercontent.com/MicrosoftDocs/pytorchfundamentals/main/nlp-pytorch/requirements.txt (line 3)) (3.2.2)\n",
            "Collecting nltk==3.5\n",
            "  Downloading nltk-3.5.zip (1.4 MB)\n",
            "\u001b[2K     \u001b[90m━━━━━━━━━━━━━━━━━━━━━━━━━━━━━━━━━━━━━━━━\u001b[0m \u001b[32m1.4/1.4 MB\u001b[0m \u001b[31m32.9 MB/s\u001b[0m eta \u001b[36m0:00:00\u001b[0m\n",
            "\u001b[?25h  Preparing metadata (setup.py) ... \u001b[?25l\u001b[?25hdone\n",
            "Collecting numpy==1.18.5\n",
            "  Downloading numpy-1.18.5-cp38-cp38-manylinux1_x86_64.whl (20.6 MB)\n",
            "\u001b[2K     \u001b[90m━━━━━━━━━━━━━━━━━━━━━━━━━━━━━━━━━━━━━━━━\u001b[0m \u001b[32m20.6/20.6 MB\u001b[0m \u001b[31m41.1 MB/s\u001b[0m eta \u001b[36m0:00:00\u001b[0m\n",
            "\u001b[?25hCollecting opencv-python==4.5.1.48\n",
            "  Downloading opencv_python-4.5.1.48-cp38-cp38-manylinux2014_x86_64.whl (50.4 MB)\n",
            "\u001b[2K     \u001b[90m━━━━━━━━━━━━━━━━━━━━━━━━━━━━━━━━━━━━━━━━\u001b[0m \u001b[32m50.4/50.4 MB\u001b[0m \u001b[31m14.6 MB/s\u001b[0m eta \u001b[36m0:00:00\u001b[0m\n",
            "\u001b[?25hRequirement already satisfied: Pillow==7.1.2 in /usr/local/lib/python3.8/dist-packages (from -r https://raw.githubusercontent.com/MicrosoftDocs/pytorchfundamentals/main/nlp-pytorch/requirements.txt (line 7)) (7.1.2)\n",
            "Requirement already satisfied: scikit-learn in /usr/local/lib/python3.8/dist-packages (from -r https://raw.githubusercontent.com/MicrosoftDocs/pytorchfundamentals/main/nlp-pytorch/requirements.txt (line 8)) (1.0.2)\n",
            "Requirement already satisfied: scipy in /usr/local/lib/python3.8/dist-packages (from -r https://raw.githubusercontent.com/MicrosoftDocs/pytorchfundamentals/main/nlp-pytorch/requirements.txt (line 9)) (1.7.3)\n",
            "Collecting torch==1.8.1\n",
            "  Downloading torch-1.8.1-cp38-cp38-manylinux1_x86_64.whl (804.1 MB)\n",
            "\u001b[2K     \u001b[90m━━━━━━━━━━━━━━━━━━━━━━━━━━━━━━━━━━━━━━━\u001b[0m \u001b[32m804.1/804.1 MB\u001b[0m \u001b[31m2.1 MB/s\u001b[0m eta \u001b[36m0:00:00\u001b[0m\n",
            "\u001b[?25hCollecting torchaudio==0.8.1\n",
            "  Downloading torchaudio-0.8.1-cp38-cp38-manylinux1_x86_64.whl (1.9 MB)\n",
            "\u001b[2K     \u001b[90m━━━━━━━━━━━━━━━━━━━━━━━━━━━━━━━━━━━━━━━━\u001b[0m \u001b[32m1.9/1.9 MB\u001b[0m \u001b[31m83.5 MB/s\u001b[0m eta \u001b[36m0:00:00\u001b[0m\n",
            "\u001b[?25hCollecting torchinfo==0.0.8\n",
            "  Downloading torchinfo-0.0.8-py3-none-any.whl (16 kB)\n",
            "Collecting torchtext==0.9.1\n",
            "  Downloading torchtext-0.9.1-cp38-cp38-manylinux1_x86_64.whl (7.0 MB)\n",
            "\u001b[2K     \u001b[90m━━━━━━━━━━━━━━━━━━━━━━━━━━━━━━━━━━━━━━━━\u001b[0m \u001b[32m7.0/7.0 MB\u001b[0m \u001b[31m108.7 MB/s\u001b[0m eta \u001b[36m0:00:00\u001b[0m\n",
            "\u001b[?25hCollecting torchvision==0.9.1\n",
            "  Downloading torchvision-0.9.1-cp38-cp38-manylinux1_x86_64.whl (17.4 MB)\n",
            "\u001b[2K     \u001b[90m━━━━━━━━━━━━━━━━━━━━━━━━━━━━━━━━━━━━━━━━\u001b[0m \u001b[32m17.4/17.4 MB\u001b[0m \u001b[31m93.7 MB/s\u001b[0m eta \u001b[36m0:00:00\u001b[0m\n",
            "\u001b[?25hCollecting transformers==4.3.3\n",
            "  Downloading transformers-4.3.3-py3-none-any.whl (1.9 MB)\n",
            "\u001b[2K     \u001b[90m━━━━━━━━━━━━━━━━━━━━━━━━━━━━━━━━━━━━━━━━\u001b[0m \u001b[32m1.9/1.9 MB\u001b[0m \u001b[31m91.0 MB/s\u001b[0m eta \u001b[36m0:00:00\u001b[0m\n",
            "\u001b[?25hRequirement already satisfied: six>=1.5.0 in /usr/local/lib/python3.8/dist-packages (from gensim==3.8.3->-r https://raw.githubusercontent.com/MicrosoftDocs/pytorchfundamentals/main/nlp-pytorch/requirements.txt (line 1)) (1.15.0)\n",
            "Requirement already satisfied: smart-open>=1.8.1 in /usr/local/lib/python3.8/dist-packages (from gensim==3.8.3->-r https://raw.githubusercontent.com/MicrosoftDocs/pytorchfundamentals/main/nlp-pytorch/requirements.txt (line 1)) (6.3.0)\n",
            "Requirement already satisfied: click in /usr/local/lib/python3.8/dist-packages (from nltk==3.5->-r https://raw.githubusercontent.com/MicrosoftDocs/pytorchfundamentals/main/nlp-pytorch/requirements.txt (line 4)) (7.1.2)\n",
            "Requirement already satisfied: joblib in /usr/local/lib/python3.8/dist-packages (from nltk==3.5->-r https://raw.githubusercontent.com/MicrosoftDocs/pytorchfundamentals/main/nlp-pytorch/requirements.txt (line 4)) (1.2.0)\n",
            "Requirement already satisfied: regex in /usr/local/lib/python3.8/dist-packages (from nltk==3.5->-r https://raw.githubusercontent.com/MicrosoftDocs/pytorchfundamentals/main/nlp-pytorch/requirements.txt (line 4)) (2022.6.2)\n",
            "Requirement already satisfied: tqdm in /usr/local/lib/python3.8/dist-packages (from nltk==3.5->-r https://raw.githubusercontent.com/MicrosoftDocs/pytorchfundamentals/main/nlp-pytorch/requirements.txt (line 4)) (4.64.1)\n",
            "Requirement already satisfied: typing-extensions in /usr/local/lib/python3.8/dist-packages (from torch==1.8.1->-r https://raw.githubusercontent.com/MicrosoftDocs/pytorchfundamentals/main/nlp-pytorch/requirements.txt (line 10)) (4.4.0)\n",
            "Requirement already satisfied: requests in /usr/local/lib/python3.8/dist-packages (from torchtext==0.9.1->-r https://raw.githubusercontent.com/MicrosoftDocs/pytorchfundamentals/main/nlp-pytorch/requirements.txt (line 13)) (2.25.1)\n",
            "Requirement already satisfied: filelock in /usr/local/lib/python3.8/dist-packages (from transformers==4.3.3->-r https://raw.githubusercontent.com/MicrosoftDocs/pytorchfundamentals/main/nlp-pytorch/requirements.txt (line 15)) (3.9.0)\n",
            "Collecting tokenizers<0.11,>=0.10.1\n",
            "  Downloading tokenizers-0.10.3-cp38-cp38-manylinux_2_5_x86_64.manylinux1_x86_64.manylinux_2_12_x86_64.manylinux2010_x86_64.whl (3.3 MB)\n",
            "\u001b[2K     \u001b[90m━━━━━━━━━━━━━━━━━━━━━━━━━━━━━━━━━━━━━━━━\u001b[0m \u001b[32m3.3/3.3 MB\u001b[0m \u001b[31m109.0 MB/s\u001b[0m eta \u001b[36m0:00:00\u001b[0m\n",
            "\u001b[?25hCollecting sacremoses\n",
            "  Downloading sacremoses-0.0.53.tar.gz (880 kB)\n",
            "\u001b[2K     \u001b[90m━━━━━━━━━━━━━━━━━━━━━━━━━━━━━━━━━━━━━━\u001b[0m \u001b[32m880.6/880.6 KB\u001b[0m \u001b[31m63.0 MB/s\u001b[0m eta \u001b[36m0:00:00\u001b[0m\n",
            "\u001b[?25h  Preparing metadata (setup.py) ... \u001b[?25l\u001b[?25hdone\n",
            "Requirement already satisfied: packaging in /usr/local/lib/python3.8/dist-packages (from transformers==4.3.3->-r https://raw.githubusercontent.com/MicrosoftDocs/pytorchfundamentals/main/nlp-pytorch/requirements.txt (line 15)) (23.0)\n",
            "Requirement already satisfied: cycler>=0.10 in /usr/local/lib/python3.8/dist-packages (from matplotlib->-r https://raw.githubusercontent.com/MicrosoftDocs/pytorchfundamentals/main/nlp-pytorch/requirements.txt (line 3)) (0.11.0)\n",
            "Requirement already satisfied: python-dateutil>=2.1 in /usr/local/lib/python3.8/dist-packages (from matplotlib->-r https://raw.githubusercontent.com/MicrosoftDocs/pytorchfundamentals/main/nlp-pytorch/requirements.txt (line 3)) (2.8.2)\n",
            "Requirement already satisfied: pyparsing!=2.0.4,!=2.1.2,!=2.1.6,>=2.0.1 in /usr/local/lib/python3.8/dist-packages (from matplotlib->-r https://raw.githubusercontent.com/MicrosoftDocs/pytorchfundamentals/main/nlp-pytorch/requirements.txt (line 3)) (3.0.9)\n",
            "Requirement already satisfied: kiwisolver>=1.0.1 in /usr/local/lib/python3.8/dist-packages (from matplotlib->-r https://raw.githubusercontent.com/MicrosoftDocs/pytorchfundamentals/main/nlp-pytorch/requirements.txt (line 3)) (1.4.4)\n",
            "Requirement already satisfied: threadpoolctl>=2.0.0 in /usr/local/lib/python3.8/dist-packages (from scikit-learn->-r https://raw.githubusercontent.com/MicrosoftDocs/pytorchfundamentals/main/nlp-pytorch/requirements.txt (line 8)) (3.1.0)\n",
            "Requirement already satisfied: certifi>=2017.4.17 in /usr/local/lib/python3.8/dist-packages (from requests->torchtext==0.9.1->-r https://raw.githubusercontent.com/MicrosoftDocs/pytorchfundamentals/main/nlp-pytorch/requirements.txt (line 13)) (2022.12.7)\n",
            "Requirement already satisfied: chardet<5,>=3.0.2 in /usr/local/lib/python3.8/dist-packages (from requests->torchtext==0.9.1->-r https://raw.githubusercontent.com/MicrosoftDocs/pytorchfundamentals/main/nlp-pytorch/requirements.txt (line 13)) (4.0.0)\n",
            "Requirement already satisfied: urllib3<1.27,>=1.21.1 in /usr/local/lib/python3.8/dist-packages (from requests->torchtext==0.9.1->-r https://raw.githubusercontent.com/MicrosoftDocs/pytorchfundamentals/main/nlp-pytorch/requirements.txt (line 13)) (1.24.3)\n",
            "Requirement already satisfied: idna<3,>=2.5 in /usr/local/lib/python3.8/dist-packages (from requests->torchtext==0.9.1->-r https://raw.githubusercontent.com/MicrosoftDocs/pytorchfundamentals/main/nlp-pytorch/requirements.txt (line 13)) (2.10)\n",
            "Building wheels for collected packages: nltk, sacremoses\n",
            "  Building wheel for nltk (setup.py) ... \u001b[?25l\u001b[?25hdone\n",
            "  Created wheel for nltk: filename=nltk-3.5-py3-none-any.whl size=1434691 sha256=876c1967666eb7b04a169221d280f35c9c233cbcb0c59fb5d294232ffcf6ebac\n",
            "  Stored in directory: /root/.cache/pip/wheels/ff/d5/7b/f1fb4e1e1603b2f01c2424dd60fbcc50c12ef918bafc44b155\n",
            "  Building wheel for sacremoses (setup.py) ... \u001b[?25l\u001b[?25hdone\n",
            "  Created wheel for sacremoses: filename=sacremoses-0.0.53-py3-none-any.whl size=895260 sha256=b47f3dbcb0684c556e75633f39ddfb2124cccfed739ca82af658e45da1f7e98d\n",
            "  Stored in directory: /root/.cache/pip/wheels/82/ab/9b/c15899bf659ba74f623ac776e861cf2eb8608c1825ddec66a4\n",
            "Successfully built nltk sacremoses\n",
            "Installing collected packages: tokenizers, huggingface, torchinfo, sacremoses, numpy, nltk, transformers, torch, opencv-python, torchvision, torchtext, torchaudio, gensim\n",
            "  Attempting uninstall: numpy\n",
            "    Found existing installation: numpy 1.21.6\n",
            "    Uninstalling numpy-1.21.6:\n",
            "      Successfully uninstalled numpy-1.21.6\n",
            "  Attempting uninstall: nltk\n",
            "    Found existing installation: nltk 3.7\n",
            "    Uninstalling nltk-3.7:\n",
            "      Successfully uninstalled nltk-3.7\n",
            "  Attempting uninstall: torch\n",
            "    Found existing installation: torch 1.13.1+cu116\n",
            "    Uninstalling torch-1.13.1+cu116:\n",
            "      Successfully uninstalled torch-1.13.1+cu116\n",
            "  Attempting uninstall: opencv-python\n",
            "    Found existing installation: opencv-python 4.6.0.66\n",
            "    Uninstalling opencv-python-4.6.0.66:\n",
            "      Successfully uninstalled opencv-python-4.6.0.66\n",
            "  Attempting uninstall: torchvision\n",
            "    Found existing installation: torchvision 0.14.1+cu116\n",
            "    Uninstalling torchvision-0.14.1+cu116:\n",
            "      Successfully uninstalled torchvision-0.14.1+cu116\n",
            "  Attempting uninstall: torchtext\n",
            "    Found existing installation: torchtext 0.14.1\n",
            "    Uninstalling torchtext-0.14.1:\n",
            "      Successfully uninstalled torchtext-0.14.1\n",
            "  Attempting uninstall: torchaudio\n",
            "    Found existing installation: torchaudio 0.13.1+cu116\n",
            "    Uninstalling torchaudio-0.13.1+cu116:\n",
            "      Successfully uninstalled torchaudio-0.13.1+cu116\n",
            "  Attempting uninstall: gensim\n",
            "    Found existing installation: gensim 3.6.0\n",
            "    Uninstalling gensim-3.6.0:\n",
            "      Successfully uninstalled gensim-3.6.0\n",
            "\u001b[31mERROR: pip's dependency resolver does not currently take into account all the packages that are installed. This behaviour is the source of the following dependency conflicts.\n",
            "xarray 2022.12.0 requires numpy>=1.20, but you have numpy 1.18.5 which is incompatible.\n",
            "xarray-einstats 0.5.1 requires numpy>=1.20, but you have numpy 1.18.5 which is incompatible.\n",
            "tensorflow 2.9.2 requires numpy>=1.20, but you have numpy 1.18.5 which is incompatible.\n",
            "tables 3.7.0 requires numpy>=1.19.0, but you have numpy 1.18.5 which is incompatible.\n",
            "plotnine 0.8.0 requires numpy>=1.19.0, but you have numpy 1.18.5 which is incompatible.\n",
            "jaxlib 0.3.25+cuda11.cudnn805 requires numpy>=1.20, but you have numpy 1.18.5 which is incompatible.\n",
            "jax 0.3.25 requires numpy>=1.20, but you have numpy 1.18.5 which is incompatible.\n",
            "cupy-cuda11x 11.0.0 requires numpy<1.26,>=1.20, but you have numpy 1.18.5 which is incompatible.\n",
            "cmdstanpy 1.1.0 requires numpy>=1.21, but you have numpy 1.18.5 which is incompatible.\u001b[0m\u001b[31m\n",
            "\u001b[0mSuccessfully installed gensim-3.8.3 huggingface-0.0.1 nltk-3.5 numpy-1.18.5 opencv-python-4.5.1.48 sacremoses-0.0.53 tokenizers-0.10.3 torch-1.8.1 torchaudio-0.8.1 torchinfo-0.0.8 torchtext-0.9.1 torchvision-0.9.1 transformers-4.3.3\n",
            "Looking in indexes: https://pypi.org/simple, https://us-python.pkg.dev/colab-wheels/public/simple/\n",
            "Requirement already satisfied: torchinfo in /usr/local/lib/python3.8/dist-packages (0.0.8)\n"
          ]
        }
      ],
      "source": [
        "!pip install -r https://raw.githubusercontent.com/MicrosoftDocs/pytorchfundamentals/main/nlp-pytorch/requirements.txt\n",
        "!pip install torchinfo\n",
        "!wget -q https://raw.githubusercontent.com/MicrosoftDocs/pytorchfundamentals/main/nlp-pytorch/torchnlp.py"
      ]
    },
    {
      "cell_type": "markdown",
      "source": [
        "> 上面这些包的安装大概需要一分钟的时间"
      ],
      "metadata": {
        "id": "zjoQcC3s18Vz"
      }
    },
    {
      "cell_type": "code",
      "execution_count": 1,
      "metadata": {
        "colab": {
          "base_uri": "https://localhost:8080/"
        },
        "id": "BvqFAn6m3DC1",
        "scrolled": true,
        "outputId": "23466c54-ce4f-460f-f914-4c73a510dc18"
      },
      "outputs": [
        {
          "output_type": "stream",
          "name": "stdout",
          "text": [
            "Loading dataset...\n",
            "Building vocab...\n"
          ]
        }
      ],
      "source": [
        "import torch\n",
        "import torchtext\n",
        "from torchtext.data import get_tokenizer\n",
        "import numpy as np\n",
        "from torchnlp import *\n",
        "from torchinfo import summary\n",
        "train_dataset, test_dataset, classes, vocab = load_dataset()\n"
      ]
    },
    {
      "cell_type": "markdown",
      "metadata": {
        "id": "yQgG8OTR3DC2"
      },
      "source": [
        "### Dealing with variable sequence size\n",
        "\n",
        "When working with words, you are going to have text sequences or sentences that are of different lengths.  This can be problematic in training the word embeddings neural network. For consistency in the word embedding and improve training performance, we would have to apply some padding. This can be done using the `torch.nn.functional.pad` on a tokenized dataset. It adds zero values to the empty indices at the end of the vector.\n",
        "\n",
        "<img alt=\"diagram show how showing padding\" src=\"images/4-embedding-2.png\" align=\"middle\" />\n"
      ]
    },
    {
      "cell_type": "code",
      "execution_count": 2,
      "metadata": {
        "id": "qfIW-UvJ3DC2"
      },
      "outputs": [],
      "source": [
        "def padify(b):\n",
        "    # b is the list of tuples of length batch_size\n",
        "    #   - first element of a tuple = label, \n",
        "    #   - second = feature (text sequence)\n",
        "    # build vectorized sequence\n",
        "    v = [encode(x[1]) for x in b]\n",
        "    # first, compute max length of a sequence in this minibatch\n",
        "    l = max(map(len,v))\n",
        "    return ( # tuple of two tensors - labels and features\n",
        "        torch.LongTensor([t[0]-1 for t in b]),\n",
        "        torch.stack([torch.nn.functional.pad(torch.tensor(t),(0,l-len(t)),mode='constant',value=0) for t in v])\n",
        "    )"
      ]
    },
    {
      "cell_type": "markdown",
      "metadata": {
        "id": "OUgYQkEp3DC2"
      },
      "source": [
        "Let's use the first 2 sentences as example to view the text length differences and effects of padding."
      ]
    },
    {
      "cell_type": "code",
      "execution_count": 3,
      "metadata": {
        "id": "ShNS0F3a3DC2",
        "outputId": "6e521037-9fd9-4443-a9ce-68d53169cc6e",
        "colab": {
          "base_uri": "https://localhost:8080/"
        }
      },
      "outputs": [
        {
          "output_type": "stream",
          "name": "stdout",
          "text": [
            "First Sentence in dataset:\n",
            "Wall St. Bears Claw Back Into the Black (Reuters) Reuters - Short-sellers, Wall Street's dwindling\\band of ultra-cynics, are seeing green again.\n",
            "f_tokens: [432, 426, 2, 1606, 14839, 114, 67, 3, 849, 14, 28, 15, 28, 16, 50726, 4, 432, 375, 17, 10, 67508, 7, 52259, 4, 43, 4010, 784, 326, 2]\n",
            "Length: 144\n",
            "\n",
            "Second Sentence in dataset:\n",
            "Carlyle Looks Toward Commercial Aerospace (Reuters) Reuters - Private investment firm Carlyle Group,\\which has a reputation for making well-timed and occasionally\\controversial plays in the defense industry, has quietly placed\\its bets on another part of the market.\n",
            "s_tokens: [15875, 1073, 855, 1311, 4251, 14, 28, 15, 28, 16, 930, 798, 321, 15875, 99, 4, 27658, 29, 6, 4460, 12, 565, 52791, 9, 80618, 2126, 8, 3, 526, 242, 4, 29, 3891, 82815, 6575, 11, 207, 360, 7, 3, 127, 2]\n",
            "Length:  266\n"
          ]
        }
      ],
      "source": [
        "first_sentence = train_dataset[0][1]\n",
        "second_sentence = train_dataset[1][1]\n",
        "\n",
        "f_tokens = encode(first_sentence)\n",
        "s_tokens = encode(second_sentence)\n",
        "\n",
        "print(f'First Sentence in dataset:\\n{first_sentence}')\n",
        "print(\"f_tokens:\", f_tokens)\n",
        "print(\"Length:\", len(train_dataset[0][1]))\n",
        "print(f'\\nSecond Sentence in dataset:\\n{second_sentence}')\n",
        "print(\"s_tokens:\", s_tokens)\n",
        "print(\"Length: \", len(train_dataset[1][1]))"
      ]
    },
    {
      "cell_type": "markdown",
      "metadata": {
        "id": "09WGk4h73DC3"
      },
      "source": [
        "Let's use the text sequence from the news article headlines in our dataset to change into a tokenize vector.  As you will see, the text sequence have different lengths.  We'll apply padding so all the text sequence will have a fixed length.  This approach is used when you have a large set of text sequences in your dataset.\n",
        "\n",
        "- The length of the 1st and 2nd sentences displayed have difference lengths.  \n",
        "- The max length of the dataset tensors is the length of the longest sentence length in the entire dataset.\n",
        "- The zeros are added to the empty indexes in the tensor."
      ]
    },
    {
      "cell_type": "code",
      "execution_count": 4,
      "metadata": {
        "id": "hw5QjIfp3DC3",
        "outputId": "f4c68652-a826-4857-83f8-99cd70c9f866",
        "colab": {
          "base_uri": "https://localhost:8080/"
        }
      },
      "outputs": [
        {
          "output_type": "stream",
          "name": "stdout",
          "text": [
            "features: tensor([[  432,   426,     2,  ...,     0,     0,     0],\n",
            "        [15875,  1073,   855,  ...,     0,     0,     0],\n",
            "        [   59,     9,   348,  ...,     0,     0,     0],\n",
            "        ...,\n",
            "        [ 7736,    63,   665,  ...,     0,     0,     0],\n",
            "        [   97,    17,    10,  ...,     0,     0,     0],\n",
            "        [ 2155,   223,  2405,  ...,     0,     0,     0]])\n",
            "\n",
            "length of first sentence: 29\n",
            "length of second sentence: 42\n",
            "size of features: torch.Size([120000, 207])\n"
          ]
        }
      ],
      "source": [
        "vocab_size = len(vocab)\n",
        "labels, features = padify(train_dataset)  \n",
        "print(f'features: {features}')\n",
        "\n",
        "print(f'\\nlength of first sentence: {len(f_tokens)}')\n",
        "print(f'length of second sentence: {len(s_tokens)}')\n",
        "print(f'size of features: {features.size()}')"
      ]
    },
    {
      "cell_type": "markdown",
      "metadata": {
        "id": "WyJ6PfzL3DC3"
      },
      "source": [
        "\n",
        "### What is embedding?\n",
        "\n",
        "The idea of **embedding** is the process of mapping words into vectors, which reflects the **_semantic meaning of a word_**. The length of its vectors are the embedding dimensions size. We will later discuss how to build meaningful word embeddings, but for now let's just think of embeddings as a way to lower dimensionality of a word vector. \n",
        "\n",
        "So, embedding layer would take a word as an input, and produce an output vector of specified `embedding_size`. In a sense, it is very similar to `Linear` layer, but instead of taking one-hot encoded vector, it will be able to take a word number as an input.\n",
        "\n",
        "By using embedding layer as a first layer in our network, we can switch from bag-or-words to **embedding bag** model, where we first convert each word in our text into corresponding embedding, and then compute some aggregate function over all those embeddings, such as `sum`, `average` or `max`.  \n",
        "\n",
        "<img alt=\"Image showing an embedding classifier for five sequence words.\" src=\"images/4-embedding-3.png\" align=\"middle\" />\n"
      ]
    },
    {
      "cell_type": "markdown",
      "metadata": {
        "id": "k2gSP7pX3DC3"
      },
      "source": [
        "Our classifier neural network will start with an embedding layer, then aggregation layer, and a linear classifier on top of it:\n",
        "- `vocab_size` are the size of the total number of words we have in our vocabulary.\n",
        "- `embed_dim` are the length of the word dimensions that show relationships between words passed as in the network.\n",
        "- `num_class` are the number of news categories we are trying to classify (e.g. World, Sports, Business, Sci/Tech) \n"
      ]
    },
    {
      "cell_type": "code",
      "execution_count": 6,
      "metadata": {
        "id": "L0swfAml3DC3"
      },
      "outputs": [],
      "source": [
        "class EmbedClassifier(torch.nn.Module):\n",
        "    def __init__(self, vocab_size, embed_dim, num_class):\n",
        "        super().__init__()\n",
        "        self.embedding = torch.nn.Embedding(vocab_size, embed_dim)\n",
        "        self.fc = torch.nn.Linear(embed_dim, num_class)\n",
        "\n",
        "    def forward(self, x):\n",
        "        x = self.embedding(x)\n",
        "        x = torch.mean(x,dim=1)\n",
        "        return self.fc(x)"
      ]
    },
    {
      "cell_type": "markdown",
      "metadata": {
        "id": "KLu6gAWH3DC3"
      },
      "source": [
        "### Training embedding classifier\n",
        "\n",
        "Now we’ll define our training dataloader and use the `collate_fn` to apply the padify function to the datasets as they loaded in each batch.  As a result, the training dataset will be padded."
      ]
    },
    {
      "cell_type": "code",
      "execution_count": 7,
      "metadata": {
        "id": "NXxdgYH63DC4"
      },
      "outputs": [],
      "source": [
        "train_loader = torch.utils.data.DataLoader(train_dataset, batch_size=16, collate_fn=padify, shuffle=True)"
      ]
    },
    {
      "cell_type": "markdown",
      "metadata": {
        "id": "4ZXrw9iK3DC4"
      },
      "source": [
        "We can train the model using the training function defined in the previous unit to run the embedding network.  The training output serves as a vector lookup store based on the unique index tokens from the vocabulary."
      ]
    },
    {
      "cell_type": "code",
      "source": [
        "device"
      ],
      "metadata": {
        "colab": {
          "base_uri": "https://localhost:8080/"
        },
        "id": "1nF4rfN8J9Gy",
        "outputId": "b82a0b1a-19f3-4892-fb7b-faed2bfbe931"
      },
      "execution_count": 9,
      "outputs": [
        {
          "output_type": "execute_result",
          "data": {
            "text/plain": [
              "device(type='cuda')"
            ]
          },
          "metadata": {},
          "execution_count": 9
        }
      ]
    },
    {
      "cell_type": "code",
      "execution_count": 8,
      "metadata": {
        "id": "aZhq0FHv3DC4",
        "outputId": "8d381cbb-2650-4fc5-b6cd-0dea59008948",
        "colab": {
          "base_uri": "https://localhost:8080/"
        }
      },
      "outputs": [
        {
          "output_type": "stream",
          "name": "stdout",
          "text": [
            "3200: acc=0.64125\n",
            "6400: acc=0.685\n",
            "9600: acc=0.7108333333333333\n",
            "12800: acc=0.727265625\n",
            "16000: acc=0.7389375\n",
            "19200: acc=0.7490625\n",
            "22400: acc=0.7557142857142857\n"
          ]
        },
        {
          "output_type": "execute_result",
          "data": {
            "text/plain": [
              "(0.9203356488423704, 0.7589971209213052)"
            ]
          },
          "metadata": {},
          "execution_count": 8
        }
      ],
      "source": [
        "net = EmbedClassifier(vocab_size,32,len(classes)).to(device)\n",
        "train_epoch(net,train_loader, lr=1, epoch_size=25000)"
      ]
    },
    {
      "cell_type": "markdown",
      "metadata": {
        "id": "D79Qdi-x3DC4"
      },
      "source": [
        "> **Note**: We are only training for 25k records here (less than one full epoch) for the sake of time, but you can continue training, write a function to train for several epochs, and experiment with learning rate parameter to achieve higher accuracy. You should be able to go to the accuracy of about 90%."
      ]
    },
    {
      "cell_type": "markdown",
      "metadata": {
        "id": "xNTgQpmM3DC4"
      },
      "source": [
        "### EmbeddingBag Layer and Variable-Length Sequence Representation\n",
        "\n",
        "In the previous architecture, we needed to pad all sequences to the same length in order to fit them into a minibatch. This is not the most efficient way to represent variable length sequences - another apporach would be to use **offset** vector, which would hold offsets of all sequences stored in one large vector.\n",
        "\n",
        "<img alt=\"Image showing an offset sequence representation\" src=\"images/4-embedding-4.png\" align=\"middle\" />\n",
        "\n",
        "> **Note**: On the picture above, we show a sequence of characters, but in our example we are working with sequences of words. However, the general principle of representing sequences with offset vector remains the same.\n",
        "\n",
        "To work with offset representation, we use PyTorch's `EmbeddingBag` layer. It is similar to `Embedding`, but it takes content vector and offset vector as input, and it also includes averaging layer, which can be `mean`, `sum` or `max`.\n",
        "\n",
        "Here is modified network that uses `EmbeddingBag`:\n"
      ]
    },
    {
      "cell_type": "code",
      "execution_count": 5,
      "metadata": {
        "id": "cSnUhXBc3DC4"
      },
      "outputs": [],
      "source": [
        "class EmbedClassifier(torch.nn.Module):\n",
        "    def __init__(self, vocab_size, embed_dim, num_class):\n",
        "        super().__init__()\n",
        "        self.embedding = torch.nn.EmbeddingBag(vocab_size, embed_dim)\n",
        "        self.fc = torch.nn.Linear(embed_dim, num_class)\n",
        "\n",
        "    def forward(self, text, off):\n",
        "        x = self.embedding(text, off)\n",
        "        return self.fc(x)"
      ]
    },
    {
      "cell_type": "markdown",
      "source": [
        "> 我们可以发现forward里的参数和net()括号里的参数是需要一致的😀"
      ],
      "metadata": {
        "id": "gEnhTeBUNB9B"
      }
    },
    {
      "cell_type": "markdown",
      "metadata": {
        "id": "W2H2Ykrw3DC4"
      },
      "source": [
        "To prepare the dataset for training, we need to provide a conversion function that will prepare the offset vector:"
      ]
    },
    {
      "cell_type": "code",
      "execution_count": 6,
      "metadata": {
        "id": "L7LQkeYx3DC4"
      },
      "outputs": [],
      "source": [
        "def offsetify(b):\n",
        "    # first, compute data tensor from all sequences\n",
        "    x = [torch.tensor(encode(t[1])) for t in b]\n",
        "    # now, compute the offsets by accumulating the tensor of sequence lengths\n",
        "    o = [0] + [len(t) for t in x]\n",
        "    o = torch.tensor(o[:-1]).cumsum(dim=0)\n",
        "    return ( \n",
        "        torch.LongTensor([t[0]-1 for t in b]), # labels\n",
        "        torch.cat(x), # text \n",
        "        o # offset\n",
        "    )\n",
        "\n",
        "train_loader = torch.utils.data.DataLoader(train_dataset, batch_size=16, collate_fn=offsetify, shuffle=True)"
      ]
    },
    {
      "cell_type": "markdown",
      "metadata": {
        "id": "n-_Bz2P53DC5"
      },
      "source": [
        "The offset vector is calculated by first combining the sentences indices into one tensor sequence, then extracting the starting index location of each sentence in the sequence. For example: \n",
        "- The length of the first sentence in our training dataset is 29.  Meaning the first index of the offset will be `0`.\n",
        "- The length of the second sentence in the dataset is 42.  Meaning the second index of the offset will be `29`, where the first sentence ended. \n",
        "- The third index of the offset will be 29 + 42 = `71`, where the 2nd sentence ended."
      ]
    },
    {
      "cell_type": "code",
      "execution_count": 11,
      "metadata": {
        "id": "DVfUayLS3DC5",
        "outputId": "7897602c-6ade-4d18-f5cd-43f62f0474fb",
        "colab": {
          "base_uri": "https://localhost:8080/"
        }
      },
      "outputs": [
        {
          "output_type": "stream",
          "name": "stdout",
          "text": [
            "offset: tensor([      0,      29,      71,  ..., 5193441, 5193488, 5193569])\n",
            "\n",
            "length of first sentence: 29\n",
            "length of second sentence: 42\n",
            "size of data vector: torch.Size([5193609])\n",
            "size of offset vector: torch.Size([120000])\n"
          ]
        }
      ],
      "source": [
        "labels, features, offset = offsetify(train_dataset)  \n",
        "print(f'offset: {offset}')\n",
        "print(f'\\nlength of first sentence: {len(f_tokens)}')\n",
        "print(f'length of second sentence: {len(s_tokens)}')\n",
        "print(f'size of data vector: {features.size()}')\n",
        "print(f'size of offset vector: {offset.size()}')"
      ]
    },
    {
      "cell_type": "markdown",
      "metadata": {
        "id": "yJgB2VGN3DC5"
      },
      "source": [
        "> **Note:** that unlike in all previous examples, our network now accepts two parameters: data vector and offset vector, which are of different sizes. Similarly, our data loader also provides us with 3 values instead of 2: both text and offset vectors are provided as features. Therefore, we need to slightly adjust our training function to take care of that:"
      ]
    },
    {
      "cell_type": "code",
      "execution_count": 20,
      "metadata": {
        "id": "sqb_8W7f3DC5",
        "outputId": "fa6ab1f6-7e3c-4ecf-8efe-12311521e96f",
        "colab": {
          "base_uri": "https://localhost:8080/"
        }
      },
      "outputs": [
        {
          "output_type": "stream",
          "name": "stdout",
          "text": [
            "3200: acc=0.654375\n",
            "6400: acc=0.69953125\n",
            "9600: acc=0.7166666666666667\n",
            "12800: acc=0.726875\n",
            "16000: acc=0.737625\n",
            "19200: acc=0.7441666666666666\n",
            "22400: acc=0.7536607142857142\n"
          ]
        },
        {
          "output_type": "execute_result",
          "data": {
            "text/plain": [
              "(23.081501419545745, 0.757597568777991)"
            ]
          },
          "metadata": {},
          "execution_count": 20
        }
      ],
      "source": [
        "net = EmbedClassifier(vocab_size,32,len(classes)).to(device)\n",
        "\n",
        "def train_epoch_emb(net,dataloader,lr=0.01,optimizer=None,loss_fn = torch.nn.CrossEntropyLoss(),epoch_size=None, report_freq=200):\n",
        "    optimizer = optimizer or torch.optim.Adam(net.parameters(),lr=lr)\n",
        "    loss_fn = loss_fn.to(device)\n",
        "    net.train()\n",
        "    total_loss,acc,count,i = 0,0,0,0\n",
        "    for labels,text,off in dataloader:\n",
        "        optimizer.zero_grad()\n",
        "        labels,text,off = labels.to(device), text.to(device), off.to(device)\n",
        "        out = net(text, off)\n",
        "        loss = loss_fn(out,labels) #cross_entropy(out,labels)\n",
        "        loss.backward()\n",
        "        optimizer.step()\n",
        "        total_loss+=loss\n",
        "        _,predicted = torch.max(out,1)\n",
        "        acc+=(predicted==labels).sum()\n",
        "        count+=len(labels)\n",
        "        i+=1\n",
        "        if i%report_freq==0:\n",
        "            print(f\"{count}: acc={acc.item()/count}\")\n",
        "        if epoch_size and count>epoch_size:\n",
        "            break\n",
        "    return total_loss.item()/count, acc.item()/count\n",
        "\n",
        "\n",
        "train_epoch_emb(net,train_loader, lr=4, epoch_size=25000)"
      ]
    },
    {
      "cell_type": "code",
      "source": [
        "train_epoch_emb(net,train_loader, lr=4, epoch_size=30000)"
      ],
      "metadata": {
        "colab": {
          "base_uri": "https://localhost:8080/"
        },
        "id": "dPWPk2q1NgS1",
        "outputId": "f0e65209-dbac-426c-9c6b-0a6ba6f95607"
      },
      "execution_count": 21,
      "outputs": [
        {
          "output_type": "stream",
          "name": "stdout",
          "text": [
            "3200: acc=0.844375\n",
            "6400: acc=0.833125\n",
            "9600: acc=0.8301041666666666\n",
            "12800: acc=0.829140625\n",
            "16000: acc=0.829125\n",
            "19200: acc=0.829375\n",
            "22400: acc=0.8314732142857143\n",
            "25600: acc=0.8321875\n",
            "28800: acc=0.8329166666666666\n"
          ]
        },
        {
          "output_type": "execute_result",
          "data": {
            "text/plain": [
              "(29.38804720815565, 0.8330890191897654)"
            ]
          },
          "metadata": {},
          "execution_count": 21
        }
      ]
    },
    {
      "cell_type": "code",
      "source": [
        "train_epoch_emb(net,train_loader, lr=4, epoch_size=30000)"
      ],
      "metadata": {
        "colab": {
          "base_uri": "https://localhost:8080/"
        },
        "id": "8OOJp_0ANmsG",
        "outputId": "46c46a4d-64c2-47de-c96f-681b9a53f8bb"
      },
      "execution_count": 22,
      "outputs": [
        {
          "output_type": "stream",
          "name": "stdout",
          "text": [
            "3200: acc=0.8625\n",
            "6400: acc=0.85625\n",
            "9600: acc=0.8552083333333333\n",
            "12800: acc=0.8503125\n",
            "16000: acc=0.8529375\n",
            "19200: acc=0.8520833333333333\n",
            "22400: acc=0.8520535714285714\n",
            "25600: acc=0.8508203125\n",
            "28800: acc=0.8510416666666667\n"
          ]
        },
        {
          "output_type": "execute_result",
          "data": {
            "text/plain": [
              "(34.069302621934966, 0.8513792643923241)"
            ]
          },
          "metadata": {},
          "execution_count": 22
        }
      ]
    },
    {
      "cell_type": "code",
      "source": [
        "train_epoch_emb(net,train_loader, lr=4, epoch_size=30000)"
      ],
      "metadata": {
        "colab": {
          "base_uri": "https://localhost:8080/"
        },
        "id": "w2gzP1YBNsZ_",
        "outputId": "3c79378e-f808-4420-8b5a-5fe3970b76d0"
      },
      "execution_count": 23,
      "outputs": [
        {
          "output_type": "stream",
          "name": "stdout",
          "text": [
            "3200: acc=0.865\n",
            "6400: acc=0.8678125\n",
            "9600: acc=0.8677083333333333\n",
            "12800: acc=0.8678125\n",
            "16000: acc=0.86625\n",
            "19200: acc=0.8644791666666667\n",
            "22400: acc=0.865\n",
            "25600: acc=0.8638671875\n",
            "28800: acc=0.8635069444444444\n"
          ]
        },
        {
          "output_type": "execute_result",
          "data": {
            "text/plain": [
              "(38.655496235341154, 0.86340618336887)"
            ]
          },
          "metadata": {},
          "execution_count": 23
        }
      ]
    },
    {
      "cell_type": "code",
      "source": [
        "train_epoch_emb(net,train_loader, lr=2, epoch_size=30000) # 我们可以从上面看到误差越来越大，所以想是学习率的问题产生了过拟合"
      ],
      "metadata": {
        "colab": {
          "base_uri": "https://localhost:8080/"
        },
        "id": "Sk-orBU_N4Oh",
        "outputId": "d3178b71-1657-46cc-e4d7-e5856949d01a"
      },
      "execution_count": 24,
      "outputs": [
        {
          "output_type": "stream",
          "name": "stdout",
          "text": [
            "3200: acc=0.893125\n",
            "6400: acc=0.88875\n",
            "9600: acc=0.8828125\n",
            "12800: acc=0.88328125\n",
            "16000: acc=0.8834375\n",
            "19200: acc=0.88265625\n",
            "22400: acc=0.8806696428571429\n",
            "25600: acc=0.88125\n",
            "28800: acc=0.8807638888888889\n"
          ]
        },
        {
          "output_type": "execute_result",
          "data": {
            "text/plain": [
              "(19.201765308502132, 0.8800972814498934)"
            ]
          },
          "metadata": {},
          "execution_count": 24
        }
      ]
    },
    {
      "cell_type": "code",
      "source": [
        "train_epoch_emb(net,train_loader, lr=2, epoch_size=30000) # 这里我们看到可以确保误差是变少的"
      ],
      "metadata": {
        "colab": {
          "base_uri": "https://localhost:8080/"
        },
        "id": "GO-cH3RuOKNc",
        "outputId": "66ddd981-b570-4ec4-fd26-ecea0940ef1c"
      },
      "execution_count": 25,
      "outputs": [
        {
          "output_type": "stream",
          "name": "stdout",
          "text": [
            "3200: acc=0.886875\n",
            "6400: acc=0.88953125\n",
            "9600: acc=0.8908333333333334\n",
            "12800: acc=0.89140625\n",
            "16000: acc=0.891625\n",
            "19200: acc=0.8919791666666667\n",
            "22400: acc=0.8936160714285715\n",
            "25600: acc=0.892890625\n",
            "28800: acc=0.8930902777777778\n"
          ]
        },
        {
          "output_type": "execute_result",
          "data": {
            "text/plain": [
              "(16.960193105343816, 0.8921242004264393)"
            ]
          },
          "metadata": {},
          "execution_count": 25
        }
      ]
    },
    {
      "cell_type": "code",
      "source": [
        "train_epoch_emb(net,train_loader, lr=1, epoch_size=30000) # 误差再次缩小一半，精确度却没有提升了"
      ],
      "metadata": {
        "colab": {
          "base_uri": "https://localhost:8080/"
        },
        "id": "tfY0oLFrOSrV",
        "outputId": "e8e55291-97af-465e-fb2e-3e494988ad96"
      },
      "execution_count": 26,
      "outputs": [
        {
          "output_type": "stream",
          "name": "stdout",
          "text": [
            "3200: acc=0.9090625\n",
            "6400: acc=0.90578125\n",
            "9600: acc=0.905\n",
            "12800: acc=0.904296875\n",
            "16000: acc=0.9026875\n",
            "19200: acc=0.8997395833333334\n",
            "22400: acc=0.8994642857142857\n",
            "25600: acc=0.8990234375\n",
            "28800: acc=0.8994097222222223\n"
          ]
        },
        {
          "output_type": "execute_result",
          "data": {
            "text/plain": [
              "(8.62700778334888, 0.8995535714285714)"
            ]
          },
          "metadata": {},
          "execution_count": 26
        }
      ]
    },
    {
      "cell_type": "code",
      "source": [
        "train_epoch_emb(net,train_loader, lr=0.1, epoch_size=30000) # 学习率再后期减小就是正确的决策"
      ],
      "metadata": {
        "colab": {
          "base_uri": "https://localhost:8080/"
        },
        "id": "FpV5bIG5Ok73",
        "outputId": "9f5e21d4-95a9-4a70-a971-3d6befe0d57e"
      },
      "execution_count": 30,
      "outputs": [
        {
          "output_type": "stream",
          "name": "stdout",
          "text": [
            "3200: acc=0.9253125\n",
            "6400: acc=0.92953125\n",
            "9600: acc=0.9285416666666667\n",
            "12800: acc=0.926640625\n",
            "16000: acc=0.9265625\n",
            "19200: acc=0.9264583333333334\n",
            "22400: acc=0.9252232142857143\n",
            "25600: acc=0.9249609375\n",
            "28800: acc=0.9250694444444445\n"
          ]
        },
        {
          "output_type": "execute_result",
          "data": {
            "text/plain": [
              "(1.6222955829807435, 0.9249067164179104)"
            ]
          },
          "metadata": {},
          "execution_count": 30
        }
      ]
    },
    {
      "cell_type": "code",
      "source": [
        "train_epoch_emb(net,train_loader, lr=0.01, epoch_size=30000)"
      ],
      "metadata": {
        "colab": {
          "base_uri": "https://localhost:8080/"
        },
        "id": "MTjiqUiAO800",
        "outputId": "223363bd-f1ff-47e3-c003-73ff802ddaf9"
      },
      "execution_count": 35,
      "outputs": [
        {
          "output_type": "stream",
          "name": "stdout",
          "text": [
            "3200: acc=0.9384375\n",
            "6400: acc=0.92890625\n",
            "9600: acc=0.928125\n",
            "12800: acc=0.927890625\n",
            "16000: acc=0.926875\n",
            "19200: acc=0.9271875\n",
            "22400: acc=0.9275446428571429\n",
            "25600: acc=0.928203125\n",
            "28800: acc=0.9280208333333333\n"
          ]
        },
        {
          "output_type": "execute_result",
          "data": {
            "text/plain": [
              "(0.4447161709067664, 0.9275386460554371)"
            ]
          },
          "metadata": {},
          "execution_count": 35
        }
      ]
    },
    {
      "cell_type": "code",
      "source": [
        "train_epoch_emb(net,train_loader, lr=0.002, epoch_size=30000)"
      ],
      "metadata": {
        "colab": {
          "base_uri": "https://localhost:8080/"
        },
        "id": "lam0RvUKPP2G",
        "outputId": "d8c54121-8b36-4722-ed62-9d90008d1df8"
      },
      "execution_count": 38,
      "outputs": [
        {
          "output_type": "stream",
          "name": "stdout",
          "text": [
            "3200: acc=0.93375\n",
            "6400: acc=0.9315625\n",
            "9600: acc=0.9311458333333333\n",
            "12800: acc=0.93125\n",
            "16000: acc=0.9306875\n",
            "19200: acc=0.9306770833333333\n",
            "22400: acc=0.9309375\n",
            "25600: acc=0.9307421875\n",
            "28800: acc=0.9304166666666667\n"
          ]
        },
        {
          "output_type": "execute_result",
          "data": {
            "text/plain": [
              "(0.40226238063657715, 0.9308702025586354)"
            ]
          },
          "metadata": {},
          "execution_count": 38
        }
      ]
    },
    {
      "cell_type": "markdown",
      "metadata": {
        "id": "3iJBi-aU3DC5"
      },
      "source": [
        "\n",
        "## Semantic Embeddings: Word2Vec\n",
        "\n",
        "In our previous example, the model embedding layer learnt to map words to vector representation, however, this representation did not have much semantical meaning. It would be nice to learn such vector representation, that similar words or symonims would correspond to vectors that are close to each other in terms of some vector distance (eg. euclidian distance).\n",
        "\n",
        "To do that, we need to pre-train our embedding model on a large collection of text in a specific way. One of the first ways to train semantic embeddings is called **Word2Vec**.   It helps **_map the probability of a word_**, based on the contexts from texts in the sequence.  It is based on two main architectures that are used to produce a distributed representation of words:\n",
        "\n",
        " - **Continuous bag-of-words** (CBoW) — in this architecture, we train the model to predict a word from surrounding context. Given the ngram $(W_{-2},W_{-1},W_0,W_1,W_2)$, the goal of the model is to predict $W_0$ from $(W_{-2},W_{-1},W_1,W_2)$.  For example:  **_\"I like my hot dog on a __\"_**.  Here the predicted word would be **_\"bun\"_**.\n",
        " - **Continuous skip-gram** is opposite to CBoW. The model uses surrounding window of context words to predict the current word.  For example: you can predict **_dog_** to be more associated with the word **_veterinary_**.\n",
        "\n",
        "CBoW is faster, while skip-gram is slower, but does a better job of representing infrequent words.\n",
        "\n",
        "<img alt=\"Image showing both CBoW and Skip-Gram algorithms to convert words to vectors.\" src=\"images/4-embedding-5.png\" align=\"middle\" />\n",
        "\n",
        "Both CBOW and Skip-Grams are “predictive” embeddings, in that they only take local contexts into account. Word2Vec does not take advantage of global context.   \n",
        "\n",
        "- **GloVe** (Global Vectors) - derives the relationship between words. It determines how often a particular word-pair occurs together in a text by leveraging the idea of co-occurence matrix and uses neural methods to decompose co-occurrence matrix into more expressive and non linear word vectors.\n",
        "- **FastText** - builds on Word2Vec by learning vector representations for each word and the charachter n-grams found within each word. The values of the representations are then averaged into one vector at each training step. While this adds a lot of additional computation to pre-training, it enables word embeddings to encode sub-word information.\n",
        "- **Gensim** (Generate Similar) - is an open source NLP Python library that provides a unified interface to build word vectors, corpus, perform topic identification, and other NLP tasks.\n",
        "\n",
        "FastText and GloVe are other word embeddings techniques that predict the probably of words appearing together.  \n",
        "\n",
        "In our Word2Vec examples, we'll using pre-trained semantic embeddings, but it is interesting to see how those embeddings can be trained using either FastText, CBoW, or Skip-gram architectures. This exercise goes beyond this module, but those interested can reference Word Embeddings tutorials on Pytorch's website. "
      ]
    },
    {
      "cell_type": "markdown",
      "metadata": {
        "id": "VtSx07GT3DC5"
      },
      "source": [
        "### Genim\n",
        "\n",
        "The **gensim** framework can be used with Pytorch to train most commonly used embeddings in a few lines of code.  To experiment with word2vec embedding pre-trained on Google News dataset, we can use the **gensim** library. Below we find the words that are most similar to 'neural'\n",
        "\n",
        "> **Note:** When you first create word vectors, downloading them can take some time!"
      ]
    },
    {
      "cell_type": "code",
      "execution_count": 7,
      "metadata": {
        "id": "YC8RkvgC3DC6"
      },
      "outputs": [],
      "source": [
        "import gensim.downloader as api\n",
        "w2v = api.load('word2vec-google-news-300')"
      ]
    },
    {
      "cell_type": "markdown",
      "source": [
        "> 第一次运行用了8min，因为要下载大概1688M的东西"
      ],
      "metadata": {
        "id": "koYxtKt_TjjA"
      }
    },
    {
      "cell_type": "markdown",
      "metadata": {
        "id": "C2CJbLJo3DC6"
      },
      "source": [
        "Let's take a look at words that are similar to 'dog'."
      ]
    },
    {
      "cell_type": "markdown",
      "source": [
        "在运行下面语句的时候提示内存已经爆掉了，由于我们是从头运行到这里，可能中间变量太多的问题导致内存不够用了，这里我们单独从上面的`api.load`开始运行就好，第二次运行的时候只用了46s。\n",
        "\n",
        "> 注：提示下面图片信息的时候，下载过的包由于在硬盘上所以是不受影响的。"
      ],
      "metadata": {
        "id": "xRfX42E-UFTT"
      }
    },
    {
      "cell_type": "markdown",
      "source": [
        "![image.png](data:image/png;base64,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)"
      ],
      "metadata": {
        "id": "j281AqvTT4Lj"
      }
    },
    {
      "cell_type": "code",
      "execution_count": 3,
      "metadata": {
        "id": "w9DncqQG3DC6",
        "outputId": "8f5f707c-02fe-44f3-b85f-d300e51b7b33",
        "colab": {
          "base_uri": "https://localhost:8080/"
        }
      },
      "outputs": [
        {
          "output_type": "stream",
          "name": "stdout",
          "text": [
            "dogs -> 0.8680489659309387\n",
            "puppy -> 0.8106428384780884\n",
            "pit_bull -> 0.780396044254303\n",
            "pooch -> 0.7627377510070801\n",
            "cat -> 0.7609456777572632\n",
            "golden_retriever -> 0.7500902414321899\n",
            "German_shepherd -> 0.7465174198150635\n",
            "Rottweiler -> 0.7437614798545837\n",
            "beagle -> 0.7418621778488159\n",
            "pup -> 0.740691065788269\n"
          ]
        }
      ],
      "source": [
        "for w,p in w2v.most_similar('dog'):\n",
        "    print(f\"{w} -> {p}\")"
      ]
    },
    {
      "cell_type": "code",
      "source": [
        "w2v.word_vec('dog')[:20]"
      ],
      "metadata": {
        "colab": {
          "base_uri": "https://localhost:8080/"
        },
        "id": "Da_jchwQVrYM",
        "outputId": "34fb8735-9a9a-4f08-8d0a-72907c7e6b2a"
      },
      "execution_count": 8,
      "outputs": [
        {
          "output_type": "execute_result",
          "data": {
            "text/plain": [
              "array([ 0.05126953, -0.02233887, -0.17285156,  0.16113281, -0.08447266,\n",
              "        0.05737305,  0.05859375, -0.08251953, -0.01538086, -0.06347656,\n",
              "        0.1796875 , -0.42382812, -0.02258301, -0.16601562, -0.02514648,\n",
              "        0.10742188, -0.19921875,  0.15917969, -0.1875    , -0.12011719],\n",
              "      dtype=float32)"
            ]
          },
          "metadata": {},
          "execution_count": 8
        }
      ]
    },
    {
      "cell_type": "code",
      "source": [
        "for w,p in w2v.most_similar('cat'):\n",
        "    print(f\"{w} -> {p}\")"
      ],
      "metadata": {
        "colab": {
          "base_uri": "https://localhost:8080/"
        },
        "id": "eBqSOkqtVIM_",
        "outputId": "e86cf9f8-a806-4636-9f88-a24ab3650dbb"
      },
      "execution_count": 4,
      "outputs": [
        {
          "output_type": "stream",
          "name": "stdout",
          "text": [
            "cats -> 0.8099379539489746\n",
            "dog -> 0.7609456777572632\n",
            "kitten -> 0.7464985251426697\n",
            "feline -> 0.7326233983039856\n",
            "beagle -> 0.7150583267211914\n",
            "puppy -> 0.7075453996658325\n",
            "pup -> 0.6934291124343872\n",
            "pet -> 0.6891531348228455\n",
            "felines -> 0.6755931377410889\n",
            "chihuahua -> 0.6709762215614319\n"
          ]
        }
      ]
    },
    {
      "cell_type": "code",
      "source": [
        "for w,p in w2v.most_similar('puppy'):\n",
        "    print(f\"{w} -> {p}\")"
      ],
      "metadata": {
        "colab": {
          "base_uri": "https://localhost:8080/"
        },
        "id": "256TeVg9VNnf",
        "outputId": "53a2531b-168a-4d3b-e8c2-7e9bcfe59cd8"
      },
      "execution_count": 5,
      "outputs": [
        {
          "output_type": "stream",
          "name": "stdout",
          "text": [
            "pup -> 0.8287645578384399\n",
            "puppies -> 0.8270493745803833\n",
            "dog -> 0.8106428384780884\n",
            "kitten -> 0.7805572748184204\n",
            "pooch -> 0.758628249168396\n",
            "golden_retriever -> 0.7382912635803223\n",
            "Pomeranian -> 0.7346876859664917\n",
            "Sheltie -> 0.7084857821464539\n",
            "cat -> 0.7075453996658325\n",
            "Puppy -> 0.7024075984954834\n"
          ]
        }
      ]
    },
    {
      "cell_type": "code",
      "source": [
        "for w,p in w2v.most_similar('human'):\n",
        "    print(f\"{w} -> {p}\")"
      ],
      "metadata": {
        "colab": {
          "base_uri": "https://localhost:8080/"
        },
        "id": "z-UEOpKDVU9g",
        "outputId": "8b0529b5-f14e-4151-fc47-213fc0a8e15c"
      },
      "execution_count": 6,
      "outputs": [
        {
          "output_type": "stream",
          "name": "stdout",
          "text": [
            "human_beings -> 0.613968014717102\n",
            "humans -> 0.5917960405349731\n",
            "impertinent_flamboyant_endearingly -> 0.5868303179740906\n",
            "employee_Laura_Althouse -> 0.5639358758926392\n",
            "humankind -> 0.5636305809020996\n",
            "Human -> 0.5524994134902954\n",
            "mankind -> 0.5346406698226929\n",
            "Christine_Gaugler_head -> 0.5272535681724548\n",
            "humanity -> 0.5262271165847778\n",
            "sentient_intelligent -> 0.5201493501663208\n"
          ]
        }
      ]
    },
    {
      "cell_type": "markdown",
      "metadata": {
        "id": "xTA6oDjM3DC6"
      },
      "source": [
        "We can also extract vector embeddings from the word, to be used in training classification model (we'll only show first 20 components of the vector for clarity):"
      ]
    },
    {
      "cell_type": "code",
      "execution_count": 7,
      "metadata": {
        "id": "XVQi4uw13DC6",
        "outputId": "9c465044-04d7-41f5-db59-588a25ff3eea",
        "colab": {
          "base_uri": "https://localhost:8080/"
        }
      },
      "outputs": [
        {
          "output_type": "execute_result",
          "data": {
            "text/plain": [
              "array([ 0.01226807,  0.06225586,  0.10693359,  0.05810547,  0.23828125,\n",
              "        0.03686523,  0.05151367, -0.20703125,  0.01989746,  0.10058594,\n",
              "       -0.03759766, -0.1015625 , -0.15820312, -0.08105469, -0.0390625 ,\n",
              "       -0.05053711,  0.16015625,  0.2578125 ,  0.10058594, -0.25976562],\n",
              "      dtype=float32)"
            ]
          },
          "metadata": {},
          "execution_count": 7
        }
      ],
      "source": [
        "w2v.word_vec('play')[:20]"
      ]
    },
    {
      "cell_type": "markdown",
      "metadata": {
        "id": "nu9UmTl_3DC6"
      },
      "source": [
        "The great thing about semantical embeddings is that you can manipulate vector encoding to change the semantics. For example, we can ask to find a word, whose vector representation would be as close as possible to words *king* and *woman*, and as far away from the word *man*:"
      ]
    },
    {
      "cell_type": "code",
      "execution_count": null,
      "metadata": {
        "id": "tFxuFhcn3DC6",
        "outputId": "b24e3786-8a3f-44eb-e44f-d596f61df9ea"
      },
      "outputs": [
        {
          "data": {
            "text/plain": "('queen', 0.7118192911148071)"
          },
          "execution_count": 16,
          "metadata": {},
          "output_type": "execute_result"
        }
      ],
      "source": [
        "w2v.most_similar(positive=['king','woman'],negative=['man'])[0]"
      ]
    },
    {
      "cell_type": "markdown",
      "metadata": {
        "id": "Feqk2t9Y3DC6"
      },
      "source": [
        "## Using Pre-Trained Embeddings in PyTorch\n",
        "\n",
        "We can modify the example above to pre-populate the matrix in our embedding layer with semantical embeddings, such as Word2Vec. We need to take into account that vocabularies of pre-trained embedding are an addition to the existing text corpus that we already have so they will likely not match. As a result, we will initialize weights for the missing words with random values:"
      ]
    },
    {
      "cell_type": "code",
      "execution_count": 8,
      "metadata": {
        "id": "LRJ8LLAn3DC7",
        "outputId": "5489197e-62c3-4625-f8d0-044dda9105ac",
        "colab": {
          "base_uri": "https://localhost:8080/"
        }
      },
      "outputs": [
        {
          "output_type": "stream",
          "name": "stdout",
          "text": [
            "Embedding size: 300\n",
            "Populating matrix, this will take some time...Done, found 41080 words, 54732 words missing\n"
          ]
        }
      ],
      "source": [
        "embed_size = len(w2v.get_vector('hello'))\n",
        "print(f'Embedding size: {embed_size}')\n",
        "\n",
        "net = EmbedClassifier(vocab_size,embed_size,len(classes))\n",
        "\n",
        "print('Populating matrix, this will take some time...',end='')\n",
        "found, not_found = 0,0\n",
        "for i,w in enumerate(vocab.itos):\n",
        "    try:\n",
        "        net.embedding.weight[i].data = torch.tensor(w2v.get_vector(w))\n",
        "        found+=1\n",
        "    except:\n",
        "        net.embedding.weight[i].data = torch.normal(0.0,1.0,(embed_size,))\n",
        "        not_found+=1\n",
        "\n",
        "print(f\"Done, found {found} words, {not_found} words missing\")\n",
        "net = net.to(device)"
      ]
    },
    {
      "cell_type": "markdown",
      "metadata": {
        "id": "glYARiWc3DC7"
      },
      "source": [
        "Now let's train our model. Note that the time it takes to train the model is significantly larger than in the previous example, due to larger embedding layer size, and thus much higher number of parameters. Also, because of this, we may need to train our model on more examples if we want to avoid overfitting."
      ]
    },
    {
      "cell_type": "code",
      "execution_count": 9,
      "metadata": {
        "id": "qmjrzK2F3DC7",
        "outputId": "748e315c-b413-4968-a5bf-cd8dc4e4ec6e",
        "colab": {
          "base_uri": "https://localhost:8080/"
        }
      },
      "outputs": [
        {
          "output_type": "stream",
          "name": "stdout",
          "text": [
            "3200: acc=0.6278125\n",
            "6400: acc=0.68734375\n",
            "9600: acc=0.7142708333333333\n",
            "12800: acc=0.72953125\n",
            "16000: acc=0.7405\n",
            "19200: acc=0.7507291666666667\n",
            "22400: acc=0.7573214285714286\n"
          ]
        },
        {
          "output_type": "execute_result",
          "data": {
            "text/plain": [
              "(224.34968809980805, 0.7615563019833653)"
            ]
          },
          "metadata": {},
          "execution_count": 9
        }
      ],
      "source": [
        "train_epoch_emb(net,train_loader, lr=4, epoch_size=25000)"
      ]
    },
    {
      "cell_type": "markdown",
      "metadata": {
        "id": "zkE5X69G3DC7"
      },
      "source": [
        "In our case we do not see a huge increase in accuracy, which is likely due to the quite different vocalularies. \n",
        "To overcome the problem of different vocabularies, we can use one of the following solutions:\n",
        "* Re-train word2vec model on our vocabulary\n",
        "* Load our dataset with the vocabulary from the pre-trained word2vec model. Vocabulary used to load the dataset can be specified during loading.\n",
        "\n",
        "The latter approach seems easier, especially because PyTorch `torchtext` framework contains built-in support for embeddings. "
      ]
    },
    {
      "cell_type": "markdown",
      "metadata": {
        "id": "2QZaJJPX3DC7"
      },
      "source": [
        "### GloVe Embeddings\n",
        "\n",
        "To load our dataset with the vocabulary from a pre-trained word2vec model, we use Glove embeddings. We'll start by instantiating GloVe-based vocabulary in the following manner:"
      ]
    },
    {
      "cell_type": "code",
      "execution_count": 10,
      "metadata": {
        "id": "RZetctdN3DC7",
        "colab": {
          "base_uri": "https://localhost:8080/"
        },
        "outputId": "681c12f9-3901-4dfe-ff60-9fa45a4ceb95"
      },
      "outputs": [
        {
          "output_type": "stream",
          "name": "stderr",
          "text": [
            ".vector_cache/glove.6B.zip: 862MB [02:41, 5.32MB/s]                           \n",
            "100%|█████████▉| 399999/400000 [00:08<00:00, 49524.09it/s]\n"
          ]
        }
      ],
      "source": [
        "vocab = torchtext.vocab.GloVe(name='6B', dim=50)"
      ]
    },
    {
      "cell_type": "markdown",
      "source": [
        "> 用时三分钟"
      ],
      "metadata": {
        "id": "kvga2o26Y43t"
      }
    },
    {
      "cell_type": "markdown",
      "metadata": {
        "id": "J8ZonfXi3DC7"
      },
      "source": [
        "Loaded vocabulary has the following basic operations:\n",
        "* `vocab.stoi` dictionary allows us to convert word into its dictionary index\n",
        "* `vocab.itos` does the opposite - converts number into word\n",
        "* `vocab.vectors` is the array of embedding vectors, so to get the embedding of a word we need to use `vocab.vectors[vocab.stoi[s]]`\n",
        "\n",
        "Here is the example of manipulating embeddings to demonstrate the equation **king-man+woman = queen** (the coefficient was tweak a bit to make it work):"
      ]
    },
    {
      "cell_type": "code",
      "execution_count": 11,
      "metadata": {
        "id": "BImveZJb3DC8",
        "outputId": "da2a7399-4e27-4260-d49e-b7ce903f011c",
        "colab": {
          "base_uri": "https://localhost:8080/",
          "height": 35
        }
      },
      "outputs": [
        {
          "output_type": "execute_result",
          "data": {
            "text/plain": [
              "'queen'"
            ],
            "application/vnd.google.colaboratory.intrinsic+json": {
              "type": "string"
            }
          },
          "metadata": {},
          "execution_count": 11
        }
      ],
      "source": [
        "# get the vector corresponding to kind-man+woman\n",
        "qvec = vocab.vectors[vocab.stoi['king']]-vocab.vectors[vocab.stoi['man']]+1.3*vocab.vectors[vocab.stoi['woman']]\n",
        "# find the index of the closest embedding vector \n",
        "d = torch.sum((vocab.vectors-qvec)**2,dim=1)\n",
        "min_idx = torch.argmin(d)\n",
        "# find the corresponding word\n",
        "vocab.itos[min_idx]"
      ]
    },
    {
      "cell_type": "code",
      "source": [
        "# 我们修改一下参数看会得到什么\n",
        "qvec = vocab.vectors[vocab.stoi['king']]-vocab.vectors[vocab.stoi['man']]+1*vocab.vectors[vocab.stoi['woman']]\n",
        "d = torch.sum((vocab.vectors-qvec)**2,dim=1)\n",
        "min_idx = torch.argmin(d)\n",
        "vocab.itos[min_idx]"
      ],
      "metadata": {
        "colab": {
          "base_uri": "https://localhost:8080/",
          "height": 35
        },
        "id": "8EjBqNqtZT2g",
        "outputId": "5466f8d6-74d7-4499-ad99-1150f092161b"
      },
      "execution_count": 12,
      "outputs": [
        {
          "output_type": "execute_result",
          "data": {
            "text/plain": [
              "'king'"
            ],
            "application/vnd.google.colaboratory.intrinsic+json": {
              "type": "string"
            }
          },
          "metadata": {},
          "execution_count": 12
        }
      ]
    },
    {
      "cell_type": "code",
      "source": [
        "# king man-- woman++ -->queen -->mother\n",
        "qvec = vocab.vectors[vocab.stoi['king']]-vocab.vectors[vocab.stoi['man']]+2*vocab.vectors[vocab.stoi['woman']]\n",
        "d = torch.sum((vocab.vectors-qvec)**2,dim=1)\n",
        "min_idx = torch.argmin(d)\n",
        "vocab.itos[min_idx]"
      ],
      "metadata": {
        "colab": {
          "base_uri": "https://localhost:8080/",
          "height": 35
        },
        "id": "sXmYVwvJZgti",
        "outputId": "6e6e6de1-151b-474f-801a-5fd634f29df9"
      },
      "execution_count": 13,
      "outputs": [
        {
          "output_type": "execute_result",
          "data": {
            "text/plain": [
              "'mother'"
            ],
            "application/vnd.google.colaboratory.intrinsic+json": {
              "type": "string"
            }
          },
          "metadata": {},
          "execution_count": 13
        }
      ]
    },
    {
      "cell_type": "code",
      "source": [
        "# king man-- woman++ -->queen -->mother -->woman\n",
        "qvec = vocab.vectors[vocab.stoi['king']]-vocab.vectors[vocab.stoi['man']]+3*vocab.vectors[vocab.stoi['woman']]\n",
        "d = torch.sum((vocab.vectors-qvec)**2,dim=1)\n",
        "min_idx = torch.argmin(d)\n",
        "vocab.itos[min_idx]"
      ],
      "metadata": {
        "colab": {
          "base_uri": "https://localhost:8080/",
          "height": 35
        },
        "id": "Z04sVFoTZzZ1",
        "outputId": "e1bec8fd-1e8a-413e-dde4-367d715906f9"
      },
      "execution_count": 14,
      "outputs": [
        {
          "output_type": "execute_result",
          "data": {
            "text/plain": [
              "'woman'"
            ],
            "application/vnd.google.colaboratory.intrinsic+json": {
              "type": "string"
            }
          },
          "metadata": {},
          "execution_count": 14
        }
      ]
    },
    {
      "cell_type": "code",
      "source": [
        "# king woman++ -->mother\n",
        "qvec = vocab.vectors[vocab.stoi['king']] + 1*vocab.vectors[vocab.stoi['woman']]\n",
        "d = torch.sum((vocab.vectors-qvec)**2,dim=1)\n",
        "min_idx = torch.argmin(d)\n",
        "vocab.itos[min_idx]"
      ],
      "metadata": {
        "colab": {
          "base_uri": "https://localhost:8080/",
          "height": 35
        },
        "id": "Li_QeqBjaBDv",
        "outputId": "abf4bb1c-3734-4bb1-8041-29feb0545595"
      },
      "execution_count": 18,
      "outputs": [
        {
          "output_type": "execute_result",
          "data": {
            "text/plain": [
              "'mother'"
            ],
            "application/vnd.google.colaboratory.intrinsic+json": {
              "type": "string"
            }
          },
          "metadata": {},
          "execution_count": 18
        }
      ]
    },
    {
      "cell_type": "markdown",
      "metadata": {
        "id": "UdxzpSST3DC8"
      },
      "source": [
        "To train the classifier using those embeddings, we first need to encode our dataset using GloVe vocabulary:"
      ]
    },
    {
      "cell_type": "code",
      "execution_count": 19,
      "metadata": {
        "id": "9JEbKi5g3DC8"
      },
      "outputs": [],
      "source": [
        "def offsetify(b):\n",
        "    # first, compute data tensor from all sequences\n",
        "    x = [torch.tensor(encode(t[1],voc=vocab)) for t in b] # pass the instance of vocab to encode function!\n",
        "    # now, compute the offsets by accumulating the tensor of sequence lengths\n",
        "    o = [0] + [len(t) for t in x]\n",
        "    o = torch.tensor(o[:-1]).cumsum(dim=0)\n",
        "    return ( \n",
        "        torch.LongTensor([t[0]-1 for t in b]), # labels\n",
        "        torch.cat(x), # text \n",
        "        o\n",
        "    )"
      ]
    },
    {
      "cell_type": "markdown",
      "metadata": {
        "id": "BuVRrgoF3DC8"
      },
      "source": [
        "As we have seen above, all vector embeddings are stored in `vocab.vectors` matrix. It makes it super-easy to load those weights into weights of embedding layer using simple copying:"
      ]
    },
    {
      "cell_type": "code",
      "execution_count": 20,
      "metadata": {
        "id": "77OxbwAY3DC8"
      },
      "outputs": [],
      "source": [
        "net = EmbedClassifier(len(vocab),len(vocab.vectors[0]),len(classes))\n",
        "net.embedding.weight.data = vocab.vectors\n",
        "net = net.to(device)"
      ]
    },
    {
      "cell_type": "markdown",
      "metadata": {
        "id": "Nug_ICSn3DC8"
      },
      "source": [
        "Now let's train our model and see if we get better results:"
      ]
    },
    {
      "cell_type": "code",
      "execution_count": 21,
      "metadata": {
        "id": "tOHzMAHd3DC8",
        "outputId": "7a973dec-6f2d-45ac-d783-8578ccbb1d92",
        "colab": {
          "base_uri": "https://localhost:8080/"
        }
      },
      "outputs": [
        {
          "output_type": "stream",
          "name": "stdout",
          "text": [
            "3200: acc=0.654375\n",
            "6400: acc=0.6890625\n",
            "9600: acc=0.7139583333333334\n",
            "12800: acc=0.724765625\n",
            "16000: acc=0.737625\n",
            "19200: acc=0.7423958333333334\n",
            "22400: acc=0.7494196428571429\n"
          ]
        },
        {
          "output_type": "execute_result",
          "data": {
            "text/plain": [
              "(37.06449686100448, 0.7555982085732565)"
            ]
          },
          "metadata": {},
          "execution_count": 21
        }
      ],
      "source": [
        "train_loader = torch.utils.data.DataLoader(train_dataset, batch_size=16, collate_fn=offsetify, shuffle=True)\n",
        "train_epoch_emb(net,train_loader, lr=4, epoch_size=25000)"
      ]
    },
    {
      "cell_type": "code",
      "source": [
        "train_epoch_emb(net,train_loader, lr=0.05, epoch_size=25000)"
      ],
      "metadata": {
        "colab": {
          "base_uri": "https://localhost:8080/"
        },
        "id": "Iubn0YQla1G4",
        "outputId": "3f1848c4-08eb-4149-b78d-b074eb5cb979"
      },
      "execution_count": 27,
      "outputs": [
        {
          "output_type": "stream",
          "name": "stdout",
          "text": [
            "3200: acc=0.8921875\n",
            "6400: acc=0.88796875\n",
            "9600: acc=0.8894791666666667\n",
            "12800: acc=0.891328125\n",
            "16000: acc=0.89025\n",
            "19200: acc=0.8896875\n",
            "22400: acc=0.8884821428571429\n"
          ]
        },
        {
          "output_type": "execute_result",
          "data": {
            "text/plain": [
              "(0.7646954537048145, 0.8876759436980166)"
            ]
          },
          "metadata": {},
          "execution_count": 27
        }
      ]
    },
    {
      "cell_type": "markdown",
      "metadata": {
        "id": "iTWCBEVz3DC8"
      },
      "source": [
        "One of the reasons we are not seeing a significant increase in accuracy is due to the fact that some words from our dataset are missing in the pre-trained GloVe vocabulary, and thus they are essentially ignored. To overcome this fact, we can train our own embeddings on our dataset."
      ]
    },
    {
      "cell_type": "markdown",
      "metadata": {
        "id": "GsXKGImw3DC8"
      },
      "source": [
        "## Contextual Embeddings\n",
        "\n",
        "One key limitation of traditional pretrained embedding representations such as Word2Vec is the problem of word sense and removing ambiguity by making them clear. While pretrained embeddings can capture some of the meaning of words in context, every possible meaning of a word is encoded into the same embedding. This can cause problems in downstream models, since many words such as the word 'play' have different meanings depending on the context they are used in.\n",
        "\n",
        "For example, the word 'play' in these two different sentences have quite different meaning:\n",
        "- I went to a **play** at the theatre.\n",
        "- John wants to **play** with his friends.\n",
        "\n",
        "The pretrained embeddings above represent both meanings of the word 'play' in the same embedding. To overcome this limitation, we need to build embeddings based on the **language model**, which is trained on a large corpus of text, and *knows* how words can be put together in different contexts. Discussing contextual embeddings is out of scope for this tutorial, but we will come back to them when talking about language models in the next unit.\n"
      ]
    },
    {
      "cell_type": "markdown",
      "source": [
        "> 上下文有关的embedding"
      ],
      "metadata": {
        "id": "EQrmtpjocMZ6"
      }
    }
  ],
  "metadata": {
    "colab": {
      "provenance": []
    },
    "gpuClass": "standard",
    "kernelspec": {
      "display_name": "Python 3",
      "name": "python3"
    },
    "language_info": {
      "name": "python"
    },
    "nteract": {
      "version": "nteract-front-end@1.0.0"
    },
    "accelerator": "GPU"
  },
  "nbformat": 4,
  "nbformat_minor": 0
}